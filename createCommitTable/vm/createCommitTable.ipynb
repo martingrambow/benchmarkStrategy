{
 "cells": [
  {
   "cell_type": "markdown",
   "source": [
    "# Creating commit tables for VM\n",
    "\n",
    "Note: you should first clone VictoriaMetrics to your home directory"
   ],
   "metadata": {}
  },
  {
   "cell_type": "code",
   "execution_count": 138,
   "source": [
    "import pandas as pd"
   ],
   "outputs": [],
   "metadata": {}
  },
  {
   "cell_type": "markdown",
   "source": [
    "We print log for commits between May 1, 2021(including) and May 31, 2021(including) that contain functional changes(commit message does not contain \"doc\")"
   ],
   "metadata": {}
  },
  {
   "cell_type": "code",
   "execution_count": 139,
   "source": [
    "db_pwd = \"~/VictoriaMetrics/\"\n",
    "pwd_output = !pwd\n",
    "current_dir = pwd_output[0]\n",
    "filter_params = '--since \"FEBRUARY 28 2021\" --until \"JUNE 1 2021\" --pretty=format:\"%h; %cd; %s\"  --grep=\"(#\" --regexp-ignore-case'\n"
   ],
   "outputs": [],
   "metadata": {}
  },
  {
   "cell_type": "code",
   "execution_count": 140,
   "source": [
    "!cd {db_pwd} && git log --oneline {filter_params} | wc -l"
   ],
   "outputs": [
    {
     "output_type": "stream",
     "name": "stdout",
     "text": [
      "/bin/bash: line 0: cd: /home/loposkin/VictoriaMetrics/: No such file or directory\n"
     ]
    }
   ],
   "metadata": {}
  },
  {
   "cell_type": "markdown",
   "source": [
    "We have 86 commits that contain functional changes, pull request are squashed before merge, so we do not need to exclude something else.\n",
    "\n",
    "Let's save these commits as commits.csv"
   ],
   "metadata": {}
  },
  {
   "cell_type": "code",
   "execution_count": 141,
   "source": [
    "!cd {db_pwd} && git log {filter_params} > {current_dir}/commits.csv"
   ],
   "outputs": [
    {
     "output_type": "stream",
     "name": "stdout",
     "text": [
      "/bin/bash: line 0: cd: /home/loposkin/VictoriaMetrics/: No such file or directory\n"
     ]
    }
   ],
   "metadata": {}
  },
  {
   "cell_type": "markdown",
   "source": [
    "Process data and format it to `number (recent commits at the top); version1 hash (new); version2 hash (old); date (optional, for debugging); subject (optional, for debugging)`"
   ],
   "metadata": {}
  },
  {
   "cell_type": "code",
   "execution_count": 142,
   "source": [
    "df = pd.read_csv('commits.csv', sep=';', names=[\"hash\", \"date\", \"message\"])\n",
    "df = df.reindex(index=df.index[::-1])\n",
    "df.reset_index(inplace=True, drop=True)\n",
    "df = df.reindex(index=df.index[::-1])\n",
    "df.head()"
   ],
   "outputs": [
    {
     "output_type": "execute_result",
     "data": {
      "text/html": [
       "<div>\n",
       "<style scoped>\n",
       "    .dataframe tbody tr th:only-of-type {\n",
       "        vertical-align: middle;\n",
       "    }\n",
       "\n",
       "    .dataframe tbody tr th {\n",
       "        vertical-align: top;\n",
       "    }\n",
       "\n",
       "    .dataframe thead th {\n",
       "        text-align: right;\n",
       "    }\n",
       "</style>\n",
       "<table border=\"1\" class=\"dataframe\">\n",
       "  <thead>\n",
       "    <tr style=\"text-align: right;\">\n",
       "      <th></th>\n",
       "      <th>hash</th>\n",
       "      <th>date</th>\n",
       "      <th>message</th>\n",
       "    </tr>\n",
       "  </thead>\n",
       "  <tbody>\n",
       "    <tr>\n",
       "      <th>69</th>\n",
       "      <td>ddc80227</td>\n",
       "      <td>Mon May 31 09:21:23 2021 +0300</td>\n",
       "      <td>fixes solaris build (#1345)</td>\n",
       "    </tr>\n",
       "    <tr>\n",
       "      <th>68</th>\n",
       "      <td>f0c21b63</td>\n",
       "      <td>Thu May 27 14:52:44 2021 +0300</td>\n",
       "      <td>lib/promscrape: apply body size &amp; sample limi...</td>\n",
       "    </tr>\n",
       "    <tr>\n",
       "      <th>67</th>\n",
       "      <td>2bbb1cc7</td>\n",
       "      <td>Wed May 26 12:28:58 2021 +0300</td>\n",
       "      <td>Docs review (#1330)</td>\n",
       "    </tr>\n",
       "    <tr>\n",
       "      <th>66</th>\n",
       "      <td>7ecaa2fe</td>\n",
       "      <td>Wed May 26 12:26:45 2021 +0300</td>\n",
       "      <td>update the issue template (#1329)</td>\n",
       "    </tr>\n",
       "    <tr>\n",
       "      <th>65</th>\n",
       "      <td>d210958f</td>\n",
       "      <td>Tue May 25 14:27:22 2021 +0100</td>\n",
       "      <td>vmalert: automatically reload configuration o...</td>\n",
       "    </tr>\n",
       "  </tbody>\n",
       "</table>\n",
       "</div>"
      ],
      "text/plain": [
       "        hash                             date  \\\n",
       "69  ddc80227   Mon May 31 09:21:23 2021 +0300   \n",
       "68  f0c21b63   Thu May 27 14:52:44 2021 +0300   \n",
       "67  2bbb1cc7   Wed May 26 12:28:58 2021 +0300   \n",
       "66  7ecaa2fe   Wed May 26 12:26:45 2021 +0300   \n",
       "65  d210958f   Tue May 25 14:27:22 2021 +0100   \n",
       "\n",
       "                                              message  \n",
       "69                        fixes solaris build (#1345)  \n",
       "68   lib/promscrape: apply body size & sample limi...  \n",
       "67                                Docs review (#1330)  \n",
       "66                  update the issue template (#1329)  \n",
       "65   vmalert: automatically reload configuration o...  "
      ]
     },
     "metadata": {},
     "execution_count": 142
    }
   ],
   "metadata": {}
  },
  {
   "cell_type": "code",
   "execution_count": 143,
   "source": [
    "df['new_version'] = df.hash.copy()\n",
    "df['baseline'] = df.hash[0]\n",
    "df = df.drop(df.index[-1])\n",
    "df.tail()"
   ],
   "outputs": [
    {
     "output_type": "execute_result",
     "data": {
      "text/html": [
       "<div>\n",
       "<style scoped>\n",
       "    .dataframe tbody tr th:only-of-type {\n",
       "        vertical-align: middle;\n",
       "    }\n",
       "\n",
       "    .dataframe tbody tr th {\n",
       "        vertical-align: top;\n",
       "    }\n",
       "\n",
       "    .dataframe thead th {\n",
       "        text-align: right;\n",
       "    }\n",
       "</style>\n",
       "<table border=\"1\" class=\"dataframe\">\n",
       "  <thead>\n",
       "    <tr style=\"text-align: right;\">\n",
       "      <th></th>\n",
       "      <th>hash</th>\n",
       "      <th>date</th>\n",
       "      <th>message</th>\n",
       "      <th>new_version</th>\n",
       "      <th>baseline</th>\n",
       "    </tr>\n",
       "  </thead>\n",
       "  <tbody>\n",
       "    <tr>\n",
       "      <th>5</th>\n",
       "      <td>433fff00</td>\n",
       "      <td>Tue Mar 9 12:26:23 2021 +0200</td>\n",
       "      <td>duplicate timeseries fix for prometheus_bucke...</td>\n",
       "      <td>433fff00</td>\n",
       "      <td>f6114345</td>\n",
       "    </tr>\n",
       "    <tr>\n",
       "      <th>4</th>\n",
       "      <td>364fdf4a</td>\n",
       "      <td>Tue Mar 9 09:18:19 2021 +0200</td>\n",
       "      <td>spelling fix: adjacent (#1115)</td>\n",
       "      <td>364fdf4a</td>\n",
       "      <td>f6114345</td>\n",
       "    </tr>\n",
       "    <tr>\n",
       "      <th>3</th>\n",
       "      <td>621bf037</td>\n",
       "      <td>Wed Mar 3 10:51:51 2021 +0200</td>\n",
       "      <td>Vmagent docs upd (#1104)</td>\n",
       "      <td>621bf037</td>\n",
       "      <td>f6114345</td>\n",
       "    </tr>\n",
       "    <tr>\n",
       "      <th>2</th>\n",
       "      <td>e154f4a6</td>\n",
       "      <td>Wed Mar 3 10:43:39 2021 +0200</td>\n",
       "      <td>Fix ingress discovery api (#1110)</td>\n",
       "      <td>e154f4a6</td>\n",
       "      <td>f6114345</td>\n",
       "    </tr>\n",
       "    <tr>\n",
       "      <th>1</th>\n",
       "      <td>f4f8f218</td>\n",
       "      <td>Wed Mar 3 07:46:10 2021 +0000</td>\n",
       "      <td>vmalert: docs update - status endpoint needs ...</td>\n",
       "      <td>f4f8f218</td>\n",
       "      <td>f6114345</td>\n",
       "    </tr>\n",
       "  </tbody>\n",
       "</table>\n",
       "</div>"
      ],
      "text/plain": [
       "       hash                            date  \\\n",
       "5  433fff00   Tue Mar 9 12:26:23 2021 +0200   \n",
       "4  364fdf4a   Tue Mar 9 09:18:19 2021 +0200   \n",
       "3  621bf037   Wed Mar 3 10:51:51 2021 +0200   \n",
       "2  e154f4a6   Wed Mar 3 10:43:39 2021 +0200   \n",
       "1  f4f8f218   Wed Mar 3 07:46:10 2021 +0000   \n",
       "\n",
       "                                             message new_version  baseline  \n",
       "5   duplicate timeseries fix for prometheus_bucke...    433fff00  f6114345  \n",
       "4                     spelling fix: adjacent (#1115)    364fdf4a  f6114345  \n",
       "3                           Vmagent docs upd (#1104)    621bf037  f6114345  \n",
       "2                  Fix ingress discovery api (#1110)    e154f4a6  f6114345  \n",
       "1   vmalert: docs update - status endpoint needs ...    f4f8f218  f6114345  "
      ]
     },
     "metadata": {},
     "execution_count": 143
    }
   ],
   "metadata": {}
  },
  {
   "cell_type": "code",
   "execution_count": 144,
   "source": [
    "df = df[['new_version', 'baseline', 'date', 'message']]\n",
    "df.head()"
   ],
   "outputs": [
    {
     "output_type": "execute_result",
     "data": {
      "text/html": [
       "<div>\n",
       "<style scoped>\n",
       "    .dataframe tbody tr th:only-of-type {\n",
       "        vertical-align: middle;\n",
       "    }\n",
       "\n",
       "    .dataframe tbody tr th {\n",
       "        vertical-align: top;\n",
       "    }\n",
       "\n",
       "    .dataframe thead th {\n",
       "        text-align: right;\n",
       "    }\n",
       "</style>\n",
       "<table border=\"1\" class=\"dataframe\">\n",
       "  <thead>\n",
       "    <tr style=\"text-align: right;\">\n",
       "      <th></th>\n",
       "      <th>new_version</th>\n",
       "      <th>baseline</th>\n",
       "      <th>date</th>\n",
       "      <th>message</th>\n",
       "    </tr>\n",
       "  </thead>\n",
       "  <tbody>\n",
       "    <tr>\n",
       "      <th>69</th>\n",
       "      <td>ddc80227</td>\n",
       "      <td>f6114345</td>\n",
       "      <td>Mon May 31 09:21:23 2021 +0300</td>\n",
       "      <td>fixes solaris build (#1345)</td>\n",
       "    </tr>\n",
       "    <tr>\n",
       "      <th>68</th>\n",
       "      <td>f0c21b63</td>\n",
       "      <td>f6114345</td>\n",
       "      <td>Thu May 27 14:52:44 2021 +0300</td>\n",
       "      <td>lib/promscrape: apply body size &amp; sample limi...</td>\n",
       "    </tr>\n",
       "    <tr>\n",
       "      <th>67</th>\n",
       "      <td>2bbb1cc7</td>\n",
       "      <td>f6114345</td>\n",
       "      <td>Wed May 26 12:28:58 2021 +0300</td>\n",
       "      <td>Docs review (#1330)</td>\n",
       "    </tr>\n",
       "    <tr>\n",
       "      <th>66</th>\n",
       "      <td>7ecaa2fe</td>\n",
       "      <td>f6114345</td>\n",
       "      <td>Wed May 26 12:26:45 2021 +0300</td>\n",
       "      <td>update the issue template (#1329)</td>\n",
       "    </tr>\n",
       "    <tr>\n",
       "      <th>65</th>\n",
       "      <td>d210958f</td>\n",
       "      <td>f6114345</td>\n",
       "      <td>Tue May 25 14:27:22 2021 +0100</td>\n",
       "      <td>vmalert: automatically reload configuration o...</td>\n",
       "    </tr>\n",
       "  </tbody>\n",
       "</table>\n",
       "</div>"
      ],
      "text/plain": [
       "   new_version  baseline                             date  \\\n",
       "69    ddc80227  f6114345   Mon May 31 09:21:23 2021 +0300   \n",
       "68    f0c21b63  f6114345   Thu May 27 14:52:44 2021 +0300   \n",
       "67    2bbb1cc7  f6114345   Wed May 26 12:28:58 2021 +0300   \n",
       "66    7ecaa2fe  f6114345   Wed May 26 12:26:45 2021 +0300   \n",
       "65    d210958f  f6114345   Tue May 25 14:27:22 2021 +0100   \n",
       "\n",
       "                                              message  \n",
       "69                        fixes solaris build (#1345)  \n",
       "68   lib/promscrape: apply body size & sample limi...  \n",
       "67                                Docs review (#1330)  \n",
       "66                  update the issue template (#1329)  \n",
       "65   vmalert: automatically reload configuration o...  "
      ]
     },
     "metadata": {},
     "execution_count": 144
    }
   ],
   "metadata": {}
  },
  {
   "cell_type": "markdown",
   "source": [
    "## Save table with every commit"
   ],
   "metadata": {}
  },
  {
   "cell_type": "code",
   "execution_count": 145,
   "source": [
    "df.to_csv('commitTable.csv',index_label='number',sep=';')\n",
    "\n",
    "# df = df.sample(n=5, random_state=123)\n",
    "# df.to_csv('commitTableTest.csv',index_label='number',sep=';')"
   ],
   "outputs": [],
   "metadata": {}
  },
  {
   "cell_type": "markdown",
   "source": [
    "## Save table with every 5th commit"
   ],
   "metadata": {}
  },
  {
   "cell_type": "code",
   "execution_count": 146,
   "source": [
    "df_copy = df[::-5][::-1]\n",
    "df_copy.to_csv('commitTable_short.csv',index_label='number',sep=';')"
   ],
   "outputs": [],
   "metadata": {}
  },
  {
   "cell_type": "markdown",
   "source": [
    "## Save table with 5 entries for 0th commit(for AA tests)"
   ],
   "metadata": {}
  },
  {
   "cell_type": "code",
   "execution_count": 147,
   "source": [
    "df_copy = df.loc[1:1].copy()\n",
    "df_copy.new_version = df_copy.baseline\n",
    "df_copy.message = 'AA-Test, baseline'\n",
    "df_copy = pd.concat([df_copy] * 5, ignore_index=True)\n",
    "df_copy.index = df_copy.index + 1\n",
    "df_copy = df_copy[::-1]\n",
    "df_copy.to_csv('commitTable_AA.csv',index_label='number',sep=';')"
   ],
   "outputs": [],
   "metadata": {}
  },
  {
   "cell_type": "code",
   "execution_count": null,
   "source": [],
   "outputs": [],
   "metadata": {}
  }
 ],
 "metadata": {
  "kernelspec": {
   "name": "python3",
   "display_name": "Python 3.8.10 64-bit ('env': venv)"
  },
  "language_info": {
   "codemirror_mode": {
    "name": "ipython",
    "version": 3
   },
   "file_extension": ".py",
   "mimetype": "text/x-python",
   "name": "python",
   "nbconvert_exporter": "python",
   "pygments_lexer": "ipython3",
   "version": "3.8.10"
  },
  "interpreter": {
   "hash": "d66d6b08fe58b329152bac548c9eade7eaa4839341ff9c060dccc73094c59e94"
  }
 },
 "nbformat": 4,
 "nbformat_minor": 5
}