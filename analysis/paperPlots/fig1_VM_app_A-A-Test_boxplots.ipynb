{
 "cells": [
  {
   "cell_type": "code",
   "execution_count": 10,
   "metadata": {
    "collapsed": true
   },
   "outputs": [],
   "source": [
    "import pandas as pd\n",
    "import glob\n",
    "import matplotlib.pyplot as plt\n",
    "import seaborn as sns\n",
    "sns.set()\n"
   ]
  },
  {
   "cell_type": "code",
   "execution_count": 11,
   "outputs": [],
   "source": [
    "run = 5\n",
    "number = 1"
   ],
   "metadata": {
    "collapsed": false,
    "pycharm": {
     "name": "#%%\n"
    }
   }
  },
  {
   "cell_type": "code",
   "execution_count": 12,
   "outputs": [
    {
     "name": "stdout",
     "output_type": "stream",
     "text": [
      "../../resultsVm/run5/1/\n"
     ]
    }
   ],
   "source": [
    "#folder = \"../../../\" + sut + \"/appBenchmark/results/run\" + str(run) + \"/\" + str(number) + \"/\"\n",
    "#folder = \"../../../../../results/run\" + str(run) + \"/\" + str(number) + \"/\"\n",
    "folder = \"../../resultsVm/run\" + str(run) + \"/\" + str(number) + \"/\"\n",
    "print(folder)"
   ],
   "metadata": {
    "collapsed": false,
    "pycharm": {
     "name": "#%%\n"
    }
   }
  },
  {
   "cell_type": "code",
   "execution_count": 13,
   "outputs": [
    {
     "name": "stdout",
     "output_type": "stream",
     "text": [
      "Files in folder:\n",
      "../../resultsVm/run5/1\\getResults.log\n",
      "../../resultsVm/run5/1\\info.log\n",
      "../../resultsVm/run5/1\\latenciesInsertsNew.csv\n",
      "../../resultsVm/run5/1\\latenciesInsertsOld.csv\n",
      "../../resultsVm/run5/1\\latenciesQueries1New.csv\n",
      "../../resultsVm/run5/1\\latenciesQueries1Old.csv\n",
      "../../resultsVm/run5/1\\latenciesQueries2New.csv\n",
      "../../resultsVm/run5/1\\latenciesQueries2Old.csv\n",
      "../../resultsVm/run5/1\\logInsertsNew.log\n",
      "../../resultsVm/run5/1\\logInsertsOld.log\n",
      "../../resultsVm/run5/1\\logQueries1New.log\n",
      "../../resultsVm/run5/1\\logQueries1Old.log\n",
      "../../resultsVm/run5/1\\logQueries2New.log\n",
      "../../resultsVm/run5/1\\logQueries2Old.log\n",
      "../../resultsVm/run5/1\\new_version_container.log\n",
      "../../resultsVm/run5/1\\old_version_container.log\n",
      "../../resultsVm/run5/1\\runBenchmark.log\n",
      "../../resultsVm/run5/1\\start_tsbs-r5n1.log\n",
      "../../resultsVm/run5/1\\start_vm-r5n1.log\n",
      "../../resultsVm/run5/1\\teardown.log\n"
     ]
    }
   ],
   "source": [
    "all_files = glob.glob(folder + \"*\")\n",
    "print(\"Files in folder:\")\n",
    "for filename in all_files:\n",
    "    print(filename)"
   ],
   "metadata": {
    "collapsed": false,
    "pycharm": {
     "name": "#%%\n"
    }
   }
  },
  {
   "cell_type": "code",
   "execution_count": 14,
   "outputs": [
    {
     "name": "stdout",
     "output_type": "stream",
     "text": [
      "Done.\n"
     ]
    }
   ],
   "source": [
    "insertsOld = pd.read_csv(folder + \"latenciesInsertsOld.csv\",\n",
    "                         header=None,\n",
    "                         names=[\"batch\",\"latency (ms)\"],\n",
    "                         sep=\" \")\n",
    "number = len(insertsOld.index)\n",
    "removeFirst = int(0.05 * number)\n",
    "removeLast = int(0.25 * number)\n",
    "insertsOld = insertsOld.iloc[removeFirst:removeLast , :]\n",
    "\n",
    "insertsNew = pd.read_csv(folder + \"latenciesInsertsNew.csv\",\n",
    "                         header=None,\n",
    "                         names=[\"batch\",\"latency (ms)\"],\n",
    "                         sep=\" \")\n",
    "number = len(insertsNew.index)\n",
    "removeFirst = int(0.05 * number)\n",
    "removeLast = int(0.25 * number)\n",
    "insertsNew = insertsNew.iloc[removeFirst:removeLast , :]\n",
    "\n",
    "queries1Old = pd.read_csv(folder + \"latenciesQueries1Old.csv\",\n",
    "                         header=None,\n",
    "                         names=[\"query\",\"latency (ms)\"],\n",
    "                         sep=\" \")\n",
    "number = len(queries1Old.index)\n",
    "removeFirst = int(0.05 * number)\n",
    "removeLast = int(0.25 * number)\n",
    "queries1Old = queries1Old.iloc[removeFirst:removeLast , :]\n",
    "\n",
    "queries1New = pd.read_csv(folder + \"latenciesQueries1New.csv\",\n",
    "                         header=None,\n",
    "                         names=[\"query\",\"latency (ms)\"],\n",
    "                         sep=\" \")\n",
    "number = len(queries1New.index)\n",
    "removeFirst = int(0.05 * number)\n",
    "removeLast = int(0.25 * number)\n",
    "queries1New = queries1New.iloc[removeFirst:removeLast , :]\n",
    "\n",
    "queries2Old = pd.read_csv(folder + \"latenciesQueries2Old.csv\",\n",
    "                         header=None,\n",
    "                         names=[\"query\",\"latency (ms)\"],\n",
    "                         sep=\" \")\n",
    "number = len(queries2Old.index)\n",
    "removeFirst = int(0.05 * number)\n",
    "removeLast = int(0.25 * number)\n",
    "queries2Old = queries2Old.iloc[removeFirst:removeLast , :]\n",
    "\n",
    "queries2New = pd.read_csv(folder + \"latenciesQueries2New.csv\",\n",
    "                         header=None,\n",
    "                         names=[\"query\",\"latency (ms)\"],\n",
    "                         sep=\" \")\n",
    "number = len(queries2New.index)\n",
    "removeFirst = int(0.05 * number)\n",
    "removeLast = int(0.25 * number)\n",
    "queries2New = queries2New.iloc[removeFirst:removeLast , :]\n",
    "\n",
    "#queries1Old.drop(queries1Old[queries1Old[\"query\"] > 1100].index, inplace=True)\n",
    "#queries1New.drop(queries1New[queries1New[\"query\"] > 1100].index, inplace=True)\n",
    "#queries2Old.drop(queries2Old[queries2Old[\"query\"] > 1100].index, inplace=True)\n",
    "#queries2New.drop(queries2New[queries2New[\"query\"] > 1100].index, inplace=True)\n",
    "\n",
    "print(\"Done.\")"
   ],
   "metadata": {
    "collapsed": false,
    "pycharm": {
     "name": "#%%\n"
    }
   }
  },
  {
   "cell_type": "code",
   "execution_count": 15,
   "outputs": [
    {
     "data": {
      "text/plain": "              batch  latency (ms)\ncount  51840.000000  51840.000000\nmean   38880.500000      3.508366\nstd    14965.063314      5.140828\nmin    12961.000000      1.014701\n25%    25920.750000      1.601310\n50%    38880.500000      1.957985\n75%    51840.250000      2.969491\nmax    64800.000000     82.354568",
      "text/html": "<div>\n<style scoped>\n    .dataframe tbody tr th:only-of-type {\n        vertical-align: middle;\n    }\n\n    .dataframe tbody tr th {\n        vertical-align: top;\n    }\n\n    .dataframe thead th {\n        text-align: right;\n    }\n</style>\n<table border=\"1\" class=\"dataframe\">\n  <thead>\n    <tr style=\"text-align: right;\">\n      <th></th>\n      <th>batch</th>\n      <th>latency (ms)</th>\n    </tr>\n  </thead>\n  <tbody>\n    <tr>\n      <th>count</th>\n      <td>51840.000000</td>\n      <td>51840.000000</td>\n    </tr>\n    <tr>\n      <th>mean</th>\n      <td>38880.500000</td>\n      <td>3.508366</td>\n    </tr>\n    <tr>\n      <th>std</th>\n      <td>14965.063314</td>\n      <td>5.140828</td>\n    </tr>\n    <tr>\n      <th>min</th>\n      <td>12961.000000</td>\n      <td>1.014701</td>\n    </tr>\n    <tr>\n      <th>25%</th>\n      <td>25920.750000</td>\n      <td>1.601310</td>\n    </tr>\n    <tr>\n      <th>50%</th>\n      <td>38880.500000</td>\n      <td>1.957985</td>\n    </tr>\n    <tr>\n      <th>75%</th>\n      <td>51840.250000</td>\n      <td>2.969491</td>\n    </tr>\n    <tr>\n      <th>max</th>\n      <td>64800.000000</td>\n      <td>82.354568</td>\n    </tr>\n  </tbody>\n</table>\n</div>"
     },
     "execution_count": 15,
     "metadata": {},
     "output_type": "execute_result"
    }
   ],
   "source": [
    "insertsOld.describe()"
   ],
   "metadata": {
    "collapsed": false,
    "pycharm": {
     "name": "#%%\n"
    }
   }
  },
  {
   "cell_type": "code",
   "execution_count": 16,
   "outputs": [
    {
     "data": {
      "text/plain": "              batch  latency (ms)\ncount  51840.000000  51840.000000\nmean   38880.500000      3.164512\nstd    14965.063314      4.856718\nmin    12961.000000      0.967361\n25%    25920.750000      1.545373\n50%    38880.500000      1.834925\n75%    51840.250000      2.626942\nmax    64800.000000     84.578144",
      "text/html": "<div>\n<style scoped>\n    .dataframe tbody tr th:only-of-type {\n        vertical-align: middle;\n    }\n\n    .dataframe tbody tr th {\n        vertical-align: top;\n    }\n\n    .dataframe thead th {\n        text-align: right;\n    }\n</style>\n<table border=\"1\" class=\"dataframe\">\n  <thead>\n    <tr style=\"text-align: right;\">\n      <th></th>\n      <th>batch</th>\n      <th>latency (ms)</th>\n    </tr>\n  </thead>\n  <tbody>\n    <tr>\n      <th>count</th>\n      <td>51840.000000</td>\n      <td>51840.000000</td>\n    </tr>\n    <tr>\n      <th>mean</th>\n      <td>38880.500000</td>\n      <td>3.164512</td>\n    </tr>\n    <tr>\n      <th>std</th>\n      <td>14965.063314</td>\n      <td>4.856718</td>\n    </tr>\n    <tr>\n      <th>min</th>\n      <td>12961.000000</td>\n      <td>0.967361</td>\n    </tr>\n    <tr>\n      <th>25%</th>\n      <td>25920.750000</td>\n      <td>1.545373</td>\n    </tr>\n    <tr>\n      <th>50%</th>\n      <td>38880.500000</td>\n      <td>1.834925</td>\n    </tr>\n    <tr>\n      <th>75%</th>\n      <td>51840.250000</td>\n      <td>2.626942</td>\n    </tr>\n    <tr>\n      <th>max</th>\n      <td>64800.000000</td>\n      <td>84.578144</td>\n    </tr>\n  </tbody>\n</table>\n</div>"
     },
     "execution_count": 16,
     "metadata": {},
     "output_type": "execute_result"
    }
   ],
   "source": [
    "insertsNew.describe()\n"
   ],
   "metadata": {
    "collapsed": false,
    "pycharm": {
     "name": "#%%\n"
    }
   }
  },
  {
   "cell_type": "code",
   "execution_count": 17,
   "outputs": [
    {
     "data": {
      "text/plain": "       latency (ms)\ncount    576.000000\nmean    3574.718119\nstd      493.314261\nmin     1827.324705\n25%     3213.495625\n50%     3545.049156\n75%     3938.054047\nmax     4996.126551",
      "text/html": "<div>\n<style scoped>\n    .dataframe tbody tr th:only-of-type {\n        vertical-align: middle;\n    }\n\n    .dataframe tbody tr th {\n        vertical-align: top;\n    }\n\n    .dataframe thead th {\n        text-align: right;\n    }\n</style>\n<table border=\"1\" class=\"dataframe\">\n  <thead>\n    <tr style=\"text-align: right;\">\n      <th></th>\n      <th>latency (ms)</th>\n    </tr>\n  </thead>\n  <tbody>\n    <tr>\n      <th>count</th>\n      <td>576.000000</td>\n    </tr>\n    <tr>\n      <th>mean</th>\n      <td>3574.718119</td>\n    </tr>\n    <tr>\n      <th>std</th>\n      <td>493.314261</td>\n    </tr>\n    <tr>\n      <th>min</th>\n      <td>1827.324705</td>\n    </tr>\n    <tr>\n      <th>25%</th>\n      <td>3213.495625</td>\n    </tr>\n    <tr>\n      <th>50%</th>\n      <td>3545.049156</td>\n    </tr>\n    <tr>\n      <th>75%</th>\n      <td>3938.054047</td>\n    </tr>\n    <tr>\n      <th>max</th>\n      <td>4996.126551</td>\n    </tr>\n  </tbody>\n</table>\n</div>"
     },
     "execution_count": 17,
     "metadata": {},
     "output_type": "execute_result"
    }
   ],
   "source": [
    "rows = []\n",
    "for lat in insertsOld[\"latency (ms)\"]:\n",
    "    rows.append({\n",
    "        \"type\" : \"inserts\",\n",
    "        \"version\" : \"base\",\n",
    "        \"latency (ms)\" : lat\n",
    "    })\n",
    "for lat in insertsNew[\"latency (ms)\"]:\n",
    "    rows.append({\n",
    "        \"type\" : \"inserts\",\n",
    "        \"version\" : \"variation\",\n",
    "        \"latency (ms)\" : lat\n",
    "    })\n",
    "\n",
    "df_result_inserts = pd.DataFrame(rows)\n",
    "df_result_inserts.describe()\n",
    "\n",
    "rows = []\n",
    "for lat in queries1Old[\"latency (ms)\"]:\n",
    "    rows.append({\n",
    "        \"type\" : \"simple queries\",\n",
    "        \"version\" : \"base\",\n",
    "        \"latency (ms)\" : lat\n",
    "    })\n",
    "for lat in queries1New[\"latency (ms)\"]:\n",
    "    rows.append({\n",
    "        \"type\" : \"simple queries\",\n",
    "        \"version\" : \"variation\",\n",
    "        \"latency (ms)\" : lat\n",
    "    })\n",
    "\n",
    "df_result_queries1 = pd.DataFrame(rows)\n",
    "df_result_queries1.describe()\n",
    "\n",
    "rows = []\n",
    "for lat in queries2Old[\"latency (ms)\"]:\n",
    "    rows.append({\n",
    "        \"type\" : \"group-by queries\",\n",
    "        \"version\" : \"base\",\n",
    "        \"latency (ms)\" : lat\n",
    "    })\n",
    "for lat in queries2New[\"latency (ms)\"]:\n",
    "    rows.append({\n",
    "        \"type\" : \"group-by queries\",\n",
    "        \"version\" : \"variation\",\n",
    "        \"latency (ms)\" : lat\n",
    "    })\n",
    "\n",
    "df_result_queries2 = pd.DataFrame(rows)\n",
    "df_result_queries2.describe()"
   ],
   "metadata": {
    "collapsed": false,
    "pycharm": {
     "name": "#%%\n"
    }
   }
  },
  {
   "cell_type": "code",
   "execution_count": 17,
   "outputs": [],
   "source": [],
   "metadata": {
    "collapsed": false,
    "pycharm": {
     "name": "#%%\n"
    }
   }
  },
  {
   "cell_type": "code",
   "execution_count": 18,
   "outputs": [
    {
     "data": {
      "text/plain": "<Figure size 640x480 with 0 Axes>"
     },
     "metadata": {},
     "output_type": "display_data"
    },
    {
     "data": {
      "text/plain": "<Figure size 640x480 with 3 Axes>",
      "image/png": "[encoded data removed]"
     },
     "metadata": {},
     "output_type": "display_data"
    }
   ],
   "source": [
    "sns.set(style=\"whitegrid\")\n",
    "f, axes = plt.subplots(1, 3)\n",
    "sns.boxplot(y=\"latency (ms)\", x= \"type\", data=df_result_inserts,  orient='v' , ax=axes[0], showfliers=False, hue=\"version\")\n",
    "sns.boxplot(y=\"latency (ms)\", x= \"type\", data=df_result_queries1,  orient='v' , ax=axes[1], showfliers=False, hue=\"version\")\n",
    "sns.boxplot(y=\"latency (ms)\", x= \"type\", data=df_result_queries2,  orient='v' , ax=axes[2], showfliers=False, hue=\"version\")\n",
    "\n",
    "plt.show()\n",
    "f.savefig(f'figure1.png')\n",
    "plt.clf()"
   ],
   "metadata": {
    "collapsed": false,
    "pycharm": {
     "name": "#%%\n"
    }
   }
  }
 ],
 "metadata": {
  "kernelspec": {
   "display_name": "Python 3",
   "language": "python",
   "name": "python3"
  },
  "language_info": {
   "codemirror_mode": {
    "name": "ipython",
    "version": 2
   },
   "file_extension": ".py",
   "mimetype": "text/x-python",
   "name": "python",
   "nbconvert_exporter": "python",
   "pygments_lexer": "ipython2",
   "version": "2.7.6"
  }
 },
 "nbformat": 4,
 "nbformat_minor": 0
}