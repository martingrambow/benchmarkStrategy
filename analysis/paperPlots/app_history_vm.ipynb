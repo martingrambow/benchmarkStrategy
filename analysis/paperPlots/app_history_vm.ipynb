{
 "cells": [
  {
   "cell_type": "code",
   "execution_count": 1,
   "outputs": [],
   "source": [
    "import matplotlib\n",
    "import pandas as pd\n",
    "import matplotlib.pyplot as plt\n",
    "import seaborn as sns\n",
    "\n",
    "from matplotlib.lines import Line2D\n",
    "import matplotlib.patches as mpatches\n",
    "\n",
    "sns.set()\n",
    "sns.set_context(\"paper\")\n",
    "sns.set_style(\"whitegrid\")\n",
    "matplotlib.rcParams['pdf.fonttype'] = 42\n",
    "matplotlib.rcParams['ps.fonttype'] = 42\n"
   ],
   "metadata": {
    "collapsed": false,
    "pycharm": {
     "name": "#%%\n"
    }
   }
  },
  {
   "cell_type": "code",
   "execution_count": 2,
   "outputs": [],
   "source": [
    "filename = \"../../results_aggr/app_bootstrap_vm.csv\"\n",
    "insertsFigure = \"appHistoryVmInserts.pdf\"\n",
    "queries1Figure = \"appHistoryVmQueries.pdf\"\n",
    "queries2Figure = \"appHistoryVmGroup.pdf\"\n"
   ],
   "metadata": {
    "collapsed": false,
    "pycharm": {
     "name": "#%%\n"
    }
   }
  },
  {
   "cell_type": "code",
   "execution_count": 3,
   "outputs": [],
   "source": [
    "df_values = pd.read_csv(filename, names=[\"commit\", \"type\", \"CI_min\", \"Median\", \"CI_max\", \"jump\", \"trend\"], skiprows=1)\n",
    "df_values.sort_values(by=[\"commit\"], inplace=True)"
   ],
   "metadata": {
    "collapsed": false,
    "pycharm": {
     "name": "#%%\n"
    }
   }
  },
  {
   "cell_type": "code",
   "execution_count": 4,
   "outputs": [
    {
     "name": "stdout",
     "output_type": "stream",
     "text": [
      "Plotting type inserts\n",
      "Plotting type simple queries\n",
      "Plotting type group-by queries\n"
     ]
    },
    {
     "data": {
      "text/plain": "<Figure size 1080x648 with 0 Axes>"
     },
     "metadata": {},
     "output_type": "display_data"
    },
    {
     "data": {
      "text/plain": "<Figure size 1080x648 with 0 Axes>"
     },
     "metadata": {},
     "output_type": "display_data"
    },
    {
     "data": {
      "text/plain": "<Figure size 1080x648 with 0 Axes>"
     },
     "metadata": {},
     "output_type": "display_data"
    }
   ],
   "source": [
    "for type in df_values.type.unique():\n",
    "    print(f\"Plotting type {type}\")\n",
    "\n",
    "    measurements = df_values.loc[(df_values['type'].str.startswith(type, na=False))]\n",
    "\n",
    "\n",
    "    #Find % set y-limits\n",
    "    min = -5\n",
    "    max = 5\n",
    "    for minSmall in measurements.CI_min.unique():\n",
    "        if minSmall < min:\n",
    "            min = minSmall\n",
    "\n",
    "    for maxSmall in measurements.CI_max.unique():\n",
    "        if maxSmall > max:\n",
    "            max = maxSmall\n",
    "\n",
    "\n",
    "    sns.set(style=\"whitegrid\")\n",
    "    #axes = plt.axes()\n",
    "\n",
    "    plot, axes = plt.subplots(figsize=(15,9))\n",
    "    axes.set_ylim([min, max])\n",
    "    axes.set_xlim([0, 70])\n",
    "    axes.set_xticks([0,10,20,30,40,50,60,70])\n",
    "    axes.tick_params(axis='both', which='major', labelsize=20)\n",
    "\n",
    "    uptrendMarker=\"$↗$\"\n",
    "    downtrendMarker=\"$↘$\"\n",
    "    jumpSize=1000\n",
    "    trendSize=700\n",
    "    fillColor=\"#bac7e6\"\n",
    "    edgeColor='black'\n",
    "\n",
    "    #Plot CIs\n",
    "    plot = sns.lineplot(data=measurements, x=\"commit\", y=\"CI_min\", color=\"royalblue\", zorder=2)\n",
    "    plot = sns.lineplot(data=measurements, x=\"commit\", y=\"CI_max\", color=\"royalblue\", zorder=2)\n",
    "    x_commits = measurements.commit\n",
    "    plot.fill_between(x=x_commits, y1=measurements.CI_min, y2=measurements.CI_max, facecolor =fillColor, zorder=1)\n",
    "\n",
    "    #Plot Median line\n",
    "    plot = sns.lineplot(data=measurements, x=\"commit\", y=\"Median\", color=\"black\")\n",
    "\n",
    "    #PLot Up&Down Changes\n",
    "    ups = measurements.loc[(measurements['jump'].astype(str).str.startswith(\"potential up\", na=False))]\n",
    "    plot = sns.regplot(data=ups,x=\"commit\", y=\"Median\", marker=\"^\", fit_reg=False, scatter_kws={\"color\":\"orange\",\"alpha\":1,\"s\":jumpSize, \"zorder\":3, 'edgecolor':edgeColor})\n",
    "    ups = measurements.loc[(measurements['jump'].astype(str).str.startswith(\"definite up\", na=False))]\n",
    "    plot = sns.regplot(data=ups,x=\"commit\", y=\"Median\", marker=\"^\", fit_reg=False, scatter_kws={\"color\":\"red\",\"alpha\":1,\"s\":jumpSize, \"zorder\":3, 'edgecolor':edgeColor})\n",
    "\n",
    "    ups = measurements.loc[(measurements['trend'].astype(str).str.startswith(\"potential up\", na=False))]\n",
    "    plot = sns.regplot(data=ups,x=\"commit\", y=\"Median\", marker=uptrendMarker, fit_reg=False, scatter_kws={\"color\":\"orange\",\"alpha\":1,\"s\":trendSize, \"zorder\":3, 'edgecolor':edgeColor})\n",
    "    ups = measurements.loc[(measurements['trend'].astype(str).str.startswith(\"definite up\", na=False))]\n",
    "    plot = sns.regplot(data=ups,x=\"commit\", y=\"Median\", marker=uptrendMarker, fit_reg=False, scatter_kws={\"color\":\"red\",\"alpha\":1,\"s\":trendSize, \"zorder\":3, 'edgecolor':edgeColor})\n",
    "\n",
    "    downs = measurements.loc[(measurements['jump'].astype(str).str.startswith(\"potential down\", na=False))]\n",
    "    plot = sns.regplot(data=downs,x=\"commit\", y=\"Median\", marker=\"v\", fit_reg=False, scatter_kws={\"color\":\"orange\",\"alpha\":1,\"s\":jumpSize, \"zorder\":3, 'edgecolor':edgeColor})\n",
    "    downs = measurements.loc[(measurements['jump'].astype(str).str.startswith(\"definite down\", na=False))]\n",
    "    plot = sns.regplot(data=downs,x=\"commit\", y=\"Median\", marker=\"v\", fit_reg=False, scatter_kws={\"color\":\"red\",\"alpha\":1,\"s\":jumpSize, \"zorder\":3, 'edgecolor':edgeColor})\n",
    "\n",
    "    downs = measurements.loc[(measurements['trend'].astype(str).str.startswith(\"potential down\", na=False))]\n",
    "    plot = sns.regplot(data=downs,x=\"commit\", y=\"Median\", marker=downtrendMarker, fit_reg=False, scatter_kws={\"color\":\"orange\",\"alpha\":1,\"s\":trendSize, \"zorder\":3, 'edgecolor':edgeColor})\n",
    "    downs = measurements.loc[(measurements['trend'].astype(str).str.startswith(\"definite down\", na=False))]\n",
    "    plot = sns.regplot(data=downs,x=\"commit\", y=\"Median\", marker=downtrendMarker, fit_reg=False, scatter_kws={\"color\":\"red\",\"alpha\":1,\"s\":trendSize, \"zorder\":3, 'edgecolor':edgeColor})\n",
    "\n",
    "\n",
    "    legend_elements = [\n",
    "        Line2D([0], [0], color='black', lw=1, label='Median Performance Change'),\n",
    "        mpatches.Patch(color=fillColor, label='99% Confidence Interval'),\n",
    "        Line2D([0], [0], marker='^', color='w', label='Potential Performance Jump (Up)', markerfacecolor='orange', markeredgecolor=edgeColor, markersize=16),\n",
    "        Line2D([0], [0], marker='v', color='w', label='Definite Performance Jump (Down)', markerfacecolor='red', markeredgecolor=edgeColor, markersize=16),\n",
    "        Line2D([0], [0], marker=uptrendMarker, color='w', label='Potential Performance Trend (Up)', markerfacecolor='orange', markeredgecolor=edgeColor, markersize=16),\n",
    "        Line2D([0], [0], marker=downtrendMarker, color='w', label='Definite Performance Trend (Down)', markerfacecolor='red', markeredgecolor=edgeColor, markersize=16)\n",
    "    ]\n",
    "\n",
    "    if (type == \"group-by queries\"):\n",
    "        plot.legend(fontsize=20, loc=1, title='', handles=legend_elements, labelspacing=0.8)\n",
    "\n",
    "    plot.set(ylim=(min, max))\n",
    "    #axes.legend(loc=4, fontsize=\"medium\")\n",
    "    plt.xlabel('Commit Number', fontsize=28)\n",
    "    plt.ylabel('Relative Performance Change (%)', fontsize=28)\n",
    "\n",
    "    if (type==\"inserts\"):\n",
    "        plt.savefig(insertsFigure,bbox_inches='tight')\n",
    "    if (type==\"simple queries\"):\n",
    "        plt.savefig(queries1Figure,bbox_inches='tight')\n",
    "    if (type==\"group-by queries\"):\n",
    "        plt.savefig(queries2Figure,bbox_inches='tight')\n",
    "    plt.clf()\n"
   ],
   "metadata": {
    "collapsed": false,
    "pycharm": {
     "name": "#%%\n"
    }
   }
  }
 ],
 "metadata": {
  "kernelspec": {
   "display_name": "Python 3",
   "language": "python",
   "name": "python3"
  },
  "language_info": {
   "codemirror_mode": {
    "name": "ipython",
    "version": 2
   },
   "file_extension": ".py",
   "mimetype": "text/x-python",
   "name": "python",
   "nbconvert_exporter": "python",
   "pygments_lexer": "ipython2",
   "version": "2.7.6"
  }
 },
 "nbformat": 4,
 "nbformat_minor": 0
}