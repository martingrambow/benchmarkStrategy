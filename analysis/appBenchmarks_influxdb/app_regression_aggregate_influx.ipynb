{
 "cells": [
  {
   "cell_type": "code",
   "execution_count": 3,
   "metadata": {
    "collapsed": true,
    "pycharm": {
     "name": "#%%\n"
    }
   },
   "outputs": [
    {
     "name": "stdout",
     "output_type": "stream",
     "text": [
      "../../results_all/app_bootstrap_influx/\n",
      "Paring file ../../results_all/app_bootstrap_influx\\app_bootstrap_influxdb_1.csv\n",
      "Paring file ../../results_all/app_bootstrap_influx\\app_bootstrap_influxdb_10.csv\n",
      "Paring file ../../results_all/app_bootstrap_influx\\app_bootstrap_influxdb_100.csv\n",
      "Paring file ../../results_all/app_bootstrap_influx\\app_bootstrap_influxdb_101.csv\n",
      "Paring file ../../results_all/app_bootstrap_influx\\app_bootstrap_influxdb_102.csv\n",
      "Paring file ../../results_all/app_bootstrap_influx\\app_bootstrap_influxdb_103.csv\n",
      "Paring file ../../results_all/app_bootstrap_influx\\app_bootstrap_influxdb_104.csv\n",
      "Paring file ../../results_all/app_bootstrap_influx\\app_bootstrap_influxdb_105.csv\n",
      "Paring file ../../results_all/app_bootstrap_influx\\app_bootstrap_influxdb_106.csv\n",
      "Paring file ../../results_all/app_bootstrap_influx\\app_bootstrap_influxdb_107.csv\n",
      "Paring file ../../results_all/app_bootstrap_influx\\app_bootstrap_influxdb_108.csv\n",
      "Paring file ../../results_all/app_bootstrap_influx\\app_bootstrap_influxdb_11.csv\n",
      "Paring file ../../results_all/app_bootstrap_influx\\app_bootstrap_influxdb_110.csv\n",
      "Parsing complete\n"
     ]
    }
   ],
   "source": [
    "import pandas as pd\n",
    "import glob\n",
    "from pathlib import Path\n",
    "import numpy as np\n",
    "from numpy.random import default_rng\n",
    "rng = default_rng()\n",
    "\n",
    "\n",
    "folder = \"../../results_all/app_bootstrap_influx/\"\n",
    "resultfile = \"../../results_aggr/app_bootstrap_influx.csv\"\n",
    "print(folder)\n",
    "\n",
    "\n",
    "all_files = glob.glob(folder + \"/*\")\n",
    "rows = []\n",
    "\n",
    "for file in all_files:\n",
    "    print(f\"Paring file {file}\")\n",
    "\n",
    "    insertsOld = pd.read_csv(file,\n",
    "                     header=None,\n",
    "                     names=[\"commit\",\"type\",\"min\", \"max\"])\n",
    "\n",
    "    for index, row in insertsOld.iterrows():\n",
    "        rows.append({\n",
    "            \"commit\":row[\"commit\"],\n",
    "            \"type\": row[\"type\"],\n",
    "            \"min\": row[\"min\"],\n",
    "            \"max\": row[\"max\"]\n",
    "        })\n",
    "\n",
    "print(f\"Parsing complete\")"
   ]
  },
  {
   "cell_type": "code",
   "execution_count": 4,
   "outputs": [
    {
     "name": "stdout",
     "output_type": "stream",
     "text": [
      "Saving to ../../results_aggr/app_bootstrap_influx.csv\n",
      "Done.\n"
     ]
    }
   ],
   "source": [
    "print(f\"Saving to {resultfile}\")\n",
    "df_result = pd.DataFrame(rows)\n",
    "# Save to file\n",
    "df_result.to_csv(str(resultfile))\n",
    "print(\"Done.\")\n",
    "\n",
    "\n"
   ],
   "metadata": {
    "collapsed": false,
    "pycharm": {
     "name": "#%%\n"
    }
   }
  }
 ],
 "metadata": {
  "kernelspec": {
   "display_name": "Python 3",
   "language": "python",
   "name": "python3"
  },
  "language_info": {
   "codemirror_mode": {
    "name": "ipython",
    "version": 2
   },
   "file_extension": ".py",
   "mimetype": "text/x-python",
   "name": "python",
   "nbconvert_exporter": "python",
   "pygments_lexer": "ipython2",
   "version": "2.7.6"
  }
 },
 "nbformat": 4,
 "nbformat_minor": 0
}