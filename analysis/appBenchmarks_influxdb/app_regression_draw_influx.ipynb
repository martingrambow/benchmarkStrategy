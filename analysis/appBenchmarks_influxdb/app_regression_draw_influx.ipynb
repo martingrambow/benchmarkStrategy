{
 "cells": [
  {
   "cell_type": "code",
   "execution_count": 46,
   "metadata": {
    "collapsed": true
   },
   "outputs": [],
   "source": [
    "import pandas as pd\n",
    "import glob\n",
    "import matplotlib.pyplot as plt\n",
    "import seaborn as sns\n",
    "sns.set()"
   ]
  },
  {
   "cell_type": "code",
   "execution_count": 47,
   "outputs": [],
   "source": [
    "filename = \"../../results_aggr/app_bootstrap_influx.csv\"\n",
    "outfilePrefix = \"../../results_aggr/app_bootstrap_influx_plots\"\n",
    "df_values = pd.read_csv(filename, names=[\"commit\", \"type\", \"CI_min\", \"Median\", \"CI_max\", \"change\"], skiprows=1)\n",
    "df_values.sort_values(by=[\"commit\"], inplace=True)"
   ],
   "metadata": {
    "collapsed": false,
    "pycharm": {
     "name": "#%%\n"
    }
   }
  },
  {
   "cell_type": "code",
   "execution_count": 48,
   "outputs": [
    {
     "name": "stdout",
     "output_type": "stream",
     "text": [
      "Plotting type inserts\n",
      "Plotting type group-by queries\n",
      "Plotting type simple queries\n"
     ]
    },
    {
     "data": {
      "text/plain": "<Figure size 432x288 with 0 Axes>"
     },
     "metadata": {},
     "output_type": "display_data"
    }
   ],
   "source": [
    "for type in df_values.type.unique():\n",
    "    print(f\"Plotting type {type}\")\n",
    "\n",
    "    measurements = df_values.loc[(df_values['type'].str.startswith(type, na=False))]\n",
    "\n",
    "\n",
    "    #Find % set y-limits\n",
    "    min = -5\n",
    "    max = 5\n",
    "    for minSmall in measurements.CI_min.unique():\n",
    "        if minSmall < min:\n",
    "            min = minSmall\n",
    "\n",
    "    for maxSmall in measurements.CI_max.unique():\n",
    "        if maxSmall > max:\n",
    "            max = maxSmall\n",
    "\n",
    "\n",
    "    sns.set(style=\"whitegrid\")\n",
    "    axes = plt.axes()\n",
    "    axes.set_ylim([min, max])\n",
    "\n",
    "    #Plot CIs\n",
    "    plot = sns.lineplot(data=measurements, x=\"commit\", y=\"CI_min\", color=\"royalblue\")\n",
    "    plot = sns.lineplot(data=measurements, x=\"commit\", y=\"CI_max\", color=\"royalblue\")\n",
    "    x_commits = measurements.commit\n",
    "    plot.fill_between(x=x_commits, y1=measurements.CI_min, y2=measurements.CI_max, facecolor = 'lightblue')\n",
    "\n",
    "    #Plot Median line\n",
    "    plot = sns.lineplot(data=measurements, x=\"commit\", y=\"Median\", color=\"red\")\n",
    "\n",
    "    #PLot Up&Down Changes\n",
    "    ups = measurements.loc[(measurements['change'].str.startswith(\"Up\", na=False))]\n",
    "    plot = sns.regplot(data=ups,x=\"commit\", y=\"Median\", marker=\"^\", fit_reg=False, scatter_kws={\"color\":\"black\",\"alpha\":1,\"s\":300})\n",
    "    downs = measurements.loc[(measurements['change'].str.startswith(\"Down\", na=False))]\n",
    "    plot = sns.regplot(data=downs,x=\"commit\", y=\"Median\", marker=\"v\", fit_reg=False, scatter_kws={\"color\":\"black\",\"alpha\":1,\"s\":300})\n",
    "    plot.set(ylim=(min, max))\n",
    "    plt.savefig(f'{outfilePrefix}/{type}.png')\n",
    "    plt.clf()\n"
   ],
   "metadata": {
    "collapsed": false,
    "pycharm": {
     "name": "#%%\n"
    }
   }
  }
 ],
 "metadata": {
  "kernelspec": {
   "display_name": "Python 3",
   "language": "python",
   "name": "python3"
  },
  "language_info": {
   "codemirror_mode": {
    "name": "ipython",
    "version": 2
   },
   "file_extension": ".py",
   "mimetype": "text/x-python",
   "name": "python",
   "nbconvert_exporter": "python",
   "pygments_lexer": "ipython2",
   "version": "2.7.6"
  }
 },
 "nbformat": 4,
 "nbformat_minor": 0
}