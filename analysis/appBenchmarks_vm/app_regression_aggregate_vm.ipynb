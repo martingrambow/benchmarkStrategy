{
 "cells": [
  {
   "cell_type": "code",
   "execution_count": 9,
   "metadata": {
    "collapsed": true,
    "pycharm": {
     "name": "#%%\n"
    }
   },
   "outputs": [
    {
     "name": "stdout",
     "output_type": "stream",
     "text": [
      "../../results_all/app_bootstrap_vm/\n",
      "Paring file ../../results_all/app_bootstrap_vm\\app_bootstrap_vm_1.csv\n",
      "Paring file ../../results_all/app_bootstrap_vm\\app_bootstrap_vm_10.csv\n",
      "Paring file ../../results_all/app_bootstrap_vm\\app_bootstrap_vm_11.csv\n",
      "Paring file ../../results_all/app_bootstrap_vm\\app_bootstrap_vm_12.csv\n",
      "Paring file ../../results_all/app_bootstrap_vm\\app_bootstrap_vm_13.csv\n",
      "Paring file ../../results_all/app_bootstrap_vm\\app_bootstrap_vm_14.csv\n",
      "Paring file ../../results_all/app_bootstrap_vm\\app_bootstrap_vm_15.csv\n",
      "Paring file ../../results_all/app_bootstrap_vm\\app_bootstrap_vm_16.csv\n",
      "Paring file ../../results_all/app_bootstrap_vm\\app_bootstrap_vm_17.csv\n",
      "Paring file ../../results_all/app_bootstrap_vm\\app_bootstrap_vm_18.csv\n",
      "Paring file ../../results_all/app_bootstrap_vm\\app_bootstrap_vm_19.csv\n",
      "Paring file ../../results_all/app_bootstrap_vm\\app_bootstrap_vm_2.csv\n",
      "Paring file ../../results_all/app_bootstrap_vm\\app_bootstrap_vm_20.csv\n",
      "Paring file ../../results_all/app_bootstrap_vm\\app_bootstrap_vm_21.csv\n",
      "Paring file ../../results_all/app_bootstrap_vm\\app_bootstrap_vm_22.csv\n",
      "Paring file ../../results_all/app_bootstrap_vm\\app_bootstrap_vm_23.csv\n",
      "Paring file ../../results_all/app_bootstrap_vm\\app_bootstrap_vm_24.csv\n",
      "Paring file ../../results_all/app_bootstrap_vm\\app_bootstrap_vm_25.csv\n",
      "Paring file ../../results_all/app_bootstrap_vm\\app_bootstrap_vm_26.csv\n",
      "Paring file ../../results_all/app_bootstrap_vm\\app_bootstrap_vm_27.csv\n",
      "Paring file ../../results_all/app_bootstrap_vm\\app_bootstrap_vm_28.csv\n",
      "Paring file ../../results_all/app_bootstrap_vm\\app_bootstrap_vm_29.csv\n",
      "Paring file ../../results_all/app_bootstrap_vm\\app_bootstrap_vm_3.csv\n",
      "Paring file ../../results_all/app_bootstrap_vm\\app_bootstrap_vm_30.csv\n",
      "Paring file ../../results_all/app_bootstrap_vm\\app_bootstrap_vm_31.csv\n",
      "Paring file ../../results_all/app_bootstrap_vm\\app_bootstrap_vm_32.csv\n",
      "Paring file ../../results_all/app_bootstrap_vm\\app_bootstrap_vm_33.csv\n",
      "Paring file ../../results_all/app_bootstrap_vm\\app_bootstrap_vm_34.csv\n",
      "Paring file ../../results_all/app_bootstrap_vm\\app_bootstrap_vm_35.csv\n",
      "Paring file ../../results_all/app_bootstrap_vm\\app_bootstrap_vm_36.csv\n",
      "Paring file ../../results_all/app_bootstrap_vm\\app_bootstrap_vm_37.csv\n",
      "Paring file ../../results_all/app_bootstrap_vm\\app_bootstrap_vm_38.csv\n",
      "Paring file ../../results_all/app_bootstrap_vm\\app_bootstrap_vm_39.csv\n",
      "Paring file ../../results_all/app_bootstrap_vm\\app_bootstrap_vm_4.csv\n",
      "Paring file ../../results_all/app_bootstrap_vm\\app_bootstrap_vm_40.csv\n",
      "Paring file ../../results_all/app_bootstrap_vm\\app_bootstrap_vm_41.csv\n",
      "Paring file ../../results_all/app_bootstrap_vm\\app_bootstrap_vm_42.csv\n",
      "Paring file ../../results_all/app_bootstrap_vm\\app_bootstrap_vm_43.csv\n",
      "Paring file ../../results_all/app_bootstrap_vm\\app_bootstrap_vm_44.csv\n",
      "Paring file ../../results_all/app_bootstrap_vm\\app_bootstrap_vm_45.csv\n",
      "Paring file ../../results_all/app_bootstrap_vm\\app_bootstrap_vm_46.csv\n",
      "Paring file ../../results_all/app_bootstrap_vm\\app_bootstrap_vm_47.csv\n",
      "Paring file ../../results_all/app_bootstrap_vm\\app_bootstrap_vm_48.csv\n",
      "Paring file ../../results_all/app_bootstrap_vm\\app_bootstrap_vm_49.csv\n",
      "Paring file ../../results_all/app_bootstrap_vm\\app_bootstrap_vm_5.csv\n",
      "Paring file ../../results_all/app_bootstrap_vm\\app_bootstrap_vm_50.csv\n",
      "Paring file ../../results_all/app_bootstrap_vm\\app_bootstrap_vm_51.csv\n",
      "Paring file ../../results_all/app_bootstrap_vm\\app_bootstrap_vm_52.csv\n",
      "Paring file ../../results_all/app_bootstrap_vm\\app_bootstrap_vm_53.csv\n",
      "Paring file ../../results_all/app_bootstrap_vm\\app_bootstrap_vm_54.csv\n",
      "Paring file ../../results_all/app_bootstrap_vm\\app_bootstrap_vm_55.csv\n",
      "Paring file ../../results_all/app_bootstrap_vm\\app_bootstrap_vm_56.csv\n",
      "Paring file ../../results_all/app_bootstrap_vm\\app_bootstrap_vm_57.csv\n",
      "Paring file ../../results_all/app_bootstrap_vm\\app_bootstrap_vm_58.csv\n",
      "Paring file ../../results_all/app_bootstrap_vm\\app_bootstrap_vm_59.csv\n",
      "Paring file ../../results_all/app_bootstrap_vm\\app_bootstrap_vm_6.csv\n",
      "Paring file ../../results_all/app_bootstrap_vm\\app_bootstrap_vm_60.csv\n",
      "Paring file ../../results_all/app_bootstrap_vm\\app_bootstrap_vm_61.csv\n",
      "Paring file ../../results_all/app_bootstrap_vm\\app_bootstrap_vm_62.csv\n",
      "Paring file ../../results_all/app_bootstrap_vm\\app_bootstrap_vm_63.csv\n",
      "Paring file ../../results_all/app_bootstrap_vm\\app_bootstrap_vm_64.csv\n",
      "Paring file ../../results_all/app_bootstrap_vm\\app_bootstrap_vm_65.csv\n",
      "Paring file ../../results_all/app_bootstrap_vm\\app_bootstrap_vm_66.csv\n",
      "Paring file ../../results_all/app_bootstrap_vm\\app_bootstrap_vm_67.csv\n",
      "Paring file ../../results_all/app_bootstrap_vm\\app_bootstrap_vm_68.csv\n",
      "Paring file ../../results_all/app_bootstrap_vm\\app_bootstrap_vm_69.csv\n",
      "Paring file ../../results_all/app_bootstrap_vm\\app_bootstrap_vm_7.csv\n",
      "Paring file ../../results_all/app_bootstrap_vm\\app_bootstrap_vm_8.csv\n",
      "Paring file ../../results_all/app_bootstrap_vm\\app_bootstrap_vm_9.csv\n",
      "Parsing complete\n"
     ]
    }
   ],
   "source": [
    "import pandas as pd\n",
    "import glob\n",
    "from pathlib import Path\n",
    "import numpy as np\n",
    "from numpy.random import default_rng\n",
    "rng = default_rng()\n",
    "\n",
    "\n",
    "folder = \"../../results_all/app_bootstrap_vm/\"\n",
    "resultfile = \"../../results_aggr/app_bootstrap_vm.csv\"\n",
    "print(folder)\n",
    "\n",
    "\n",
    "all_files = glob.glob(folder + \"/*\")\n",
    "rows = []\n",
    "\n",
    "for file in all_files:\n",
    "    print(f\"Paring file {file}\")\n",
    "\n",
    "    values = pd.read_csv(file)\n",
    "\n",
    "    for index, row in values.iterrows():\n",
    "        rows.append({\n",
    "            \"commit\":row[\"commit\"],\n",
    "            \"type\": row[\"type\"],\n",
    "            \"min\": row[\"min\"],\n",
    "            \"max\": row[\"max\"]\n",
    "        })\n",
    "\n",
    "print(f\"Parsing complete\")"
   ]
  },
  {
   "cell_type": "code",
   "execution_count": 10,
   "outputs": [
    {
     "name": "stdout",
     "output_type": "stream",
     "text": [
      "Saving to ../../results_aggr/app_bootstrap_vm.csv\n",
      "Done.\n"
     ]
    }
   ],
   "source": [
    "print(f\"Saving to {resultfile}\")\n",
    "df_result = pd.DataFrame(rows)\n",
    "# Save to file\n",
    "df_result.to_csv(str(resultfile))\n",
    "print(\"Done.\")\n",
    "\n",
    "\n"
   ],
   "metadata": {
    "collapsed": false,
    "pycharm": {
     "name": "#%%\n"
    }
   }
  }
 ],
 "metadata": {
  "kernelspec": {
   "display_name": "Python 3",
   "language": "python",
   "name": "python3"
  },
  "language_info": {
   "codemirror_mode": {
    "name": "ipython",
    "version": 2
   },
   "file_extension": ".py",
   "mimetype": "text/x-python",
   "name": "python",
   "nbconvert_exporter": "python",
   "pygments_lexer": "ipython2",
   "version": "2.7.6"
  }
 },
 "nbformat": 4,
 "nbformat_minor": 0
}