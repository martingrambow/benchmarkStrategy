{
 "cells": [
  {
   "cell_type": "code",
   "execution_count": 13,
   "outputs": [],
   "source": [
    "import pandas as pd\n",
    "import glob\n",
    "import matplotlib.pyplot as plt\n",
    "import seaborn as sns\n",
    "sns.set()"
   ],
   "metadata": {
    "collapsed": false,
    "pycharm": {
     "name": "#%%\n"
    }
   }
  },
  {
   "cell_type": "code",
   "execution_count": 14,
   "outputs": [],
   "source": [
    "filename = \"../../results_aggr/app_bootstrap_vm.csv\"\n",
    "outfilePrefix = \"../../results_aggr/app_bootstrap_vm_plots\"\n",
    "df_values = pd.read_csv(filename, names=[\"commit\", \"type\", \"CI_min\", \"CI_max\"], skiprows=1)\n",
    "df_values.sort_values(by=[\"commit\"], inplace=True)"
   ],
   "metadata": {
    "collapsed": false,
    "pycharm": {
     "name": "#%%\n"
    }
   }
  },
  {
   "cell_type": "code",
   "execution_count": 15,
   "outputs": [
    {
     "name": "stdout",
     "output_type": "stream",
     "text": [
      "Plotting type inserts\n",
      "Plotting type simple queries\n",
      "Plotting type group-by queries\n"
     ]
    },
    {
     "data": {
      "text/plain": "<Figure size 432x288 with 0 Axes>"
     },
     "metadata": {},
     "output_type": "display_data"
    }
   ],
   "source": [
    "for type in df_values.type.unique():\n",
    "    print(f\"Plotting type {type}\")\n",
    "\n",
    "    measurements = df_values.loc[(df_values['type'].str.startswith(type, na=False))]\n",
    "\n",
    "\n",
    "    #Find % set y-limits\n",
    "    min = -5\n",
    "    max = 5\n",
    "    for minSmall in measurements.CI_min.unique():\n",
    "        if minSmall < min:\n",
    "            min = minSmall\n",
    "\n",
    "    for maxSmall in measurements.CI_max.unique():\n",
    "        if maxSmall > max:\n",
    "            max = maxSmall\n",
    "\n",
    "\n",
    "    sns.set(style=\"whitegrid\")\n",
    "    axes = plt.axes()\n",
    "    axes.set_ylim([min, max])\n",
    "\n",
    "    plot = sns.lineplot(data=measurements, x=\"commit\", y=\"CI_min\", color=\"royalblue\")\n",
    "    plot = sns.lineplot(data=measurements, x=\"commit\", y=\"CI_max\", color=\"royalblue\")\n",
    "\n",
    "    x_commits = measurements.commit\n",
    "\n",
    "\n",
    "    plot.fill_between(x=x_commits, y1=measurements.CI_min, y2=measurements.CI_max, facecolor = 'lightblue')\n",
    "\n",
    "\n",
    "    plot.set(ylim=(min, max))\n",
    "    plt.savefig(f'{outfilePrefix}/{type}.png')\n",
    "    plt.clf()\n"
   ],
   "metadata": {
    "collapsed": false,
    "pycharm": {
     "name": "#%%\n"
    }
   }
  }
 ],
 "metadata": {
  "kernelspec": {
   "name": "python3",
   "language": "python",
   "display_name": "Python 3"
  },
  "language_info": {
   "name": "python",
   "version": "3.8.10",
   "mimetype": "text/x-python",
   "codemirror_mode": {
    "name": "ipython",
    "version": 3
   },
   "pygments_lexer": "ipython3",
   "nbconvert_exporter": "python",
   "file_extension": ".py"
  },
  "interpreter": {
   "hash": "d66d6b08fe58b329152bac548c9eade7eaa4839341ff9c060dccc73094c59e94"
  }
 },
 "nbformat": 4,
 "nbformat_minor": 2
}