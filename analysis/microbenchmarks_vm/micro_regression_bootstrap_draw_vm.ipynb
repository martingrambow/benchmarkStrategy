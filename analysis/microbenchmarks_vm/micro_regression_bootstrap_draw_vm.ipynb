{
 "cells": [
  {
   "cell_type": "code",
   "execution_count": 25,
   "source": [
    "import pandas as pd\n",
    "import glob\n",
    "import matplotlib.pyplot as plt\n",
    "import seaborn as sns\n",
    "sns.set()"
   ],
   "outputs": [],
   "metadata": {
    "collapsed": true
   }
  },
  {
   "cell_type": "code",
   "execution_count": 26,
   "source": [
    "#foldername = \"../../results_all/micro_bootstrapping_vm\"\n",
    "#outfilename = \"../../results_aggr/micro_volatility_vm.csv\"\n",
    "\n",
    "foldername = \"../../results_all/micro_bootstrapping_vm_opti\"\n",
    "outfilename = \"../../results_aggr/micro_volatility_vm_opti.csv\""
   ],
   "outputs": [],
   "metadata": {
    "collapsed": false,
    "pycharm": {
     "name": "#%%\n"
    }
   }
  },
  {
   "cell_type": "code",
   "execution_count": 27,
   "source": [
    "variances = []"
   ],
   "outputs": [],
   "metadata": {}
  },
  {
   "cell_type": "code",
   "execution_count": 28,
   "source": [
    "all_files = glob.glob(foldername + \"/*\")\n",
    "for file in all_files:\n",
    "    # Check if it's a csv file\n",
    "    if (str(file).endswith(\".csv\")):\n",
    "\n",
    "        df_results = pd.read_csv(file, sep=\";\", usecols=['number','medianPerfChange',\n",
    "                                                         'minSmall', 'maxSmall',\n",
    "                                                         \"minMedium\", \"maxMedium\",\n",
    "                                                         \"minLarge\", \"maxLarge\"], index_col=\"number\")\n",
    "\n",
    "        nameparts=str(file).split(\"\\\\\")\n",
    "        name = nameparts[1]\n",
    "        name = name[:-4]\n",
    "\n",
    "        print(f\"Find Variance for {name}\")\n",
    "        for index, row in df_results.iterrows():\n",
    "            min = row[\"minSmall\"]\n",
    "            max = row[\"maxSmall\"]\n",
    "            var = max - min\n",
    "            type = \"< 1%\"\n",
    "            if var > 1:\n",
    "                type = \"1% - 3%\"\n",
    "                if var > 3:\n",
    "                    type = \"3% - 5%\"\n",
    "                    if var > 5:\n",
    "                        type = \"5% - 10%\"\n",
    "                        if var > 10:\n",
    "                            type = \"> 10%\"\n",
    "\n",
    "\n",
    "            variances.append({\n",
    "                \"name\" : name,\n",
    "                \"var\" : var,\n",
    "                \"volatility\": type\n",
    "\n",
    "            })\n",
    "\n",
    "        print(f\"Plotting benchmark {name}\")\n",
    "\n",
    "\n",
    "        #Find % set y-limits\n",
    "        min = -5\n",
    "        max = 5\n",
    "        for minSmall in df_results.minSmall.unique():\n",
    "            if minSmall < min:\n",
    "                min = minSmall\n",
    "\n",
    "        for maxSmall in df_results.maxSmall.unique():\n",
    "            if maxSmall > max:\n",
    "                max = maxSmall\n",
    "\n",
    "\n",
    "        sns.set(style=\"whitegrid\")\n",
    "        axes = plt.axes()\n",
    "        axes.set_ylim([min, max])\n",
    "\n",
    "        plot = sns.lineplot(data=df_results, x=\"number\", y=\"medianPerfChange\", color=\"red\")\n",
    "        plot = sns.lineplot(data=df_results, x=\"number\", y=\"minSmall\", color=\"lightblue\")\n",
    "        plot = sns.lineplot(data=df_results, x=\"number\", y=\"maxSmall\", color=\"lightblue\")\n",
    "        plot = sns.lineplot(data=df_results, x=\"number\", y=\"minMedium\", color=\"dodgerblue\")\n",
    "        plot = sns.lineplot(data=df_results, x=\"number\", y=\"maxMedium\", color=\"dodgerblue\")\n",
    "        plot = sns.lineplot(data=df_results, x=\"number\", y=\"minLarge\", color=\"royalblue\")\n",
    "        plot = sns.lineplot(data=df_results, x=\"number\", y=\"maxLarge\", color=\"royalblue\")\n",
    "        plot.set(ylim=(min, max))\n",
    "        plt.savefig(f'{foldername}/plots/{name}.png')\n",
    "        plt.clf()"
   ],
   "outputs": [
    {
     "name": "stdout",
     "output_type": "stream",
     "text": [
      "Find Variance for bench-index-db-add-tsids\n",
      "Plotting benchmark bench-index-db-add-tsids\n",
      "Find Variance for BenchmarkAddMulti-items_1000-2\n",
      "Plotting benchmark BenchmarkAddMulti-items_1000-2\n",
      "Find Variance for BenchmarkAddMulti-items_10000-2\n",
      "Plotting benchmark BenchmarkAddMulti-items_10000-2\n",
      "Find Variance for BenchmarkAddMulti-items_100000-2\n",
      "Plotting benchmark BenchmarkAddMulti-items_100000-2\n",
      "Find Variance for BenchmarkAddMulti-items_1000000-2\n",
      "Plotting benchmark BenchmarkAddMulti-items_1000000-2\n",
      "Find Variance for BenchmarkAddMulti-items_10000000-2\n",
      "Plotting benchmark BenchmarkAddMulti-items_10000000-2\n",
      "Find Variance for BenchmarkInmemoryPartInitFromRowsWorstCase-2\n",
      "Plotting benchmark BenchmarkInmemoryPartInitFromRowsWorstCase-2\n",
      "Find Variance for BenchmarkIntersectPartialOverlap-items_1000-2\n",
      "Plotting benchmark BenchmarkIntersectPartialOverlap-items_1000-2\n",
      "Find Variance for BenchmarkIntersectPartialOverlap-items_10000-2\n",
      "Plotting benchmark BenchmarkIntersectPartialOverlap-items_10000-2\n",
      "Find Variance for BenchmarkIntersectPartialOverlap-items_100000-2\n",
      "Plotting benchmark BenchmarkIntersectPartialOverlap-items_100000-2\n",
      "Find Variance for BenchmarkIntersectPartialOverlap-items_1000000-2\n",
      "Plotting benchmark BenchmarkIntersectPartialOverlap-items_1000000-2\n",
      "Find Variance for BenchmarkIntersectPartialOverlap-items_10000000-2\n",
      "Plotting benchmark BenchmarkIntersectPartialOverlap-items_10000000-2\n",
      "Find Variance for BenchmarkMergeBlockStreamsFourSourcesBestCase-2\n",
      "Plotting benchmark BenchmarkMergeBlockStreamsFourSourcesBestCase-2\n",
      "Find Variance for BenchmarkMergeBlockStreamsFourSourcesWorstCase-2\n",
      "Plotting benchmark BenchmarkMergeBlockStreamsFourSourcesWorstCase-2\n",
      "Find Variance for BenchmarkRowsUnmarshal-2\n",
      "Plotting benchmark BenchmarkRowsUnmarshal-2\n",
      "Find Variance for BenchmarkStorageAddRows1\n",
      "Plotting benchmark BenchmarkStorageAddRows1\n",
      "Find Variance for BenchmarkStorageAddRows2\n",
      "Plotting benchmark BenchmarkStorageAddRows2\n",
      "Find Variance for BenchmarkStorageAddRows3\n",
      "Plotting benchmark BenchmarkStorageAddRows3\n",
      "Find Variance for BenchmarkStorageAddRows4\n",
      "Plotting benchmark BenchmarkStorageAddRows4\n"
     ]
    },
    {
     "data": {
      "text/plain": "<Figure size 432x288 with 0 Axes>"
     },
     "metadata": {},
     "output_type": "display_data"
    }
   ],
   "metadata": {
    "collapsed": false,
    "pycharm": {
     "name": "#%%\n"
    }
   }
  },
  {
   "cell_type": "code",
   "execution_count": 29,
   "outputs": [],
   "source": [
    "# Convert to data frame\n",
    "df_result = pd.DataFrame(variances)\n",
    "df_result.to_csv(outfilename)"
   ],
   "metadata": {
    "collapsed": false,
    "pycharm": {
     "name": "#%%\n"
    }
   }
  },
  {
   "cell_type": "code",
   "execution_count": 30,
   "outputs": [
    {
     "data": {
      "text/plain": "<seaborn.axisgrid.FacetGrid at 0x222d465e460>"
     },
     "execution_count": 30,
     "metadata": {},
     "output_type": "execute_result"
    },
    {
     "data": {
      "text/plain": "<Figure size 360x360 with 1 Axes>",
      "image/png": "[encoded data removed]"
     },
     "metadata": {},
     "output_type": "display_data"
    }
   ],
   "source": [
    "df_vars = pd.DataFrame(variances)\n",
    "#sns.displot(df_vars, x=\"var\", bins=[5,10,15,20,30,40,50,60,70,80,90,100,110,120,130,140,150])\n",
    "sns.displot(df_vars, x=\"var\", binwidth=1)"
   ],
   "metadata": {
    "collapsed": false,
    "pycharm": {
     "name": "#%%\n"
    }
   }
  },
  {
   "cell_type": "code",
   "execution_count": 31,
   "outputs": [
    {
     "data": {
      "text/plain": "<seaborn.axisgrid.FacetGrid at 0x222d42ba820>"
     },
     "execution_count": 31,
     "metadata": {},
     "output_type": "execute_result"
    },
    {
     "data": {
      "text/plain": "<Figure size 360x360 with 1 Axes>",
      "image/png": "[encoded data removed]"
     },
     "metadata": {},
     "output_type": "display_data"
    }
   ],
   "source": [
    "sns.displot(df_vars, x=\"volatility\", binwidth=1)"
   ],
   "metadata": {
    "collapsed": false,
    "pycharm": {
     "name": "#%%\n"
    }
   }
  },
  {
   "cell_type": "code",
   "execution_count": 32,
   "outputs": [
    {
     "data": {
      "text/plain": "<seaborn.axisgrid.FacetGrid at 0x222d403c9a0>"
     },
     "execution_count": 32,
     "metadata": {},
     "output_type": "execute_result"
    },
    {
     "data": {
      "text/plain": "<Figure size 360x360 with 1 Axes>",
      "image/png": "[encoded data removed]"
     },
     "metadata": {},
     "output_type": "display_data"
    }
   ],
   "source": [
    "sns.catplot(x=\"volatility\", kind=\"count\", data=df_vars, order=[\"< 1%\",\"1% - 3%\",\"3% - 5%\", \"5% - 10%\",\"> 10%\"])"
   ],
   "metadata": {
    "collapsed": false,
    "pycharm": {
     "name": "#%%\n"
    }
   }
  }
 ],
 "metadata": {
  "kernelspec": {
   "name": "python3",
   "language": "python",
   "display_name": "Python 3"
  },
  "language_info": {
   "name": "python",
   "version": "3.8.10",
   "mimetype": "text/x-python",
   "codemirror_mode": {
    "name": "ipython",
    "version": 3
   },
   "pygments_lexer": "ipython3",
   "nbconvert_exporter": "python",
   "file_extension": ".py"
  },
  "interpreter": {
   "hash": "d66d6b08fe58b329152bac548c9eade7eaa4839341ff9c060dccc73094c59e94"
  }
 },
 "nbformat": 4,
 "nbformat_minor": 2
}