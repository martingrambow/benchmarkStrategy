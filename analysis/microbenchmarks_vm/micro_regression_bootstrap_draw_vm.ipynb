{
 "cells": [
  {
   "cell_type": "code",
   "execution_count": 1,
   "source": [
    "import pandas as pd\n",
    "import glob\n",
    "import matplotlib.pyplot as plt\n",
    "import seaborn as sns\n",
    "from matplotlib.lines import Line2D\n",
    "import matplotlib.patches as mpatches\n",
    "sns.set()"
   ],
   "outputs": [],
   "metadata": {
    "collapsed": true
   }
  },
  {
   "cell_type": "code",
   "execution_count": 2,
   "source": [
    "foldername = \"../../results_all/micro_bootstrapping_vm\"\n",
    "\n",
    "#foldername = \"../../results_all/micro_bootstrapping_vm_opti\""
   ],
   "outputs": [],
   "metadata": {
    "collapsed": false,
    "pycharm": {
     "name": "#%%\n"
    }
   }
  },
  {
   "cell_type": "code",
   "execution_count": 3,
   "source": [
    "variances = []"
   ],
   "outputs": [],
   "metadata": {}
  },
  {
   "cell_type": "code",
   "execution_count": 4,
   "source": [
    "all_files = glob.glob(foldername + \"/*\")\n",
    "for file in all_files:\n",
    "    # Check if it's a csv file\n",
    "    if (str(file).endswith(\".csv\") and str(file).find(\"summary\") == -1):\n",
    "\n",
    "        df_results = pd.read_csv(file, sep=\";\", names=['name','commit', \"CI_min\", \"Median\", \"CI_max\", 'jump','trend'], skiprows=1)\n",
    "        df_results.sort_values(by=[\"commit\"], inplace=True)\n",
    "\n",
    "        nameparts=str(file).split(\"\\\\\")\n",
    "        name = nameparts[1]\n",
    "        name = name[:-4]\n",
    "\n",
    "        print(f\"Plotting benchmark {name}\")\n",
    "\n",
    "        #Find % set y-limits\n",
    "        min = -5\n",
    "        max = 5\n",
    "        for minSmall in df_results.CI_min.unique():\n",
    "            if minSmall < min:\n",
    "                min = minSmall\n",
    "\n",
    "        for maxSmall in df_results.CI_max.unique():\n",
    "            if maxSmall > max:\n",
    "                max = maxSmall\n",
    "\n",
    "\n",
    "        sns.set(style=\"whitegrid\")\n",
    "        plot, axes = plt.subplots(figsize=(15,9))\n",
    "        axes.set_ylim([min, max])\n",
    "        axes.set_xlim([0, 70])\n",
    "        axes.set_xticks([0,10,20,30,40,50,60,70])\n",
    "\n",
    "        uptrendMarker=\"$↗$\"\n",
    "        downtrendMarker=\"$↘$\"\n",
    "        jumpSize=1000\n",
    "        trendSize=700\n",
    "        fillColor=\"#bac7e6\"\n",
    "        edgeColor='black'\n",
    "\n",
    "\n",
    "        #Plot CIs\n",
    "        plot = sns.lineplot(data=df_results, x=\"commit\", y=\"CI_min\", color=\"royalblue\", zorder=2)\n",
    "        plot = sns.lineplot(data=df_results, x=\"commit\", y=\"CI_max\", color=\"royalblue\", zorder=2)\n",
    "        x_commits = df_results.commit\n",
    "        plot.fill_between(x=x_commits, y1=df_results.CI_min, y2=df_results.CI_max, facecolor =fillColor, zorder=1)\n",
    "\n",
    "        #Plot Median line\n",
    "        plot = sns.lineplot(data=df_results, x=\"commit\", y=\"Median\", color=\"black\")\n",
    "\n",
    "        #PLot Up&Down Changes\n",
    "        ups = df_results.loc[(df_results['jump'].astype(str).str.startswith(\"potential up\", na=False))]\n",
    "        plot = sns.regplot(data=ups,x=\"commit\", y=\"Median\", marker=\"^\", fit_reg=False, scatter_kws={\"color\":\"orange\",\"alpha\":1,\"s\":jumpSize, \"zorder\":3, 'edgecolor':edgeColor})\n",
    "        ups = df_results.loc[(df_results['jump'].astype(str).str.startswith(\"definite up\", na=False))]\n",
    "        plot = sns.regplot(data=ups,x=\"commit\", y=\"Median\", marker=\"^\", fit_reg=False, scatter_kws={\"color\":\"red\",\"alpha\":1,\"s\":jumpSize, \"zorder\":3, 'edgecolor':edgeColor})\n",
    "\n",
    "        ups = df_results.loc[(df_results['trend'].astype(str).str.startswith(\"potential up\", na=False))]\n",
    "        plot = sns.regplot(data=ups,x=\"commit\", y=\"Median\", marker=uptrendMarker, fit_reg=False, scatter_kws={\"color\":\"orange\",\"alpha\":1,\"s\":trendSize, \"zorder\":3, 'edgecolor':edgeColor})\n",
    "        ups = df_results.loc[(df_results['trend'].astype(str).str.startswith(\"definite up\", na=False))]\n",
    "        plot = sns.regplot(data=ups,x=\"commit\", y=\"Median\", marker=uptrendMarker, fit_reg=False, scatter_kws={\"color\":\"red\",\"alpha\":1,\"s\":trendSize, \"zorder\":3, 'edgecolor':edgeColor})\n",
    "\n",
    "        downs = df_results.loc[(df_results['jump'].astype(str).str.startswith(\"potential down\", na=False))]\n",
    "        plot = sns.regplot(data=downs,x=\"commit\", y=\"Median\", marker=\"v\", fit_reg=False, scatter_kws={\"color\":\"orange\",\"alpha\":1,\"s\":jumpSize, \"zorder\":3, 'edgecolor':edgeColor})\n",
    "        downs = df_results.loc[(df_results['jump'].astype(str).str.startswith(\"definite down\", na=False))]\n",
    "        plot = sns.regplot(data=downs,x=\"commit\", y=\"Median\", marker=\"v\", fit_reg=False, scatter_kws={\"color\":\"red\",\"alpha\":1,\"s\":jumpSize, \"zorder\":3, 'edgecolor':edgeColor})\n",
    "\n",
    "        downs = df_results.loc[(df_results['trend'].astype(str).str.startswith(\"potential down\", na=False))]\n",
    "        plot = sns.regplot(data=downs,x=\"commit\", y=\"Median\", marker=downtrendMarker, fit_reg=False, scatter_kws={\"color\":\"orange\",\"alpha\":1,\"s\":trendSize, \"zorder\":3, 'edgecolor':edgeColor})\n",
    "        downs = df_results.loc[(df_results['trend'].astype(str).str.startswith(\"definite down\", na=False))]\n",
    "        plot = sns.regplot(data=downs,x=\"commit\", y=\"Median\", marker=downtrendMarker, fit_reg=False, scatter_kws={\"color\":\"red\",\"alpha\":1,\"s\":trendSize, \"zorder\":3, 'edgecolor':edgeColor})\n",
    "\n",
    "        legend_elements = [\n",
    "            Line2D([0], [0], color='black', lw=1, label='Median Performance Change'),\n",
    "            mpatches.Patch(color=fillColor, label='99% Confidence Interval'),\n",
    "            Line2D([0], [0], marker='^', color='w', label='Potential Performance Jump (Up)', markerfacecolor='orange', markeredgecolor=edgeColor, markersize=16),\n",
    "            Line2D([0], [0], marker='v', color='w', label='Definite Performance Jump (Down)', markerfacecolor='red', markeredgecolor=edgeColor, markersize=16),\n",
    "            Line2D([0], [0], marker=uptrendMarker, color='w', label='Potential Performance Trend (Up)', markerfacecolor='orange', markeredgecolor=edgeColor, markersize=16),\n",
    "            Line2D([0], [0], marker=downtrendMarker, color='w', label='Definite Performance Trend (Down)', markerfacecolor='red', markeredgecolor=edgeColor, markersize=16)\n",
    "        ]\n",
    "\n",
    "        plot.legend(fontsize=\"medium\", loc=1, title='', handles=legend_elements, labelspacing=0.8)\n",
    "\n",
    "        plot.set(ylim=(min, max))\n",
    "        plt.savefig(f'{foldername}/plots/{name}.png')\n",
    "        plt.clf()"
   ],
   "outputs": [
    {
     "name": "stdout",
     "output_type": "stream",
     "text": [
      "Plotting benchmark bench-fast-queue-throughput-concurrent-1000000\n",
      "Plotting benchmark bench-fast-queue-throughput-serial-1000000\n",
      "Plotting benchmark bench-index-db-add-tsids\n",
      "Plotting benchmark bench-index-db-get-tsids\n",
      "Plotting benchmark BenchmarkAdd-items_1000-2\n",
      "Plotting benchmark BenchmarkAdd-items_10000-2\n",
      "Plotting benchmark BenchmarkAdd-items_100000-2\n",
      "Plotting benchmark BenchmarkAdd-items_1000000-2\n",
      "Plotting benchmark BenchmarkAdd-items_10000000-2\n",
      "Plotting benchmark BenchmarkAddMulti-items_1000-2\n",
      "Plotting benchmark BenchmarkAddMulti-items_10000-2\n",
      "Plotting benchmark BenchmarkAddMulti-items_100000-2\n",
      "Plotting benchmark BenchmarkAddMulti-items_1000000-2\n",
      "Plotting benchmark BenchmarkAddMulti-items_10000000-2\n",
      "Plotting benchmark BenchmarkAppendDecimalToFloat-Integers-2\n",
      "Plotting benchmark BenchmarkAppendDecimalToFloat-Ones-2\n",
      "Plotting benchmark BenchmarkAppendDecimalToFloat-RealFloat-2\n",
      "Plotting benchmark BenchmarkAppendDecimalToFloat-Zeros-2\n",
      "Plotting benchmark BenchmarkAppendFloatToDecimal-Integers-2\n",
      "Plotting benchmark BenchmarkAppendFloatToDecimal-Ones-2\n",
      "Plotting benchmark BenchmarkAppendFloatToDecimal-RealFloat-2\n",
      "Plotting benchmark BenchmarkAppendFloatToDecimal-Zeros-2\n",
      "Plotting benchmark BenchmarkBlockStreamReaderBlocksBestCase-2\n",
      "Plotting benchmark BenchmarkBlockStreamReaderBlocksWorstCase-2\n",
      "Plotting benchmark BenchmarkBlockStreamReaderRowsBestCase-2\n",
      "Plotting benchmark BenchmarkBlockStreamReaderRowsWorstCase-2\n",
      "Plotting benchmark BenchmarkBlockStreamWriterBlocksBestCase-2\n",
      "Plotting benchmark BenchmarkBlockStreamWriterBlocksWorstCase-2\n",
      "Plotting benchmark BenchmarkBlockStreamWriterRowsBestCase-2\n",
      "Plotting benchmark BenchmarkBlockStreamWriterRowsWorstCase-2\n",
      "Plotting benchmark BenchmarkDeduplicateSamples-minScrapeInterval=10s-2\n",
      "Plotting benchmark BenchmarkDeduplicateSamples-minScrapeInterval=1s-2\n",
      "Plotting benchmark BenchmarkDeduplicateSamples-minScrapeInterval=2s-2\n",
      "Plotting benchmark BenchmarkDeduplicateSamples-minScrapeInterval=5s-2\n",
      "Plotting benchmark BenchmarkFromFloat-0-2\n",
      "Plotting benchmark BenchmarkFromFloat-1.2334345e+07-2\n",
      "Plotting benchmark BenchmarkFromFloat-1.23454435e+31-2\n",
      "Plotting benchmark BenchmarkFromFloat-1.2345678901e+14-2\n",
      "Plotting benchmark BenchmarkFromFloat-1234-2\n",
      "Plotting benchmark BenchmarkFromFloat-12343.4344-2\n",
      "Plotting benchmark BenchmarkInmemoryBlockMarshal-2\n",
      "Plotting benchmark BenchmarkInmemoryBlockUnmarshal-2\n",
      "Plotting benchmark BenchmarkInmemoryPartInitFromRowsBestCase-2\n",
      "Plotting benchmark BenchmarkInmemoryPartInitFromRowsWorstCase-2\n",
      "Plotting benchmark BenchmarkIntersectFullOverlap-items_1000-2\n",
      "Plotting benchmark BenchmarkIntersectFullOverlap-items_10000-2\n",
      "Plotting benchmark BenchmarkIntersectFullOverlap-items_100000-2\n",
      "Plotting benchmark BenchmarkIntersectFullOverlap-items_1000000-2\n",
      "Plotting benchmark BenchmarkIntersectFullOverlap-items_10000000-2\n",
      "Plotting benchmark BenchmarkIntersectNoOverlap-items_1000-2\n",
      "Plotting benchmark BenchmarkIntersectNoOverlap-items_10000-2\n",
      "Plotting benchmark BenchmarkIntersectNoOverlap-items_100000-2\n",
      "Plotting benchmark BenchmarkIntersectNoOverlap-items_1000000-2\n",
      "Plotting benchmark BenchmarkIntersectNoOverlap-items_10000000-2\n",
      "Plotting benchmark BenchmarkIntersectPartialOverlap-items_1000-2\n",
      "Plotting benchmark BenchmarkIntersectPartialOverlap-items_10000-2\n",
      "Plotting benchmark BenchmarkIntersectPartialOverlap-items_100000-2\n",
      "Plotting benchmark BenchmarkIntersectPartialOverlap-items_1000000-2\n",
      "Plotting benchmark BenchmarkIntersectPartialOverlap-items_10000000-2\n",
      "Plotting benchmark BenchmarkMapAddNoAllocs-items_1000-2\n",
      "Plotting benchmark BenchmarkMapAddNoAllocs-items_10000-2\n",
      "Plotting benchmark BenchmarkMapAddNoAllocs-items_100000-2\n",
      "Plotting benchmark BenchmarkMapAddNoAllocs-items_1000000-2\n",
      "Plotting benchmark BenchmarkMapAddNoAllocs-items_10000000-2\n",
      "Plotting benchmark BenchmarkMapAddRandomLastBits-lastBits_20-2\n",
      "Plotting benchmark BenchmarkMapAddRandomLastBits-lastBits_24-2\n",
      "Plotting benchmark BenchmarkMapAddRandomLastBits-lastBits_28-2\n",
      "Plotting benchmark BenchmarkMapAddRandomLastBits-lastBits_32-2\n",
      "Plotting benchmark BenchmarkMapAddReuse-items_1000-2\n",
      "Plotting benchmark BenchmarkMapAddReuse-items_10000-2\n",
      "Plotting benchmark BenchmarkMapAddReuse-items_100000-2\n",
      "Plotting benchmark BenchmarkMapAddReuse-items_1000000-2\n",
      "Plotting benchmark BenchmarkMapAddReuse-items_10000000-2\n",
      "Plotting benchmark BenchmarkMapAddWithAllocs-items_1000-2\n",
      "Plotting benchmark BenchmarkMapAddWithAllocs-items_10000-2\n",
      "Plotting benchmark BenchmarkMapAddWithAllocs-items_100000-2\n",
      "Plotting benchmark BenchmarkMapAddWithAllocs-items_1000000-2\n",
      "Plotting benchmark BenchmarkMapAddWithAllocs-items_10000000-2\n",
      "Plotting benchmark BenchmarkMapHasHit-items_1000-2\n",
      "Plotting benchmark BenchmarkMapHasHit-items_10000-2\n",
      "Plotting benchmark BenchmarkMapHasHit-items_100000-2\n",
      "Plotting benchmark BenchmarkMapHasHit-items_1000000-2\n",
      "Plotting benchmark BenchmarkMapHasHit-items_10000000-2\n",
      "Plotting benchmark BenchmarkMapHasMiss-items_1000-2\n",
      "Plotting benchmark BenchmarkMapHasMiss-items_10000-2\n",
      "Plotting benchmark BenchmarkMapHasMiss-items_100000-2\n",
      "Plotting benchmark BenchmarkMapHasMiss-items_1000000-2\n",
      "Plotting benchmark BenchmarkMapHasMiss-items_10000000-2\n",
      "Plotting benchmark BenchmarkMarshalConstArray-2\n",
      "Plotting benchmark BenchmarkMarshalDeltaConstArray-2\n",
      "Plotting benchmark BenchmarkMarshalGaugeArray-2\n",
      "Plotting benchmark BenchmarkMarshalInt64-2\n",
      "Plotting benchmark BenchmarkMarshalInt64Array-2\n",
      "Plotting benchmark BenchmarkMarshalInt64NearestDelta-precisionBits_4-2\n",
      "Plotting benchmark BenchmarkMarshalInt64NearestDelta-precisionBits_64-2\n",
      "Plotting benchmark BenchmarkMarshalInt64NearestDelta2-precisionBits_4-2\n",
      "Plotting benchmark BenchmarkMarshalInt64NearestDelta2-precisionBits_64-2\n",
      "Plotting benchmark BenchmarkMarshalUint64-2\n",
      "Plotting benchmark BenchmarkMarshalVarInt64s-up-to-(1--13)-1-2\n",
      "Plotting benchmark BenchmarkMarshalVarInt64s-up-to-(1--27)-1-2\n",
      "Plotting benchmark BenchmarkMarshalVarInt64s-up-to-(1--6)-1-2\n",
      "Plotting benchmark BenchmarkMarshalVarInt64s-up-to-(1--63)-1-2\n",
      "Plotting benchmark BenchmarkMarshalZeroConstArray-2\n",
      "Plotting benchmark BenchmarkMergeBlockStreamsFourSourcesBestCase-2\n",
      "Plotting benchmark BenchmarkMergeBlockStreamsFourSourcesWorstCase-2\n",
      "Plotting benchmark BenchmarkMergeBlockStreamsTwoSourcesBestCase-2\n",
      "Plotting benchmark BenchmarkMergeBlockStreamsTwoSourcesWorstCase-2\n",
      "Plotting benchmark BenchmarkRegexpFilterMatch-2\n",
      "Plotting benchmark BenchmarkRegexpFilterMismatch-2\n",
      "Plotting benchmark BenchmarkRollupAvg-2\n",
      "Plotting benchmark BenchmarkScrapeWorkScrapeInternal-2\n",
      "Plotting benchmark BenchmarkSetAddRandomLastBits-lastBits_20-2\n",
      "Plotting benchmark BenchmarkSetAddRandomLastBits-lastBits_24-2\n",
      "Plotting benchmark BenchmarkSetAddRandomLastBits-lastBits_28-2\n",
      "Plotting benchmark BenchmarkSetAddRandomLastBits-lastBits_32-2\n",
      "Plotting benchmark BenchmarkSetAddWithAllocs-items_1000-2\n",
      "Plotting benchmark BenchmarkSetAddWithAllocs-items_10000-2\n",
      "Plotting benchmark BenchmarkSetAddWithAllocs-items_100000-2\n",
      "Plotting benchmark BenchmarkSetAddWithAllocs-items_1000000-2\n",
      "Plotting benchmark BenchmarkSetAddWithAllocs-items_10000000-2\n",
      "Plotting benchmark BenchmarkSetHasHit-items_1000-2\n",
      "Plotting benchmark BenchmarkSetHasHit-items_10000-2\n",
      "Plotting benchmark BenchmarkSetHasHit-items_100000-2\n",
      "Plotting benchmark BenchmarkSetHasHit-items_1000000-2\n",
      "Plotting benchmark BenchmarkSetHasHit-items_10000000-2\n",
      "Plotting benchmark BenchmarkSetHasMiss-items_1000-2\n",
      "Plotting benchmark BenchmarkSetHasMiss-items_10000-2\n",
      "Plotting benchmark BenchmarkSetHasMiss-items_100000-2\n",
      "Plotting benchmark BenchmarkSetHasMiss-items_1000000-2\n",
      "Plotting benchmark BenchmarkSetHasMiss-items_10000000-2\n",
      "Plotting benchmark BenchmarkStorageAddRows1\n",
      "Plotting benchmark BenchmarkStorageAddRows2\n",
      "Plotting benchmark BenchmarkStorageAddRows3\n",
      "Plotting benchmark BenchmarkStorageAddRows4\n",
      "Plotting benchmark BenchmarkTimeNowUnix-2\n",
      "Plotting benchmark BenchmarkUnionFullOverlap-items_1000-2\n",
      "Plotting benchmark BenchmarkUnionFullOverlap-items_10000-2\n",
      "Plotting benchmark BenchmarkUnionFullOverlap-items_100000-2\n",
      "Plotting benchmark BenchmarkUnionFullOverlap-items_1000000-2\n",
      "Plotting benchmark BenchmarkUnionFullOverlap-items_10000000-2\n",
      "Plotting benchmark BenchmarkUnionNoOverlap-items_1000-2\n",
      "Plotting benchmark BenchmarkUnionNoOverlap-items_10000-2\n",
      "Plotting benchmark BenchmarkUnionNoOverlap-items_100000-2\n",
      "Plotting benchmark BenchmarkUnionNoOverlap-items_1000000-2\n",
      "Plotting benchmark BenchmarkUnionNoOverlap-items_10000000-2\n",
      "Plotting benchmark BenchmarkUnionPartialOverlap-items_1000-2\n",
      "Plotting benchmark BenchmarkUnionPartialOverlap-items_10000-2\n",
      "Plotting benchmark BenchmarkUnionPartialOverlap-items_100000-2\n",
      "Plotting benchmark BenchmarkUnionPartialOverlap-items_1000000-2\n",
      "Plotting benchmark BenchmarkUnionPartialOverlap-items_10000000-2\n",
      "Plotting benchmark BenchmarkUnixTimestamp-2\n",
      "Plotting benchmark BenchmarkUnmarshalConstArray-2\n",
      "Plotting benchmark BenchmarkUnmarshalDeltaConstArray-2\n",
      "Plotting benchmark BenchmarkUnmarshalGaugeArray-2\n",
      "Plotting benchmark BenchmarkUnmarshalInt64-2\n",
      "Plotting benchmark BenchmarkUnmarshalInt64Array-2\n",
      "Plotting benchmark BenchmarkUnmarshalInt64NearestDelta-2\n",
      "Plotting benchmark BenchmarkUnmarshalInt64NearestDelta2-2\n",
      "Plotting benchmark BenchmarkUnmarshalUint64-2\n",
      "Plotting benchmark BenchmarkUnmarshalVarInt64s-up-to-(1--13)-1-2\n",
      "Plotting benchmark BenchmarkUnmarshalVarInt64s-up-to-(1--27)-1-2\n",
      "Plotting benchmark BenchmarkUnmarshalVarInt64s-up-to-(1--6)-1-2\n",
      "Plotting benchmark BenchmarkUnmarshalVarInt64s-up-to-(1--63)-1-2\n",
      "Plotting benchmark BenchmarkUnmarshalZeroConstArray-2\n"
     ]
    },
    {
     "name": "stderr",
     "output_type": "stream",
     "text": [
      "<ipython-input-4-60ae2eb0cf78>:28: RuntimeWarning: More than 20 figures have been opened. Figures created through the pyplot interface (`matplotlib.pyplot.figure`) are retained until explicitly closed and may consume too much memory. (To control this warning, see the rcParam `figure.max_open_warning`).\n",
      "  plot, axes = plt.subplots(figsize=(15,9))\n"
     ]
    },
    {
     "data": {
      "text/plain": "<Figure size 1080x648 with 0 Axes>"
     },
     "metadata": {},
     "output_type": "display_data"
    },
    {
     "data": {
      "text/plain": "<Figure size 1080x648 with 0 Axes>"
     },
     "metadata": {},
     "output_type": "display_data"
    },
    {
     "data": {
      "text/plain": "<Figure size 1080x648 with 0 Axes>"
     },
     "metadata": {},
     "output_type": "display_data"
    },
    {
     "data": {
      "text/plain": "<Figure size 1080x648 with 0 Axes>"
     },
     "metadata": {},
     "output_type": "display_data"
    },
    {
     "data": {
      "text/plain": "<Figure size 1080x648 with 0 Axes>"
     },
     "metadata": {},
     "output_type": "display_data"
    },
    {
     "data": {
      "text/plain": "<Figure size 1080x648 with 0 Axes>"
     },
     "metadata": {},
     "output_type": "display_data"
    },
    {
     "data": {
      "text/plain": "<Figure size 1080x648 with 0 Axes>"
     },
     "metadata": {},
     "output_type": "display_data"
    },
    {
     "data": {
      "text/plain": "<Figure size 1080x648 with 0 Axes>"
     },
     "metadata": {},
     "output_type": "display_data"
    },
    {
     "data": {
      "text/plain": "<Figure size 1080x648 with 0 Axes>"
     },
     "metadata": {},
     "output_type": "display_data"
    },
    {
     "data": {
      "text/plain": "<Figure size 1080x648 with 0 Axes>"
     },
     "metadata": {},
     "output_type": "display_data"
    },
    {
     "data": {
      "text/plain": "<Figure size 1080x648 with 0 Axes>"
     },
     "metadata": {},
     "output_type": "display_data"
    },
    {
     "data": {
      "text/plain": "<Figure size 1080x648 with 0 Axes>"
     },
     "metadata": {},
     "output_type": "display_data"
    },
    {
     "data": {
      "text/plain": "<Figure size 1080x648 with 0 Axes>"
     },
     "metadata": {},
     "output_type": "display_data"
    },
    {
     "data": {
      "text/plain": "<Figure size 1080x648 with 0 Axes>"
     },
     "metadata": {},
     "output_type": "display_data"
    },
    {
     "data": {
      "text/plain": "<Figure size 1080x648 with 0 Axes>"
     },
     "metadata": {},
     "output_type": "display_data"
    },
    {
     "data": {
      "text/plain": "<Figure size 1080x648 with 0 Axes>"
     },
     "metadata": {},
     "output_type": "display_data"
    },
    {
     "data": {
      "text/plain": "<Figure size 1080x648 with 0 Axes>"
     },
     "metadata": {},
     "output_type": "display_data"
    },
    {
     "data": {
      "text/plain": "<Figure size 1080x648 with 0 Axes>"
     },
     "metadata": {},
     "output_type": "display_data"
    },
    {
     "data": {
      "text/plain": "<Figure size 1080x648 with 0 Axes>"
     },
     "metadata": {},
     "output_type": "display_data"
    },
    {
     "data": {
      "text/plain": "<Figure size 1080x648 with 0 Axes>"
     },
     "metadata": {},
     "output_type": "display_data"
    },
    {
     "data": {
      "text/plain": "<Figure size 1080x648 with 0 Axes>"
     },
     "metadata": {},
     "output_type": "display_data"
    },
    {
     "data": {
      "text/plain": "<Figure size 1080x648 with 0 Axes>"
     },
     "metadata": {},
     "output_type": "display_data"
    },
    {
     "data": {
      "text/plain": "<Figure size 1080x648 with 0 Axes>"
     },
     "metadata": {},
     "output_type": "display_data"
    },
    {
     "data": {
      "text/plain": "<Figure size 1080x648 with 0 Axes>"
     },
     "metadata": {},
     "output_type": "display_data"
    },
    {
     "data": {
      "text/plain": "<Figure size 1080x648 with 0 Axes>"
     },
     "metadata": {},
     "output_type": "display_data"
    },
    {
     "data": {
      "text/plain": "<Figure size 1080x648 with 0 Axes>"
     },
     "metadata": {},
     "output_type": "display_data"
    },
    {
     "data": {
      "text/plain": "<Figure size 1080x648 with 0 Axes>"
     },
     "metadata": {},
     "output_type": "display_data"
    },
    {
     "data": {
      "text/plain": "<Figure size 1080x648 with 0 Axes>"
     },
     "metadata": {},
     "output_type": "display_data"
    },
    {
     "data": {
      "text/plain": "<Figure size 1080x648 with 0 Axes>"
     },
     "metadata": {},
     "output_type": "display_data"
    },
    {
     "data": {
      "text/plain": "<Figure size 1080x648 with 0 Axes>"
     },
     "metadata": {},
     "output_type": "display_data"
    },
    {
     "data": {
      "text/plain": "<Figure size 1080x648 with 0 Axes>"
     },
     "metadata": {},
     "output_type": "display_data"
    },
    {
     "data": {
      "text/plain": "<Figure size 1080x648 with 0 Axes>"
     },
     "metadata": {},
     "output_type": "display_data"
    },
    {
     "data": {
      "text/plain": "<Figure size 1080x648 with 0 Axes>"
     },
     "metadata": {},
     "output_type": "display_data"
    },
    {
     "data": {
      "text/plain": "<Figure size 1080x648 with 0 Axes>"
     },
     "metadata": {},
     "output_type": "display_data"
    },
    {
     "data": {
      "text/plain": "<Figure size 1080x648 with 0 Axes>"
     },
     "metadata": {},
     "output_type": "display_data"
    },
    {
     "data": {
      "text/plain": "<Figure size 1080x648 with 0 Axes>"
     },
     "metadata": {},
     "output_type": "display_data"
    },
    {
     "data": {
      "text/plain": "<Figure size 1080x648 with 0 Axes>"
     },
     "metadata": {},
     "output_type": "display_data"
    },
    {
     "data": {
      "text/plain": "<Figure size 1080x648 with 0 Axes>"
     },
     "metadata": {},
     "output_type": "display_data"
    },
    {
     "data": {
      "text/plain": "<Figure size 1080x648 with 0 Axes>"
     },
     "metadata": {},
     "output_type": "display_data"
    },
    {
     "data": {
      "text/plain": "<Figure size 1080x648 with 0 Axes>"
     },
     "metadata": {},
     "output_type": "display_data"
    },
    {
     "data": {
      "text/plain": "<Figure size 1080x648 with 0 Axes>"
     },
     "metadata": {},
     "output_type": "display_data"
    },
    {
     "data": {
      "text/plain": "<Figure size 1080x648 with 0 Axes>"
     },
     "metadata": {},
     "output_type": "display_data"
    },
    {
     "data": {
      "text/plain": "<Figure size 1080x648 with 0 Axes>"
     },
     "metadata": {},
     "output_type": "display_data"
    },
    {
     "data": {
      "text/plain": "<Figure size 1080x648 with 0 Axes>"
     },
     "metadata": {},
     "output_type": "display_data"
    },
    {
     "data": {
      "text/plain": "<Figure size 1080x648 with 0 Axes>"
     },
     "metadata": {},
     "output_type": "display_data"
    },
    {
     "data": {
      "text/plain": "<Figure size 1080x648 with 0 Axes>"
     },
     "metadata": {},
     "output_type": "display_data"
    },
    {
     "data": {
      "text/plain": "<Figure size 1080x648 with 0 Axes>"
     },
     "metadata": {},
     "output_type": "display_data"
    },
    {
     "data": {
      "text/plain": "<Figure size 1080x648 with 0 Axes>"
     },
     "metadata": {},
     "output_type": "display_data"
    },
    {
     "data": {
      "text/plain": "<Figure size 1080x648 with 0 Axes>"
     },
     "metadata": {},
     "output_type": "display_data"
    },
    {
     "data": {
      "text/plain": "<Figure size 1080x648 with 0 Axes>"
     },
     "metadata": {},
     "output_type": "display_data"
    },
    {
     "data": {
      "text/plain": "<Figure size 1080x648 with 0 Axes>"
     },
     "metadata": {},
     "output_type": "display_data"
    },
    {
     "data": {
      "text/plain": "<Figure size 1080x648 with 0 Axes>"
     },
     "metadata": {},
     "output_type": "display_data"
    },
    {
     "data": {
      "text/plain": "<Figure size 1080x648 with 0 Axes>"
     },
     "metadata": {},
     "output_type": "display_data"
    },
    {
     "data": {
      "text/plain": "<Figure size 1080x648 with 0 Axes>"
     },
     "metadata": {},
     "output_type": "display_data"
    },
    {
     "data": {
      "text/plain": "<Figure size 1080x648 with 0 Axes>"
     },
     "metadata": {},
     "output_type": "display_data"
    },
    {
     "data": {
      "text/plain": "<Figure size 1080x648 with 0 Axes>"
     },
     "metadata": {},
     "output_type": "display_data"
    },
    {
     "data": {
      "text/plain": "<Figure size 1080x648 with 0 Axes>"
     },
     "metadata": {},
     "output_type": "display_data"
    },
    {
     "data": {
      "text/plain": "<Figure size 1080x648 with 0 Axes>"
     },
     "metadata": {},
     "output_type": "display_data"
    },
    {
     "data": {
      "text/plain": "<Figure size 1080x648 with 0 Axes>"
     },
     "metadata": {},
     "output_type": "display_data"
    },
    {
     "data": {
      "text/plain": "<Figure size 1080x648 with 0 Axes>"
     },
     "metadata": {},
     "output_type": "display_data"
    },
    {
     "data": {
      "text/plain": "<Figure size 1080x648 with 0 Axes>"
     },
     "metadata": {},
     "output_type": "display_data"
    },
    {
     "data": {
      "text/plain": "<Figure size 1080x648 with 0 Axes>"
     },
     "metadata": {},
     "output_type": "display_data"
    },
    {
     "data": {
      "text/plain": "<Figure size 1080x648 with 0 Axes>"
     },
     "metadata": {},
     "output_type": "display_data"
    },
    {
     "data": {
      "text/plain": "<Figure size 1080x648 with 0 Axes>"
     },
     "metadata": {},
     "output_type": "display_data"
    },
    {
     "data": {
      "text/plain": "<Figure size 1080x648 with 0 Axes>"
     },
     "metadata": {},
     "output_type": "display_data"
    },
    {
     "data": {
      "text/plain": "<Figure size 1080x648 with 0 Axes>"
     },
     "metadata": {},
     "output_type": "display_data"
    },
    {
     "data": {
      "text/plain": "<Figure size 1080x648 with 0 Axes>"
     },
     "metadata": {},
     "output_type": "display_data"
    },
    {
     "data": {
      "text/plain": "<Figure size 1080x648 with 0 Axes>"
     },
     "metadata": {},
     "output_type": "display_data"
    },
    {
     "data": {
      "text/plain": "<Figure size 1080x648 with 0 Axes>"
     },
     "metadata": {},
     "output_type": "display_data"
    },
    {
     "data": {
      "text/plain": "<Figure size 1080x648 with 0 Axes>"
     },
     "metadata": {},
     "output_type": "display_data"
    },
    {
     "data": {
      "text/plain": "<Figure size 1080x648 with 0 Axes>"
     },
     "metadata": {},
     "output_type": "display_data"
    },
    {
     "data": {
      "text/plain": "<Figure size 1080x648 with 0 Axes>"
     },
     "metadata": {},
     "output_type": "display_data"
    },
    {
     "data": {
      "text/plain": "<Figure size 1080x648 with 0 Axes>"
     },
     "metadata": {},
     "output_type": "display_data"
    },
    {
     "data": {
      "text/plain": "<Figure size 1080x648 with 0 Axes>"
     },
     "metadata": {},
     "output_type": "display_data"
    },
    {
     "data": {
      "text/plain": "<Figure size 1080x648 with 0 Axes>"
     },
     "metadata": {},
     "output_type": "display_data"
    },
    {
     "data": {
      "text/plain": "<Figure size 1080x648 with 0 Axes>"
     },
     "metadata": {},
     "output_type": "display_data"
    },
    {
     "data": {
      "text/plain": "<Figure size 1080x648 with 0 Axes>"
     },
     "metadata": {},
     "output_type": "display_data"
    },
    {
     "data": {
      "text/plain": "<Figure size 1080x648 with 0 Axes>"
     },
     "metadata": {},
     "output_type": "display_data"
    },
    {
     "data": {
      "text/plain": "<Figure size 1080x648 with 0 Axes>"
     },
     "metadata": {},
     "output_type": "display_data"
    },
    {
     "data": {
      "text/plain": "<Figure size 1080x648 with 0 Axes>"
     },
     "metadata": {},
     "output_type": "display_data"
    },
    {
     "data": {
      "text/plain": "<Figure size 1080x648 with 0 Axes>"
     },
     "metadata": {},
     "output_type": "display_data"
    },
    {
     "data": {
      "text/plain": "<Figure size 1080x648 with 0 Axes>"
     },
     "metadata": {},
     "output_type": "display_data"
    },
    {
     "data": {
      "text/plain": "<Figure size 1080x648 with 0 Axes>"
     },
     "metadata": {},
     "output_type": "display_data"
    },
    {
     "data": {
      "text/plain": "<Figure size 1080x648 with 0 Axes>"
     },
     "metadata": {},
     "output_type": "display_data"
    },
    {
     "data": {
      "text/plain": "<Figure size 1080x648 with 0 Axes>"
     },
     "metadata": {},
     "output_type": "display_data"
    },
    {
     "data": {
      "text/plain": "<Figure size 1080x648 with 0 Axes>"
     },
     "metadata": {},
     "output_type": "display_data"
    },
    {
     "data": {
      "text/plain": "<Figure size 1080x648 with 0 Axes>"
     },
     "metadata": {},
     "output_type": "display_data"
    },
    {
     "data": {
      "text/plain": "<Figure size 1080x648 with 0 Axes>"
     },
     "metadata": {},
     "output_type": "display_data"
    },
    {
     "data": {
      "text/plain": "<Figure size 1080x648 with 0 Axes>"
     },
     "metadata": {},
     "output_type": "display_data"
    },
    {
     "data": {
      "text/plain": "<Figure size 1080x648 with 0 Axes>"
     },
     "metadata": {},
     "output_type": "display_data"
    },
    {
     "data": {
      "text/plain": "<Figure size 1080x648 with 0 Axes>"
     },
     "metadata": {},
     "output_type": "display_data"
    },
    {
     "data": {
      "text/plain": "<Figure size 1080x648 with 0 Axes>"
     },
     "metadata": {},
     "output_type": "display_data"
    },
    {
     "data": {
      "text/plain": "<Figure size 1080x648 with 0 Axes>"
     },
     "metadata": {},
     "output_type": "display_data"
    },
    {
     "data": {
      "text/plain": "<Figure size 1080x648 with 0 Axes>"
     },
     "metadata": {},
     "output_type": "display_data"
    },
    {
     "data": {
      "text/plain": "<Figure size 1080x648 with 0 Axes>"
     },
     "metadata": {},
     "output_type": "display_data"
    },
    {
     "data": {
      "text/plain": "<Figure size 1080x648 with 0 Axes>"
     },
     "metadata": {},
     "output_type": "display_data"
    },
    {
     "data": {
      "text/plain": "<Figure size 1080x648 with 0 Axes>"
     },
     "metadata": {},
     "output_type": "display_data"
    },
    {
     "data": {
      "text/plain": "<Figure size 1080x648 with 0 Axes>"
     },
     "metadata": {},
     "output_type": "display_data"
    },
    {
     "data": {
      "text/plain": "<Figure size 1080x648 with 0 Axes>"
     },
     "metadata": {},
     "output_type": "display_data"
    },
    {
     "data": {
      "text/plain": "<Figure size 1080x648 with 0 Axes>"
     },
     "metadata": {},
     "output_type": "display_data"
    },
    {
     "data": {
      "text/plain": "<Figure size 1080x648 with 0 Axes>"
     },
     "metadata": {},
     "output_type": "display_data"
    },
    {
     "data": {
      "text/plain": "<Figure size 1080x648 with 0 Axes>"
     },
     "metadata": {},
     "output_type": "display_data"
    },
    {
     "data": {
      "text/plain": "<Figure size 1080x648 with 0 Axes>"
     },
     "metadata": {},
     "output_type": "display_data"
    },
    {
     "data": {
      "text/plain": "<Figure size 1080x648 with 0 Axes>"
     },
     "metadata": {},
     "output_type": "display_data"
    },
    {
     "data": {
      "text/plain": "<Figure size 1080x648 with 0 Axes>"
     },
     "metadata": {},
     "output_type": "display_data"
    },
    {
     "data": {
      "text/plain": "<Figure size 1080x648 with 0 Axes>"
     },
     "metadata": {},
     "output_type": "display_data"
    },
    {
     "data": {
      "text/plain": "<Figure size 1080x648 with 0 Axes>"
     },
     "metadata": {},
     "output_type": "display_data"
    },
    {
     "data": {
      "text/plain": "<Figure size 1080x648 with 0 Axes>"
     },
     "metadata": {},
     "output_type": "display_data"
    },
    {
     "data": {
      "text/plain": "<Figure size 1080x648 with 0 Axes>"
     },
     "metadata": {},
     "output_type": "display_data"
    },
    {
     "data": {
      "text/plain": "<Figure size 1080x648 with 0 Axes>"
     },
     "metadata": {},
     "output_type": "display_data"
    },
    {
     "data": {
      "text/plain": "<Figure size 1080x648 with 0 Axes>"
     },
     "metadata": {},
     "output_type": "display_data"
    },
    {
     "data": {
      "text/plain": "<Figure size 1080x648 with 0 Axes>"
     },
     "metadata": {},
     "output_type": "display_data"
    },
    {
     "data": {
      "text/plain": "<Figure size 1080x648 with 0 Axes>"
     },
     "metadata": {},
     "output_type": "display_data"
    },
    {
     "data": {
      "text/plain": "<Figure size 1080x648 with 0 Axes>"
     },
     "metadata": {},
     "output_type": "display_data"
    },
    {
     "data": {
      "text/plain": "<Figure size 1080x648 with 0 Axes>"
     },
     "metadata": {},
     "output_type": "display_data"
    },
    {
     "data": {
      "text/plain": "<Figure size 1080x648 with 0 Axes>"
     },
     "metadata": {},
     "output_type": "display_data"
    },
    {
     "data": {
      "text/plain": "<Figure size 1080x648 with 0 Axes>"
     },
     "metadata": {},
     "output_type": "display_data"
    },
    {
     "data": {
      "text/plain": "<Figure size 1080x648 with 0 Axes>"
     },
     "metadata": {},
     "output_type": "display_data"
    },
    {
     "data": {
      "text/plain": "<Figure size 1080x648 with 0 Axes>"
     },
     "metadata": {},
     "output_type": "display_data"
    },
    {
     "data": {
      "text/plain": "<Figure size 1080x648 with 0 Axes>"
     },
     "metadata": {},
     "output_type": "display_data"
    },
    {
     "data": {
      "text/plain": "<Figure size 1080x648 with 0 Axes>"
     },
     "metadata": {},
     "output_type": "display_data"
    },
    {
     "data": {
      "text/plain": "<Figure size 1080x648 with 0 Axes>"
     },
     "metadata": {},
     "output_type": "display_data"
    },
    {
     "data": {
      "text/plain": "<Figure size 1080x648 with 0 Axes>"
     },
     "metadata": {},
     "output_type": "display_data"
    },
    {
     "data": {
      "text/plain": "<Figure size 1080x648 with 0 Axes>"
     },
     "metadata": {},
     "output_type": "display_data"
    },
    {
     "data": {
      "text/plain": "<Figure size 1080x648 with 0 Axes>"
     },
     "metadata": {},
     "output_type": "display_data"
    },
    {
     "data": {
      "text/plain": "<Figure size 1080x648 with 0 Axes>"
     },
     "metadata": {},
     "output_type": "display_data"
    },
    {
     "data": {
      "text/plain": "<Figure size 1080x648 with 0 Axes>"
     },
     "metadata": {},
     "output_type": "display_data"
    },
    {
     "data": {
      "text/plain": "<Figure size 1080x648 with 0 Axes>"
     },
     "metadata": {},
     "output_type": "display_data"
    },
    {
     "data": {
      "text/plain": "<Figure size 1080x648 with 0 Axes>"
     },
     "metadata": {},
     "output_type": "display_data"
    },
    {
     "data": {
      "text/plain": "<Figure size 1080x648 with 0 Axes>"
     },
     "metadata": {},
     "output_type": "display_data"
    },
    {
     "data": {
      "text/plain": "<Figure size 1080x648 with 0 Axes>"
     },
     "metadata": {},
     "output_type": "display_data"
    },
    {
     "data": {
      "text/plain": "<Figure size 1080x648 with 0 Axes>"
     },
     "metadata": {},
     "output_type": "display_data"
    },
    {
     "data": {
      "text/plain": "<Figure size 1080x648 with 0 Axes>"
     },
     "metadata": {},
     "output_type": "display_data"
    },
    {
     "data": {
      "text/plain": "<Figure size 1080x648 with 0 Axes>"
     },
     "metadata": {},
     "output_type": "display_data"
    },
    {
     "data": {
      "text/plain": "<Figure size 1080x648 with 0 Axes>"
     },
     "metadata": {},
     "output_type": "display_data"
    },
    {
     "data": {
      "text/plain": "<Figure size 1080x648 with 0 Axes>"
     },
     "metadata": {},
     "output_type": "display_data"
    },
    {
     "data": {
      "text/plain": "<Figure size 1080x648 with 0 Axes>"
     },
     "metadata": {},
     "output_type": "display_data"
    },
    {
     "data": {
      "text/plain": "<Figure size 1080x648 with 0 Axes>"
     },
     "metadata": {},
     "output_type": "display_data"
    },
    {
     "data": {
      "text/plain": "<Figure size 1080x648 with 0 Axes>"
     },
     "metadata": {},
     "output_type": "display_data"
    },
    {
     "data": {
      "text/plain": "<Figure size 1080x648 with 0 Axes>"
     },
     "metadata": {},
     "output_type": "display_data"
    },
    {
     "data": {
      "text/plain": "<Figure size 1080x648 with 0 Axes>"
     },
     "metadata": {},
     "output_type": "display_data"
    },
    {
     "data": {
      "text/plain": "<Figure size 1080x648 with 0 Axes>"
     },
     "metadata": {},
     "output_type": "display_data"
    },
    {
     "data": {
      "text/plain": "<Figure size 1080x648 with 0 Axes>"
     },
     "metadata": {},
     "output_type": "display_data"
    },
    {
     "data": {
      "text/plain": "<Figure size 1080x648 with 0 Axes>"
     },
     "metadata": {},
     "output_type": "display_data"
    },
    {
     "data": {
      "text/plain": "<Figure size 1080x648 with 0 Axes>"
     },
     "metadata": {},
     "output_type": "display_data"
    },
    {
     "data": {
      "text/plain": "<Figure size 1080x648 with 0 Axes>"
     },
     "metadata": {},
     "output_type": "display_data"
    },
    {
     "data": {
      "text/plain": "<Figure size 1080x648 with 0 Axes>"
     },
     "metadata": {},
     "output_type": "display_data"
    },
    {
     "data": {
      "text/plain": "<Figure size 1080x648 with 0 Axes>"
     },
     "metadata": {},
     "output_type": "display_data"
    },
    {
     "data": {
      "text/plain": "<Figure size 1080x648 with 0 Axes>"
     },
     "metadata": {},
     "output_type": "display_data"
    },
    {
     "data": {
      "text/plain": "<Figure size 1080x648 with 0 Axes>"
     },
     "metadata": {},
     "output_type": "display_data"
    },
    {
     "data": {
      "text/plain": "<Figure size 1080x648 with 0 Axes>"
     },
     "metadata": {},
     "output_type": "display_data"
    },
    {
     "data": {
      "text/plain": "<Figure size 1080x648 with 0 Axes>"
     },
     "metadata": {},
     "output_type": "display_data"
    },
    {
     "data": {
      "text/plain": "<Figure size 1080x648 with 0 Axes>"
     },
     "metadata": {},
     "output_type": "display_data"
    },
    {
     "data": {
      "text/plain": "<Figure size 1080x648 with 0 Axes>"
     },
     "metadata": {},
     "output_type": "display_data"
    },
    {
     "data": {
      "text/plain": "<Figure size 1080x648 with 0 Axes>"
     },
     "metadata": {},
     "output_type": "display_data"
    },
    {
     "data": {
      "text/plain": "<Figure size 1080x648 with 0 Axes>"
     },
     "metadata": {},
     "output_type": "display_data"
    },
    {
     "data": {
      "text/plain": "<Figure size 1080x648 with 0 Axes>"
     },
     "metadata": {},
     "output_type": "display_data"
    },
    {
     "data": {
      "text/plain": "<Figure size 1080x648 with 0 Axes>"
     },
     "metadata": {},
     "output_type": "display_data"
    },
    {
     "data": {
      "text/plain": "<Figure size 1080x648 with 0 Axes>"
     },
     "metadata": {},
     "output_type": "display_data"
    },
    {
     "data": {
      "text/plain": "<Figure size 1080x648 with 0 Axes>"
     },
     "metadata": {},
     "output_type": "display_data"
    },
    {
     "data": {
      "text/plain": "<Figure size 1080x648 with 0 Axes>"
     },
     "metadata": {},
     "output_type": "display_data"
    },
    {
     "data": {
      "text/plain": "<Figure size 1080x648 with 0 Axes>"
     },
     "metadata": {},
     "output_type": "display_data"
    },
    {
     "data": {
      "text/plain": "<Figure size 1080x648 with 0 Axes>"
     },
     "metadata": {},
     "output_type": "display_data"
    },
    {
     "data": {
      "text/plain": "<Figure size 1080x648 with 0 Axes>"
     },
     "metadata": {},
     "output_type": "display_data"
    }
   ],
   "metadata": {
    "collapsed": false,
    "pycharm": {
     "name": "#%%\n"
    }
   }
  }
 ],
 "metadata": {
  "kernelspec": {
   "name": "python3",
   "language": "python",
   "display_name": "Python 3"
  },
  "language_info": {
   "name": "python",
   "version": "3.8.10",
   "mimetype": "text/x-python",
   "codemirror_mode": {
    "name": "ipython",
    "version": 3
   },
   "pygments_lexer": "ipython3",
   "nbconvert_exporter": "python",
   "file_extension": ".py"
  },
  "interpreter": {
   "hash": "d66d6b08fe58b329152bac548c9eade7eaa4839341ff9c060dccc73094c59e94"
  }
 },
 "nbformat": 4,
 "nbformat_minor": 2
}