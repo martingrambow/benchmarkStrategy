{
 "cells": [
  {
   "cell_type": "code",
   "execution_count": 1,
   "metadata": {
    "collapsed": true
   },
   "outputs": [],
   "source": [
    "import pandas as pd\n",
    "import glob\n",
    "import matplotlib.pyplot as plt\n",
    "import seaborn as sns\n",
    "from matplotlib.lines import Line2D\n",
    "import matplotlib.patches as mpatches\n",
    "sns.set()"
   ]
  },
  {
   "cell_type": "code",
   "execution_count": 2,
   "outputs": [],
   "source": [
    "#foldername = \"../../results_all/micro_bootstrapping_influx_opti\"\n",
    "\n",
    "foldername = \"../../results_all/micro_bootstrapping_influx\""
   ],
   "metadata": {
    "collapsed": false,
    "pycharm": {
     "name": "#%%\n"
    }
   }
  },
  {
   "cell_type": "code",
   "execution_count": 3,
   "outputs": [],
   "source": [
    "variances = []\n"
   ],
   "metadata": {
    "collapsed": false,
    "pycharm": {
     "name": "#%%\n"
    }
   }
  },
  {
   "cell_type": "code",
   "execution_count": 4,
   "outputs": [
    {
     "name": "stdout",
     "output_type": "stream",
     "text": [
      "Plotting benchmark BenchmarkAppendUnescaped-2\n",
      "Plotting benchmark BenchmarkBlockTypeToInfluxQLDataType-2\n",
      "Plotting benchmark BenchmarkBooleanArrayDecodeAll-1-2\n",
      "Plotting benchmark BenchmarkBooleanArrayDecodeAll-1000-2\n",
      "Plotting benchmark BenchmarkBooleanArrayDecodeAll-55-2\n",
      "Plotting benchmark BenchmarkBooleanArrayDecodeAll-555-2\n",
      "Plotting benchmark BenchmarkBooleanDecoder_DecodeAll-1-2\n",
      "Plotting benchmark BenchmarkBooleanDecoder_DecodeAll-1000-2\n",
      "Plotting benchmark BenchmarkBooleanDecoder_DecodeAll-55-2\n",
      "Plotting benchmark BenchmarkBooleanDecoder_DecodeAll-555-2\n",
      "Plotting benchmark BenchmarkBytesEscapeMany-2\n",
      "Plotting benchmark BenchmarkBytesEscapeNoEscapes-2\n",
      "Plotting benchmark BenchmarkCacheParallelFloatEntries-2\n",
      "Plotting benchmark BenchmarkContains_False-2\n",
      "Plotting benchmark BenchmarkContains_True-2\n",
      "Plotting benchmark BenchmarkCountIterator_100K-2\n",
      "Plotting benchmark BenchmarkCountIterator_1K-2\n",
      "Plotting benchmark BenchmarkCountIterator_1M-2\n",
      "Plotting benchmark BenchmarkCreateIterator-tsi1_shards_1-2\n",
      "Plotting benchmark BenchmarkCreateIterator-tsi1_shards_2-2\n",
      "Plotting benchmark BenchmarkCreateIterator-tsi1_shards_3-2\n",
      "Plotting benchmark BenchmarkCreateIterator-tsi1_shards_4-2\n",
      "Plotting benchmark BenchmarkCreateIterator-tsi1_shards_5-2\n",
      "Plotting benchmark BenchmarkDecode-2\n",
      "Plotting benchmark BenchmarkDecodeBlock_Boolean_Empty-2\n",
      "Plotting benchmark BenchmarkDecodeBlock_Boolean_EqualSize-2\n",
      "Plotting benchmark BenchmarkDecodeBlock_Boolean_TypeSpecific-2\n",
      "Plotting benchmark BenchmarkDecodeBlock_Float_Empty-2\n",
      "Plotting benchmark BenchmarkDecodeBlock_Float_EqualSize-2\n",
      "Plotting benchmark BenchmarkDecodeBlock_Float_TypeSpecific-2\n",
      "Plotting benchmark BenchmarkDecodeBlock_Integer_Empty-2\n",
      "Plotting benchmark BenchmarkDecodeBlock_Integer_EqualSize-2\n",
      "Plotting benchmark BenchmarkDecodeBlock_Integer_TypeSpecific-2\n",
      "Plotting benchmark BenchmarkDecodeBlock_String_Empty-2\n",
      "Plotting benchmark BenchmarkDecodeBlock_String_EqualSize-2\n",
      "Plotting benchmark BenchmarkDecodeBlock_String_TypeSpecific-2\n",
      "Plotting benchmark BenchmarkDecodeBooleanArrayBlock-1000-2\n",
      "Plotting benchmark BenchmarkDecodeBooleanArrayBlock-5-2\n",
      "Plotting benchmark BenchmarkDecodeBooleanArrayBlock-55-2\n",
      "Plotting benchmark BenchmarkDecodeBooleanArrayBlock-555-2\n",
      "Plotting benchmark BenchmarkDecodeBooleanBlock-1000-2\n",
      "Plotting benchmark BenchmarkDecodeBooleanBlock-5-2\n",
      "Plotting benchmark BenchmarkDecodeBooleanBlock-55-2\n",
      "Plotting benchmark BenchmarkDecodeBooleanBlock-555-2\n",
      "Plotting benchmark BenchmarkDecodeFloatArrayBlock-1000-2\n",
      "Plotting benchmark BenchmarkDecodeFloatArrayBlock-5-2\n",
      "Plotting benchmark BenchmarkDecodeFloatArrayBlock-55-2\n",
      "Plotting benchmark BenchmarkDecodeFloatArrayBlock-555-2\n",
      "Plotting benchmark BenchmarkDecodeFloatBlock-1000-2\n",
      "Plotting benchmark BenchmarkDecodeFloatBlock-5-2\n",
      "Plotting benchmark BenchmarkDecodeFloatBlock-55-2\n",
      "Plotting benchmark BenchmarkDecodeFloatBlock-555-2\n",
      "Plotting benchmark BenchmarkDecodeFloats-1000_ran-2\n",
      "Plotting benchmark BenchmarkDecodeFloats-1000_seq-2\n",
      "Plotting benchmark BenchmarkDecodeFloats-1_ran-2\n",
      "Plotting benchmark BenchmarkDecodeFloats-1_seq-2\n",
      "Plotting benchmark BenchmarkDecodeFloats-550_ran-2\n",
      "Plotting benchmark BenchmarkDecodeFloats-550_seq-2\n",
      "Plotting benchmark BenchmarkDecodeFloats-55_ran-2\n",
      "Plotting benchmark BenchmarkDecodeFloats-55_seq-2\n",
      "Plotting benchmark BenchmarkDecodeIntegerArrayBlock-rle_1000-2\n",
      "Plotting benchmark BenchmarkDecodeIntegerArrayBlock-rle_5-2\n",
      "Plotting benchmark BenchmarkDecodeIntegerArrayBlock-rle_55-2\n",
      "Plotting benchmark BenchmarkDecodeIntegerArrayBlock-rle_555-2\n",
      "Plotting benchmark BenchmarkDecodeIntegerArrayBlock-s8b_1000-2\n",
      "Plotting benchmark BenchmarkDecodeIntegerArrayBlock-s8b_5-2\n",
      "Plotting benchmark BenchmarkDecodeIntegerArrayBlock-s8b_55-2\n",
      "Plotting benchmark BenchmarkDecodeIntegerArrayBlock-s8b_555-2\n",
      "Plotting benchmark BenchmarkDecodeIntegerBlock-rle_1000-2\n",
      "Plotting benchmark BenchmarkDecodeIntegerBlock-rle_5-2\n",
      "Plotting benchmark BenchmarkDecodeIntegerBlock-rle_55-2\n",
      "Plotting benchmark BenchmarkDecodeIntegerBlock-rle_555-2\n",
      "Plotting benchmark BenchmarkDecodeIntegerBlock-s8b_1000-2\n",
      "Plotting benchmark BenchmarkDecodeIntegerBlock-s8b_5-2\n",
      "Plotting benchmark BenchmarkDecodeIntegerBlock-s8b_55-2\n",
      "Plotting benchmark BenchmarkDecodeIntegerBlock-s8b_555-2\n",
      "Plotting benchmark BenchmarkDecoder-2\n",
      "Plotting benchmark BenchmarkDecodeStringArrayBlock-1000-2\n",
      "Plotting benchmark BenchmarkDecodeStringArrayBlock-5-2\n",
      "Plotting benchmark BenchmarkDecodeStringArrayBlock-55-2\n",
      "Plotting benchmark BenchmarkDecodeStringArrayBlock-555-2\n",
      "Plotting benchmark BenchmarkDecodeStringBlock-1000-2\n",
      "Plotting benchmark BenchmarkDecodeStringBlock-5-2\n",
      "Plotting benchmark BenchmarkDecodeStringBlock-55-2\n",
      "Plotting benchmark BenchmarkDecodeStringBlock-555-2\n",
      "Plotting benchmark BenchmarkDistinctIterator_100K-2\n",
      "Plotting benchmark BenchmarkDistinctIterator_1K-2\n",
      "Plotting benchmark BenchmarkDistinctIterator_1M-2\n",
      "Plotting benchmark BenchmarkEncodeBooleans-1000_ran-batch-2\n",
      "Plotting benchmark BenchmarkEncodeBooleans-1000_ran-itr-2\n",
      "Plotting benchmark BenchmarkEncodeBooleans-100_ran-batch-2\n",
      "Plotting benchmark BenchmarkEncodeBooleans-100_ran-itr-2\n",
      "Plotting benchmark BenchmarkEncodeBooleans-10_ran-batch-2\n",
      "Plotting benchmark BenchmarkEncodeBooleans-10_ran-itr-2\n",
      "Plotting benchmark BenchmarkEncoder-2\n",
      "Plotting benchmark BenchmarkEncodeStrings-10-batch-2\n",
      "Plotting benchmark BenchmarkEncodeStrings-10-itr-2\n",
      "Plotting benchmark BenchmarkEncodeStrings-100-batch-2\n",
      "Plotting benchmark BenchmarkEncodeStrings-100-itr-2\n",
      "Plotting benchmark BenchmarkEncodeStrings-1000-batch-2\n",
      "Plotting benchmark BenchmarkEncodeStrings-1000-itr-2\n",
      "Plotting benchmark BenchmarkEngine_WritePoints-tsi1_10-2\n",
      "Plotting benchmark BenchmarkEngine_WritePoints-tsi1_100-2\n",
      "Plotting benchmark BenchmarkEngine_WritePoints-tsi1_1000-2\n",
      "Plotting benchmark BenchmarkEngine_WritePoints-tsi1_10000-2\n",
      "Plotting benchmark BenchmarkEngine_WritePoints-tsi1_5000-2\n",
      "Plotting benchmark BenchmarkEpochTracker-Writes_with_deletes-Parallel-0-2\n",
      "Plotting benchmark BenchmarkEpochTracker-Writes_with_deletes-Parallel-1-2\n",
      "Plotting benchmark BenchmarkEpochTracker-Writes_with_deletes-Parallel-10-2\n",
      "Plotting benchmark BenchmarkEpochTracker-Writes_with_deletes-Parallel-100-2\n",
      "Plotting benchmark BenchmarkEpochTracker-Writes_with_deletes-Serial-0-2\n",
      "Plotting benchmark BenchmarkEpochTracker-Writes_with_deletes-Serial-1-2\n",
      "Plotting benchmark BenchmarkEpochTracker-Writes_with_deletes-Serial-10-2\n",
      "Plotting benchmark BenchmarkEpochTracker-Writes_with_deletes-Serial-100-2\n",
      "Plotting benchmark BenchmarkEscapeMeasurement-this,is,a,test-2\n",
      "Plotting benchmark BenchmarkEscapeMeasurement-this_is_a_test-2\n",
      "Plotting benchmark BenchmarkEscapeStringField_Plain-2\n",
      "Plotting benchmark BenchmarkEscapeString_Backslashes-2\n",
      "Plotting benchmark BenchmarkEscapeString_Quotes-2\n",
      "Plotting benchmark BenchmarkEscapeString_QuotesAndBackslashes-2\n",
      "Plotting benchmark BenchmarkFloatArrayDecodeAll-1-2\n",
      "Plotting benchmark BenchmarkFloatArrayDecodeAll-1000-2\n",
      "Plotting benchmark BenchmarkFloatArrayDecodeAll-55-2\n",
      "Plotting benchmark BenchmarkFloatArrayDecodeAll-550-2\n",
      "Plotting benchmark BenchmarkFloatDecoder-2\n",
      "Plotting benchmark BenchmarkFloatDecoder_DecodeAll-1-2\n",
      "Plotting benchmark BenchmarkFloatDecoder_DecodeAll-1000-2\n",
      "Plotting benchmark BenchmarkFloatDecoder_DecodeAll-55-2\n",
      "Plotting benchmark BenchmarkFloatDecoder_DecodeAll-550-2\n",
      "Plotting benchmark BenchmarkFloatEncoder-2\n",
      "Plotting benchmark BenchmarkGuard-Measurement_Filtered-1-2\n",
      "Plotting benchmark BenchmarkGuard-Measurement_Filtered-100-2\n",
      "Plotting benchmark BenchmarkGuard-Measurement_Filtered-10000-2\n",
      "Plotting benchmark BenchmarkGuard-Tag_Filtered-1-2\n",
      "Plotting benchmark BenchmarkGuard-Tag_Filtered-100-2\n",
      "Plotting benchmark BenchmarkGuard-Tag_Filtered-10000-2\n",
      "Plotting benchmark BenchmarkGuard-Time_Filtered-1-2\n",
      "Plotting benchmark BenchmarkGuard-Time_Filtered-100-2\n",
      "Plotting benchmark BenchmarkGuard-Time_Filtered-10000-2\n",
      "Plotting benchmark BenchmarkIndex_IndexFile_TagValueSeriesIDIterator-78888_series_TagValueSeriesIDIterator-cache-2\n",
      "Plotting benchmark BenchmarkIndex_IndexFile_TagValueSeriesIDIterator-78888_series_TagValueSeriesIDIterator-no_cache-2\n",
      "Plotting benchmark BenchmarkIntegerArrayDecodeAllPackedSimple-1000-2\n",
      "Plotting benchmark BenchmarkIntegerArrayDecodeAllPackedSimple-5-2\n",
      "Plotting benchmark BenchmarkIntegerArrayDecodeAllPackedSimple-55-2\n",
      "Plotting benchmark BenchmarkIntegerArrayDecodeAllPackedSimple-555-2\n",
      "Plotting benchmark BenchmarkIntegerArrayDecodeAllRLE-1000_delta_0-2\n",
      "Plotting benchmark BenchmarkIntegerArrayDecodeAllRLE-1000_delta_1-2\n",
      "Plotting benchmark BenchmarkIntegerArrayDecodeAllRLE-555_delta_1-2\n",
      "Plotting benchmark BenchmarkIntegerArrayDecodeAllRLE-55_delta_1-2\n",
      "Plotting benchmark BenchmarkIntegerArrayDecodeAllRLE-5_delta_1-2\n",
      "Plotting benchmark BenchmarkIntegerArrayDecodeAllUncompressed-1000-2\n",
      "Plotting benchmark BenchmarkIntegerArrayDecodeAllUncompressed-5-2\n",
      "Plotting benchmark BenchmarkIntegerArrayDecodeAllUncompressed-55-2\n",
      "Plotting benchmark BenchmarkIntegerArrayDecodeAllUncompressed-555-2\n",
      "Plotting benchmark BenchmarkIntegerArray_ExcludeFirst_1000-2\n",
      "Plotting benchmark BenchmarkIntegerArray_ExcludeFirst_10000-2\n",
      "Plotting benchmark BenchmarkIntegerArray_ExcludeLast_1000-2\n",
      "Plotting benchmark BenchmarkIntegerArray_ExcludeLast_10000-2\n",
      "Plotting benchmark BenchmarkIntegerArray_ExcludeMiddleHalf_1000-2\n",
      "Plotting benchmark BenchmarkIntegerArray_ExcludeMiddleHalf_10000-2\n",
      "Plotting benchmark BenchmarkIntegerArray_ExcludeNone_1000-2\n",
      "Plotting benchmark BenchmarkIntegerArray_ExcludeNone_10000-2\n",
      "Plotting benchmark BenchmarkIntegerArray_IncludeFirst_1000-2\n",
      "Plotting benchmark BenchmarkIntegerArray_IncludeFirst_10000-2\n",
      "Plotting benchmark BenchmarkIntegerArray_IncludeLast_1000-2\n",
      "Plotting benchmark BenchmarkIntegerArray_IncludeLast_10000-2\n",
      "Plotting benchmark BenchmarkIntegerArray_IncludeMiddleHalf_1000-2\n",
      "Plotting benchmark BenchmarkIntegerArray_IncludeMiddleHalf_10000-2\n",
      "Plotting benchmark BenchmarkIntegerArray_IncludeNone_1000-2\n",
      "Plotting benchmark BenchmarkIntegerArray_IncludeNone_10000-2\n",
      "Plotting benchmark BenchmarkIntegerBatch_DecodeAllPackedSimple-1000-2\n",
      "Plotting benchmark BenchmarkIntegerBatch_DecodeAllPackedSimple-5-2\n",
      "Plotting benchmark BenchmarkIntegerBatch_DecodeAllPackedSimple-55-2\n",
      "Plotting benchmark BenchmarkIntegerBatch_DecodeAllPackedSimple-555-2\n",
      "Plotting benchmark BenchmarkIntegerBatch_DecodeAllRLE-1000_delta_0-2\n",
      "Plotting benchmark BenchmarkIntegerBatch_DecodeAllRLE-1000_delta_1-2\n",
      "Plotting benchmark BenchmarkIntegerBatch_DecodeAllRLE-555_delta_1-2\n",
      "Plotting benchmark BenchmarkIntegerBatch_DecodeAllRLE-55_delta_1-2\n",
      "Plotting benchmark BenchmarkIntegerBatch_DecodeAllRLE-5_delta_1-2\n",
      "Plotting benchmark BenchmarkIntegerBatch_DecodeAllUncompressed-1000-2\n",
      "Plotting benchmark BenchmarkIntegerBatch_DecodeAllUncompressed-5-2\n",
      "Plotting benchmark BenchmarkIntegerBatch_DecodeAllUncompressed-55-2\n",
      "Plotting benchmark BenchmarkIntegerBatch_DecodeAllUncompressed-555-2\n",
      "Plotting benchmark BenchmarkIntegerEncoderPackedSimple-2\n",
      "Plotting benchmark BenchmarkIntegerEncoderRLE-2\n",
      "Plotting benchmark BenchmarkIntegerIterator_Next-2\n",
      "Plotting benchmark BenchmarkIntegerValues_ExcludeFirst_1000-2\n",
      "Plotting benchmark BenchmarkIntegerValues_ExcludeFirst_10000-2\n",
      "Plotting benchmark BenchmarkIntegerValues_ExcludeLast_1000-2\n",
      "Plotting benchmark BenchmarkIntegerValues_ExcludeLast_10000-2\n",
      "Plotting benchmark BenchmarkIntegerValues_ExcludeMiddleHalf_1000-2\n",
      "Plotting benchmark BenchmarkIntegerValues_ExcludeMiddleHalf_10000-2\n",
      "Plotting benchmark BenchmarkIntegerValues_ExcludeNone_1000-2\n",
      "Plotting benchmark BenchmarkIntegerValues_ExcludeNone_10000-2\n",
      "Plotting benchmark BenchmarkIntegerValues_IncludeFirst_1000-2\n",
      "Plotting benchmark BenchmarkIntegerValues_IncludeFirst_10000-2\n",
      "Plotting benchmark BenchmarkIntegerValues_IncludeLast_1000-2\n",
      "Plotting benchmark BenchmarkIntegerValues_IncludeLast_10000-2\n",
      "Plotting benchmark BenchmarkIntegerValues_IncludeMiddleHalf_1000-2\n",
      "Plotting benchmark BenchmarkIntegerValues_IncludeMiddleHalf_10000-2\n",
      "Plotting benchmark BenchmarkIntegerValues_IncludeNone_1000-2\n",
      "Plotting benchmark BenchmarkIntegerValues_IncludeNone_10000-2\n",
      "Plotting benchmark BenchmarkIsEscaped-2\n",
      "Plotting benchmark BenchmarkKAMA-2\n",
      "Plotting benchmark BenchmarkKeyMerger_MergeKeys-10-2\n",
      "Plotting benchmark BenchmarkKeyMerger_MergeKeys-1000-2\n",
      "Plotting benchmark BenchmarkKeyMerger_MergeKeys-1000000-2\n",
      "Plotting benchmark BenchmarkKeyMerger_MergeTagKeys-10-2\n",
      "Plotting benchmark BenchmarkKeyMerger_MergeTagKeys-1000-2\n",
      "Plotting benchmark BenchmarkKeyMerger_MergeTagKeys-1000000-2\n",
      "Plotting benchmark BenchmarkKVStore_Bucket_Cursor-16000_keys-without_hint-2\n",
      "Plotting benchmark BenchmarkKVStore_Bucket_Cursor-16000_keys-with_hint-2\n",
      "Plotting benchmark BenchmarkLocal_StartSpanFromContext-2\n",
      "Plotting benchmark BenchmarkLocal_StartSpanFromContext_runtimeCaller-2\n",
      "Plotting benchmark BenchmarkLocal_StartSpanFromContext_runtimeCallers-2\n",
      "Plotting benchmark BenchmarkLocal_StartSpanFromContext_runtimeCallersFrames-2\n",
      "Plotting benchmark BenchmarkLocal_StartSpanFromContext_runtimeFuncFileLine-2\n",
      "Plotting benchmark BenchmarkLocal_StartSpanFromContext_runtimeFuncForPC-2\n",
      "Plotting benchmark BenchmarkLogFile_AddSeries_1000_1_1-2\n",
      "Plotting benchmark BenchmarkLogFile_AddSeries_100_1_1-2\n",
      "Plotting benchmark BenchmarkMakeKey-this,is,a,test#01-2\n",
      "Plotting benchmark BenchmarkMakeKey-this,is,a,test#02-2\n",
      "Plotting benchmark BenchmarkMakeKey-this,is,a,test-2\n",
      "Plotting benchmark BenchmarkMakeKey-this-_is-_a-_test-2\n",
      "Plotting benchmark BenchmarkMakeKey-this_is_a_test#01-2\n",
      "Plotting benchmark BenchmarkMakeKey-this_is_a_test#02-2\n",
      "Plotting benchmark BenchmarkMakeKey-this_is_a_test-2\n",
      "Plotting benchmark BenchmarkMakeTagsKey_KeyN1-2\n",
      "Plotting benchmark BenchmarkMakeTagsKey_KeyN10-2\n",
      "Plotting benchmark BenchmarkMakeTagsKey_KeyN3-2\n",
      "Plotting benchmark BenchmarkMakeTagsKey_KeyN5-2\n",
      "Plotting benchmark BenchmarkManyStringEscape-2\n",
      "Plotting benchmark BenchmarkManyStringUnescape-2\n",
      "Plotting benchmark BenchmarkMarshal-2\n",
      "Plotting benchmark BenchmarkMarshalTags_KeyN1-2\n",
      "Plotting benchmark BenchmarkMarshalTags_KeyN10-2\n",
      "Plotting benchmark BenchmarkMarshalTags_KeyN3-2\n",
      "Plotting benchmark BenchmarkMarshalTags_KeyN5-2\n",
      "Plotting benchmark BenchmarkModeIterator_100K-2\n",
      "Plotting benchmark BenchmarkModeIterator_1K-2\n",
      "Plotting benchmark BenchmarkModeIterator_1M-2\n",
      "Plotting benchmark BenchmarkNewGroupResultSet_GroupBy-2\n",
      "Plotting benchmark BenchmarkNewPoint-2\n",
      "Plotting benchmark BenchmarkNewPointFromBinary-2\n",
      "Plotting benchmark BenchmarkNewTagsKeyValues-sorted-dupes-2\n",
      "Plotting benchmark BenchmarkNewTagsKeyValues-sorted-no_dupes-allocate-2\n",
      "Plotting benchmark BenchmarkNewTagsKeyValues-sorted-no_dupes-preallocate-2\n",
      "Plotting benchmark BenchmarkNewTagsKeyValues-unsorted-dupes-2\n",
      "Plotting benchmark BenchmarkNewTagsKeyValues-unsorted-no_dupes-2\n",
      "Plotting benchmark BenchmarkNext-2\n",
      "Plotting benchmark BenchmarkNextParallel-2\n",
      "Plotting benchmark BenchmarkOpentracing_ExtractFromHTTPRequest-2\n",
      "Plotting benchmark BenchmarkOpentracing_StartSpanFromContext-2\n",
      "Plotting benchmark BenchmarkOpentracing_StartSpan_child-2\n",
      "Plotting benchmark BenchmarkOpentracing_StartSpan_root-2\n",
      "Plotting benchmark BenchmarkParseKey-2\n",
      "Plotting benchmark BenchmarkParsePointNoTags-2\n",
      "Plotting benchmark BenchmarkParsePointNoTags5000-2\n",
      "Plotting benchmark BenchmarkParsePointsTagsSorted10-2\n",
      "Plotting benchmark BenchmarkParsePointsTagsSorted2-2\n",
      "Plotting benchmark BenchmarkParsePointsTagsSorted5-2\n",
      "Plotting benchmark BenchmarkParsePointsTagsUnSorted10-2\n",
      "Plotting benchmark BenchmarkParsePointsTagsUnSorted2-2\n",
      "Plotting benchmark BenchmarkParsePointsTagsUnSorted5-2\n",
      "Plotting benchmark BenchmarkParsePointWithPrecisionN-2\n",
      "Plotting benchmark BenchmarkParsePointWithPrecisionU-2\n",
      "Plotting benchmark BenchmarkParseTags-2\n",
      "Plotting benchmark BenchmarkPlus_Add_100-2\n",
      "Plotting benchmark BenchmarkPlus_Add_1000-2\n",
      "Plotting benchmark BenchmarkPlus_Add_10000-2\n",
      "Plotting benchmark BenchmarkPlus_Add_100000-2\n",
      "Plotting benchmark BenchmarkPlus_Add_1000000-2\n",
      "Plotting benchmark BenchmarkPlus_Add_10000000-2\n",
      "Plotting benchmark BenchmarkPlus_Add_100000000-2\n",
      "Plotting benchmark BenchmarkPredicate-Basic-2\n",
      "Plotting benchmark BenchmarkPredicate-Compound-2\n",
      "Plotting benchmark BenchmarkRing_write_1_100-2\n",
      "Plotting benchmark BenchmarkRing_write_1_1000-2\n",
      "Plotting benchmark BenchmarkRing_write_1_10000-2\n",
      "Plotting benchmark BenchmarkRing_write_1_100000-2\n",
      "Plotting benchmark BenchmarkRing_write_4_100-2\n",
      "Plotting benchmark BenchmarkRing_write_4_1000-2\n",
      "Plotting benchmark BenchmarkRing_write_4_10000-2\n",
      "Plotting benchmark BenchmarkRing_write_4_100000-2\n",
      "Plotting benchmark BenchmarkSampleIterator_100k-2\n",
      "Plotting benchmark BenchmarkSampleIterator_1k-2\n",
      "Plotting benchmark BenchmarkSampleIterator_1M-2\n",
      "Plotting benchmark BenchmarkSearchBytes_Exists-2\n",
      "Plotting benchmark BenchmarkSearchBytes_NotExits-2\n",
      "Plotting benchmark BenchmarkSelect_Dedupe_1K-2\n",
      "Plotting benchmark BenchmarkSelect_Raw_100K-2\n",
      "Plotting benchmark BenchmarkSelect_Raw_1K-2\n",
      "Plotting benchmark BenchmarkSeriesFile_Compaction-2\n",
      "Plotting benchmark BenchmarkSeriesIDSet_Contains-1-2\n",
      "Plotting benchmark BenchmarkSeriesIDSet_Contains-10-2\n",
      "Plotting benchmark BenchmarkSeriesIDSet_Contains-100-2\n",
      "Plotting benchmark BenchmarkSeriesIDSet_Contains-1000-2\n",
      "Plotting benchmark BenchmarkSeriesIDSet_Contains-10000-2\n",
      "Plotting benchmark BenchmarkSeriesIDSet_Contains-100000-2\n",
      "Plotting benchmark BenchmarkSeriesIDSet_Contains-1000000-2\n",
      "Plotting benchmark BenchmarkSeriesIDSet_Contains-10000000-2\n",
      "Plotting benchmark BenchmarkSeriesIDSet_Contains-2-2\n",
      "Plotting benchmark BenchmarkSeriesIDSet_Remove-cardinality_1000000_check_remove_global_lock-2\n",
      "Plotting benchmark BenchmarkSeriesIDSet_Remove-cardinality_1000000_check_remove_multi_lock-2\n",
      "Plotting benchmark BenchmarkSeriesIDSet_Remove-cardinality_1000000_remove_same-2\n",
      "Plotting benchmark BenchmarkSortedMergeIterator_Fast-2\n",
      "Plotting benchmark BenchmarkSortedMergeIterator_FastCheckOverhead-2\n",
      "Plotting benchmark BenchmarkSortedMergeIterator_NotFast-2\n",
      "Plotting benchmark BenchmarkSort_128-2\n",
      "Plotting benchmark BenchmarkSort_12K-2\n",
      "Plotting benchmark BenchmarkSort_256-2\n",
      "Plotting benchmark BenchmarkSort_64-2\n",
      "Plotting benchmark BenchmarkStore_SeriesCardinality_100_Shards-tsi1-2\n",
      "Plotting benchmark BenchmarkStringArrayDecodeAll-1-2\n",
      "Plotting benchmark BenchmarkStringArrayDecodeAll-1000-2\n",
      "Plotting benchmark BenchmarkStringArrayDecodeAll-55-2\n",
      "Plotting benchmark BenchmarkStringArrayDecodeAll-550-2\n",
      "Plotting benchmark BenchmarkStringDecoder_DecodeAll-1-2\n",
      "Plotting benchmark BenchmarkStringDecoder_DecodeAll-1000-2\n",
      "Plotting benchmark BenchmarkStringDecoder_DecodeAll-55-2\n",
      "Plotting benchmark BenchmarkStringDecoder_DecodeAll-550-2\n",
      "Plotting benchmark BenchmarkStringEscapeNoEscapes-2\n",
      "Plotting benchmark BenchmarkStringUnescapeNoEscapes-2\n",
      "Plotting benchmark BenchmarkTagKeysSet_IsSuperset-all-true-2\n",
      "Plotting benchmark BenchmarkTagKeysSet_IsSuperset-all_but_last-false-2\n",
      "Plotting benchmark BenchmarkTagKeysSet_IsSuperset-first_last-true-2\n",
      "Plotting benchmark BenchmarkTagKeysSet_IsSuperset-first_not_last-false-2\n",
      "Plotting benchmark BenchmarkTagKeysSet_IsSuperset-last-false-2\n",
      "Plotting benchmark BenchmarkTagKeysSet_IsSuperset-last-true-2\n",
      "Plotting benchmark BenchmarkTagKeysSet_UnionBytes-10-2\n",
      "Plotting benchmark BenchmarkTagKeysSet_UnionBytes-1000-2\n",
      "Plotting benchmark BenchmarkTagKeysSet_UnionBytes-1000000-2\n",
      "Plotting benchmark BenchmarkTagKeysSet_UnionKeys-10-2\n",
      "Plotting benchmark BenchmarkTagKeysSet_UnionKeys-1000-2\n",
      "Plotting benchmark BenchmarkTagKeysSet_UnionKeys-1000000-2\n",
      "Plotting benchmark BenchmarkTags_HashKey-25_tags-esc-2\n",
      "Plotting benchmark BenchmarkTags_HashKey-25_tags-no_esc-2\n",
      "Plotting benchmark BenchmarkTags_HashKey-5_tags-esc-2\n",
      "Plotting benchmark BenchmarkTags_HashKey-5_tags-no_esc-2\n",
      "Plotting benchmark BenchmarkTimeArrayDecodeAllPackedSimple-1000-2\n",
      "Plotting benchmark BenchmarkTimeArrayDecodeAllPackedSimple-5-2\n",
      "Plotting benchmark BenchmarkTimeArrayDecodeAllPackedSimple-55-2\n",
      "Plotting benchmark BenchmarkTimeArrayDecodeAllPackedSimple-555-2\n",
      "Plotting benchmark BenchmarkTimeArrayDecodeAllRLE-1000_delta_10-2\n",
      "Plotting benchmark BenchmarkTimeArrayDecodeAllRLE-555_delta_10-2\n",
      "Plotting benchmark BenchmarkTimeArrayDecodeAllRLE-55_delta_10-2\n",
      "Plotting benchmark BenchmarkTimeArrayDecodeAllRLE-5_delta_10-2\n",
      "Plotting benchmark BenchmarkTimeArrayDecodeAllUncompressed-1000-2\n",
      "Plotting benchmark BenchmarkTimeArrayDecodeAllUncompressed-5-2\n",
      "Plotting benchmark BenchmarkTimeArrayDecodeAllUncompressed-55-2\n",
      "Plotting benchmark BenchmarkTimeArrayDecodeAllUncompressed-555-2\n",
      "Plotting benchmark BenchmarkTimeBatch_DecodeAllPackedSimple-1000-2\n",
      "Plotting benchmark BenchmarkTimeBatch_DecodeAllPackedSimple-5-2\n",
      "Plotting benchmark BenchmarkTimeBatch_DecodeAllPackedSimple-55-2\n",
      "Plotting benchmark BenchmarkTimeBatch_DecodeAllPackedSimple-555-2\n",
      "Plotting benchmark BenchmarkTimeBatch_DecodeAllRLE-1000_delta_10-2\n",
      "Plotting benchmark BenchmarkTimeBatch_DecodeAllRLE-555_delta_10-2\n",
      "Plotting benchmark BenchmarkTimeBatch_DecodeAllRLE-55_delta_10-2\n",
      "Plotting benchmark BenchmarkTimeBatch_DecodeAllRLE-5_delta_10-2\n",
      "Plotting benchmark BenchmarkTimeBatch_DecodeAllUncompressed-1000-2\n",
      "Plotting benchmark BenchmarkTimeBatch_DecodeAllUncompressed-5-2\n",
      "Plotting benchmark BenchmarkTimeBatch_DecodeAllUncompressed-55-2\n",
      "Plotting benchmark BenchmarkTimeBatch_DecodeAllUncompressed-555-2\n",
      "Plotting benchmark BenchmarkTimeDecoder_Packed-2\n",
      "Plotting benchmark BenchmarkTimeDecoder_RLE-2\n",
      "Plotting benchmark BenchmarkTimeEncoder-2\n",
      "Plotting benchmark BenchmarkTree_Insert-2\n",
      "Plotting benchmark BenchmarkTree_InsertNew-2\n",
      "Plotting benchmark BenchmarkUnescapeMany-2\n",
      "Plotting benchmark BenchmarkUnescapeNoEscapes-2\n",
      "Plotting benchmark BenchmarkValues_Deduplicate-2\n",
      "Plotting benchmark BenchmarkValues_EncodeBool-2\n",
      "Plotting benchmark BenchmarkValues_EncodeFloat-2\n",
      "Plotting benchmark BenchmarkValues_EncodeInteger-2\n",
      "Plotting benchmark BenchmarkValues_EncodeString-2\n",
      "Plotting benchmark BenchmarkValues_Merge-2\n",
      "Plotting benchmark BenchmarkValues_MergeDisjoint-2\n",
      "Plotting benchmark BenchmarkValues_MergeSame-2\n",
      "Plotting benchmark BenchmarkValues_MergeSimilar-2\n",
      "Plotting benchmark BenchmarkValues_MergeUnevenA-2\n",
      "Plotting benchmark BenchmarkValues_MergeUnevenB-2\n",
      "Plotting benchmark BenchmarkWALSegmentReader-2\n",
      "Plotting benchmark BenchmarkWALSegmentWriter-2\n",
      "Plotting benchmark BenchmarkWritePoints_ExistingSeries_100K-2\n",
      "Plotting benchmark BenchmarkWritePoints_ExistingSeries_100K_1_1-2\n",
      "Plotting benchmark BenchmarkWritePoints_ExistingSeries_100K_1_1_Fields-2\n",
      "Plotting benchmark BenchmarkWritePoints_ExistingSeries_10K_10_1-2\n",
      "Plotting benchmark BenchmarkWritePoints_ExistingSeries_10K_10_1_Fields-2\n",
      "Plotting benchmark BenchmarkWritePoints_ExistingSeries_1K-2\n",
      "Plotting benchmark BenchmarkWritePoints_ExistingSeries_250K-2\n",
      "Plotting benchmark BenchmarkWritePoints_NewSeries_100000_Measurement_1_TagKey_1_TagValue-2\n",
      "Plotting benchmark BenchmarkWritePoints_NewSeries_10000_Measurement_1_TagKey_1_TagValue-2\n",
      "Plotting benchmark BenchmarkWritePoints_NewSeries_1000_Measurement_10_TagKey_1_TagValue-2\n",
      "Plotting benchmark BenchmarkWritePoints_NewSeries_1000_Measurement_1_TagKey_1_TagValue-2\n",
      "Plotting benchmark BenchmarkWritePoints_NewSeries_100K-2\n",
      "Plotting benchmark BenchmarkWritePoints_NewSeries_100_Measurements_1_TagKey_1_TagValue-2\n",
      "Plotting benchmark BenchmarkWritePoints_NewSeries_1K-2\n",
      "Plotting benchmark BenchmarkWritePoints_NewSeries_1_Measurements_4_TagKeys_1_TagValue-2\n",
      "Plotting benchmark BenchmarkWritePoints_NewSeries_1_Measurements_8_TagKeys_1_TagValue-2\n",
      "Plotting benchmark BenchmarkWritePoints_NewSeries_1_Measurement_1024_TagKeys_1_TagValue-2\n",
      "Plotting benchmark BenchmarkWritePoints_NewSeries_1_Measurement_128_TagKeys_1_TagValue-2\n",
      "Plotting benchmark BenchmarkWritePoints_NewSeries_1_Measurement_16_TagKeys_1_TagValue-2\n",
      "Plotting benchmark BenchmarkWritePoints_NewSeries_1_Measurement_16_TagKeys_2_TagValue-2\n",
      "Plotting benchmark BenchmarkWritePoints_NewSeries_1_Measurement_1_TagKey_100000_TagValues-2\n",
      "Plotting benchmark BenchmarkWritePoints_NewSeries_1_Measurement_1_TagKey_10000_TagValues-2\n",
      "Plotting benchmark BenchmarkWritePoints_NewSeries_1_Measurement_1_TagKey_1000_TagValues-2\n",
      "Plotting benchmark BenchmarkWritePoints_NewSeries_1_Measurement_1_TagKey_100_TagValues-2\n",
      "Plotting benchmark BenchmarkWritePoints_NewSeries_1_Measurement_1_TagKey_500000_TagValues-2\n",
      "Plotting benchmark BenchmarkWritePoints_NewSeries_1_Measurement_1_TagKey_50000_TagValues-2\n",
      "Plotting benchmark BenchmarkWritePoints_NewSeries_1_Measurement_1_TagKey_5000_TagValues-2\n",
      "Plotting benchmark BenchmarkWritePoints_NewSeries_1_Measurement_1_TagKey_500_TagValues-2\n",
      "Plotting benchmark BenchmarkWritePoints_NewSeries_1_Measurement_1_TagKey_65536_TagValue-2\n",
      "Plotting benchmark BenchmarkWritePoints_NewSeries_1_Measurement_256_TagKeys_1_TagValue-2\n",
      "Plotting benchmark BenchmarkWritePoints_NewSeries_1_Measurement_2_TagKeys_1_TagValue-2\n",
      "Plotting benchmark BenchmarkWritePoints_NewSeries_1_Measurement_2_TagKeys_256_TagValue-2\n",
      "Plotting benchmark BenchmarkWritePoints_NewSeries_1_Measurement_32_TagKeys_1_TagValue-2\n",
      "Plotting benchmark BenchmarkWritePoints_NewSeries_1_Measurement_4_TagKeys_16_TagValue-2\n",
      "Plotting benchmark BenchmarkWritePoints_NewSeries_1_Measurement_512_TagKeys_1_TagValue-2\n",
      "Plotting benchmark BenchmarkWritePoints_NewSeries_1_Measurement_64_TagKeys_1_TagValue-2\n",
      "Plotting benchmark BenchmarkWritePoints_NewSeries_1_Measurement_8_TagKeys_4_TagValue-2\n",
      "Plotting benchmark BenchmarkWritePoints_NewSeries_250K-2\n",
      "Plotting benchmark BenchmarkWritePoints_NewSeries_50000_Measurement_1_TagKey_1_TagValue-2\n",
      "Plotting benchmark BenchmarkWritePoints_NewSeries_5000_Measurement_1_TagKey_1_TagValue-2\n",
      "Plotting benchmark BenchmarkWritePoints_NewSeries_500K-2\n",
      "Plotting benchmark BenchmarkWritePoints_NewSeries_500_Measurements_1_TagKey_1_TagValue-2\n"
     ]
    },
    {
     "name": "stderr",
     "output_type": "stream",
     "text": [
      "<ipython-input-4-7268b60ea160>:26: RuntimeWarning: More than 20 figures have been opened. Figures created through the pyplot interface (`matplotlib.pyplot.figure`) are retained until explicitly closed and may consume too much memory. (To control this warning, see the rcParam `figure.max_open_warning`).\n",
      "  plot, axes = plt.subplots(figsize=(15,9))\n"
     ]
    },
    {
     "data": {
      "text/plain": "<Figure size 1080x648 with 0 Axes>"
     },
     "metadata": {},
     "output_type": "display_data"
    },
    {
     "data": {
      "text/plain": "<Figure size 1080x648 with 0 Axes>"
     },
     "metadata": {},
     "output_type": "display_data"
    },
    {
     "data": {
      "text/plain": "<Figure size 1080x648 with 0 Axes>"
     },
     "metadata": {},
     "output_type": "display_data"
    },
    {
     "data": {
      "text/plain": "<Figure size 1080x648 with 0 Axes>"
     },
     "metadata": {},
     "output_type": "display_data"
    },
    {
     "data": {
      "text/plain": "<Figure size 1080x648 with 0 Axes>"
     },
     "metadata": {},
     "output_type": "display_data"
    },
    {
     "data": {
      "text/plain": "<Figure size 1080x648 with 0 Axes>"
     },
     "metadata": {},
     "output_type": "display_data"
    },
    {
     "data": {
      "text/plain": "<Figure size 1080x648 with 0 Axes>"
     },
     "metadata": {},
     "output_type": "display_data"
    },
    {
     "data": {
      "text/plain": "<Figure size 1080x648 with 0 Axes>"
     },
     "metadata": {},
     "output_type": "display_data"
    },
    {
     "data": {
      "text/plain": "<Figure size 1080x648 with 0 Axes>"
     },
     "metadata": {},
     "output_type": "display_data"
    },
    {
     "data": {
      "text/plain": "<Figure size 1080x648 with 0 Axes>"
     },
     "metadata": {},
     "output_type": "display_data"
    },
    {
     "data": {
      "text/plain": "<Figure size 1080x648 with 0 Axes>"
     },
     "metadata": {},
     "output_type": "display_data"
    },
    {
     "data": {
      "text/plain": "<Figure size 1080x648 with 0 Axes>"
     },
     "metadata": {},
     "output_type": "display_data"
    },
    {
     "data": {
      "text/plain": "<Figure size 1080x648 with 0 Axes>"
     },
     "metadata": {},
     "output_type": "display_data"
    },
    {
     "data": {
      "text/plain": "<Figure size 1080x648 with 0 Axes>"
     },
     "metadata": {},
     "output_type": "display_data"
    },
    {
     "data": {
      "text/plain": "<Figure size 1080x648 with 0 Axes>"
     },
     "metadata": {},
     "output_type": "display_data"
    },
    {
     "data": {
      "text/plain": "<Figure size 1080x648 with 0 Axes>"
     },
     "metadata": {},
     "output_type": "display_data"
    },
    {
     "data": {
      "text/plain": "<Figure size 1080x648 with 0 Axes>"
     },
     "metadata": {},
     "output_type": "display_data"
    },
    {
     "data": {
      "text/plain": "<Figure size 1080x648 with 0 Axes>"
     },
     "metadata": {},
     "output_type": "display_data"
    },
    {
     "data": {
      "text/plain": "<Figure size 1080x648 with 0 Axes>"
     },
     "metadata": {},
     "output_type": "display_data"
    },
    {
     "data": {
      "text/plain": "<Figure size 1080x648 with 0 Axes>"
     },
     "metadata": {},
     "output_type": "display_data"
    },
    {
     "data": {
      "text/plain": "<Figure size 1080x648 with 0 Axes>"
     },
     "metadata": {},
     "output_type": "display_data"
    },
    {
     "data": {
      "text/plain": "<Figure size 1080x648 with 0 Axes>"
     },
     "metadata": {},
     "output_type": "display_data"
    },
    {
     "data": {
      "text/plain": "<Figure size 1080x648 with 0 Axes>"
     },
     "metadata": {},
     "output_type": "display_data"
    },
    {
     "data": {
      "text/plain": "<Figure size 1080x648 with 0 Axes>"
     },
     "metadata": {},
     "output_type": "display_data"
    },
    {
     "data": {
      "text/plain": "<Figure size 1080x648 with 0 Axes>"
     },
     "metadata": {},
     "output_type": "display_data"
    },
    {
     "data": {
      "text/plain": "<Figure size 1080x648 with 0 Axes>"
     },
     "metadata": {},
     "output_type": "display_data"
    },
    {
     "data": {
      "text/plain": "<Figure size 1080x648 with 0 Axes>"
     },
     "metadata": {},
     "output_type": "display_data"
    },
    {
     "data": {
      "text/plain": "<Figure size 1080x648 with 0 Axes>"
     },
     "metadata": {},
     "output_type": "display_data"
    },
    {
     "data": {
      "text/plain": "<Figure size 1080x648 with 0 Axes>"
     },
     "metadata": {},
     "output_type": "display_data"
    },
    {
     "data": {
      "text/plain": "<Figure size 1080x648 with 0 Axes>"
     },
     "metadata": {},
     "output_type": "display_data"
    },
    {
     "data": {
      "text/plain": "<Figure size 1080x648 with 0 Axes>"
     },
     "metadata": {},
     "output_type": "display_data"
    },
    {
     "data": {
      "text/plain": "<Figure size 1080x648 with 0 Axes>"
     },
     "metadata": {},
     "output_type": "display_data"
    },
    {
     "data": {
      "text/plain": "<Figure size 1080x648 with 0 Axes>"
     },
     "metadata": {},
     "output_type": "display_data"
    },
    {
     "data": {
      "text/plain": "<Figure size 1080x648 with 0 Axes>"
     },
     "metadata": {},
     "output_type": "display_data"
    },
    {
     "data": {
      "text/plain": "<Figure size 1080x648 with 0 Axes>"
     },
     "metadata": {},
     "output_type": "display_data"
    },
    {
     "data": {
      "text/plain": "<Figure size 1080x648 with 0 Axes>"
     },
     "metadata": {},
     "output_type": "display_data"
    },
    {
     "data": {
      "text/plain": "<Figure size 1080x648 with 0 Axes>"
     },
     "metadata": {},
     "output_type": "display_data"
    },
    {
     "data": {
      "text/plain": "<Figure size 1080x648 with 0 Axes>"
     },
     "metadata": {},
     "output_type": "display_data"
    },
    {
     "data": {
      "text/plain": "<Figure size 1080x648 with 0 Axes>"
     },
     "metadata": {},
     "output_type": "display_data"
    },
    {
     "data": {
      "text/plain": "<Figure size 1080x648 with 0 Axes>"
     },
     "metadata": {},
     "output_type": "display_data"
    },
    {
     "data": {
      "text/plain": "<Figure size 1080x648 with 0 Axes>"
     },
     "metadata": {},
     "output_type": "display_data"
    },
    {
     "data": {
      "text/plain": "<Figure size 1080x648 with 0 Axes>"
     },
     "metadata": {},
     "output_type": "display_data"
    },
    {
     "data": {
      "text/plain": "<Figure size 1080x648 with 0 Axes>"
     },
     "metadata": {},
     "output_type": "display_data"
    },
    {
     "data": {
      "text/plain": "<Figure size 1080x648 with 0 Axes>"
     },
     "metadata": {},
     "output_type": "display_data"
    },
    {
     "data": {
      "text/plain": "<Figure size 1080x648 with 0 Axes>"
     },
     "metadata": {},
     "output_type": "display_data"
    },
    {
     "data": {
      "text/plain": "<Figure size 1080x648 with 0 Axes>"
     },
     "metadata": {},
     "output_type": "display_data"
    },
    {
     "data": {
      "text/plain": "<Figure size 1080x648 with 0 Axes>"
     },
     "metadata": {},
     "output_type": "display_data"
    },
    {
     "data": {
      "text/plain": "<Figure size 1080x648 with 0 Axes>"
     },
     "metadata": {},
     "output_type": "display_data"
    },
    {
     "data": {
      "text/plain": "<Figure size 1080x648 with 0 Axes>"
     },
     "metadata": {},
     "output_type": "display_data"
    },
    {
     "data": {
      "text/plain": "<Figure size 1080x648 with 0 Axes>"
     },
     "metadata": {},
     "output_type": "display_data"
    },
    {
     "data": {
      "text/plain": "<Figure size 1080x648 with 0 Axes>"
     },
     "metadata": {},
     "output_type": "display_data"
    },
    {
     "data": {
      "text/plain": "<Figure size 1080x648 with 0 Axes>"
     },
     "metadata": {},
     "output_type": "display_data"
    },
    {
     "data": {
      "text/plain": "<Figure size 1080x648 with 0 Axes>"
     },
     "metadata": {},
     "output_type": "display_data"
    },
    {
     "data": {
      "text/plain": "<Figure size 1080x648 with 0 Axes>"
     },
     "metadata": {},
     "output_type": "display_data"
    },
    {
     "data": {
      "text/plain": "<Figure size 1080x648 with 0 Axes>"
     },
     "metadata": {},
     "output_type": "display_data"
    },
    {
     "data": {
      "text/plain": "<Figure size 1080x648 with 0 Axes>"
     },
     "metadata": {},
     "output_type": "display_data"
    },
    {
     "data": {
      "text/plain": "<Figure size 1080x648 with 0 Axes>"
     },
     "metadata": {},
     "output_type": "display_data"
    },
    {
     "data": {
      "text/plain": "<Figure size 1080x648 with 0 Axes>"
     },
     "metadata": {},
     "output_type": "display_data"
    },
    {
     "data": {
      "text/plain": "<Figure size 1080x648 with 0 Axes>"
     },
     "metadata": {},
     "output_type": "display_data"
    },
    {
     "data": {
      "text/plain": "<Figure size 1080x648 with 0 Axes>"
     },
     "metadata": {},
     "output_type": "display_data"
    },
    {
     "data": {
      "text/plain": "<Figure size 1080x648 with 0 Axes>"
     },
     "metadata": {},
     "output_type": "display_data"
    },
    {
     "data": {
      "text/plain": "<Figure size 1080x648 with 0 Axes>"
     },
     "metadata": {},
     "output_type": "display_data"
    },
    {
     "data": {
      "text/plain": "<Figure size 1080x648 with 0 Axes>"
     },
     "metadata": {},
     "output_type": "display_data"
    },
    {
     "data": {
      "text/plain": "<Figure size 1080x648 with 0 Axes>"
     },
     "metadata": {},
     "output_type": "display_data"
    },
    {
     "data": {
      "text/plain": "<Figure size 1080x648 with 0 Axes>"
     },
     "metadata": {},
     "output_type": "display_data"
    },
    {
     "data": {
      "text/plain": "<Figure size 1080x648 with 0 Axes>"
     },
     "metadata": {},
     "output_type": "display_data"
    },
    {
     "data": {
      "text/plain": "<Figure size 1080x648 with 0 Axes>"
     },
     "metadata": {},
     "output_type": "display_data"
    },
    {
     "data": {
      "text/plain": "<Figure size 1080x648 with 0 Axes>"
     },
     "metadata": {},
     "output_type": "display_data"
    },
    {
     "data": {
      "text/plain": "<Figure size 1080x648 with 0 Axes>"
     },
     "metadata": {},
     "output_type": "display_data"
    },
    {
     "data": {
      "text/plain": "<Figure size 1080x648 with 0 Axes>"
     },
     "metadata": {},
     "output_type": "display_data"
    },
    {
     "data": {
      "text/plain": "<Figure size 1080x648 with 0 Axes>"
     },
     "metadata": {},
     "output_type": "display_data"
    },
    {
     "data": {
      "text/plain": "<Figure size 1080x648 with 0 Axes>"
     },
     "metadata": {},
     "output_type": "display_data"
    },
    {
     "data": {
      "text/plain": "<Figure size 1080x648 with 0 Axes>"
     },
     "metadata": {},
     "output_type": "display_data"
    },
    {
     "data": {
      "text/plain": "<Figure size 1080x648 with 0 Axes>"
     },
     "metadata": {},
     "output_type": "display_data"
    },
    {
     "data": {
      "text/plain": "<Figure size 1080x648 with 0 Axes>"
     },
     "metadata": {},
     "output_type": "display_data"
    },
    {
     "data": {
      "text/plain": "<Figure size 1080x648 with 0 Axes>"
     },
     "metadata": {},
     "output_type": "display_data"
    },
    {
     "data": {
      "text/plain": "<Figure size 1080x648 with 0 Axes>"
     },
     "metadata": {},
     "output_type": "display_data"
    },
    {
     "data": {
      "text/plain": "<Figure size 1080x648 with 0 Axes>"
     },
     "metadata": {},
     "output_type": "display_data"
    },
    {
     "data": {
      "text/plain": "<Figure size 1080x648 with 0 Axes>"
     },
     "metadata": {},
     "output_type": "display_data"
    },
    {
     "data": {
      "text/plain": "<Figure size 1080x648 with 0 Axes>"
     },
     "metadata": {},
     "output_type": "display_data"
    },
    {
     "data": {
      "text/plain": "<Figure size 1080x648 with 0 Axes>"
     },
     "metadata": {},
     "output_type": "display_data"
    },
    {
     "data": {
      "text/plain": "<Figure size 1080x648 with 0 Axes>"
     },
     "metadata": {},
     "output_type": "display_data"
    },
    {
     "data": {
      "text/plain": "<Figure size 1080x648 with 0 Axes>"
     },
     "metadata": {},
     "output_type": "display_data"
    },
    {
     "data": {
      "text/plain": "<Figure size 1080x648 with 0 Axes>"
     },
     "metadata": {},
     "output_type": "display_data"
    },
    {
     "data": {
      "text/plain": "<Figure size 1080x648 with 0 Axes>"
     },
     "metadata": {},
     "output_type": "display_data"
    },
    {
     "data": {
      "text/plain": "<Figure size 1080x648 with 0 Axes>"
     },
     "metadata": {},
     "output_type": "display_data"
    },
    {
     "data": {
      "text/plain": "<Figure size 1080x648 with 0 Axes>"
     },
     "metadata": {},
     "output_type": "display_data"
    },
    {
     "data": {
      "text/plain": "<Figure size 1080x648 with 0 Axes>"
     },
     "metadata": {},
     "output_type": "display_data"
    },
    {
     "data": {
      "text/plain": "<Figure size 1080x648 with 0 Axes>"
     },
     "metadata": {},
     "output_type": "display_data"
    },
    {
     "data": {
      "text/plain": "<Figure size 1080x648 with 0 Axes>"
     },
     "metadata": {},
     "output_type": "display_data"
    },
    {
     "data": {
      "text/plain": "<Figure size 1080x648 with 0 Axes>"
     },
     "metadata": {},
     "output_type": "display_data"
    },
    {
     "data": {
      "text/plain": "<Figure size 1080x648 with 0 Axes>"
     },
     "metadata": {},
     "output_type": "display_data"
    },
    {
     "data": {
      "text/plain": "<Figure size 1080x648 with 0 Axes>"
     },
     "metadata": {},
     "output_type": "display_data"
    },
    {
     "data": {
      "text/plain": "<Figure size 1080x648 with 0 Axes>"
     },
     "metadata": {},
     "output_type": "display_data"
    },
    {
     "data": {
      "text/plain": "<Figure size 1080x648 with 0 Axes>"
     },
     "metadata": {},
     "output_type": "display_data"
    },
    {
     "data": {
      "text/plain": "<Figure size 1080x648 with 0 Axes>"
     },
     "metadata": {},
     "output_type": "display_data"
    },
    {
     "data": {
      "text/plain": "<Figure size 1080x648 with 0 Axes>"
     },
     "metadata": {},
     "output_type": "display_data"
    },
    {
     "data": {
      "text/plain": "<Figure size 1080x648 with 0 Axes>"
     },
     "metadata": {},
     "output_type": "display_data"
    },
    {
     "data": {
      "text/plain": "<Figure size 1080x648 with 0 Axes>"
     },
     "metadata": {},
     "output_type": "display_data"
    },
    {
     "data": {
      "text/plain": "<Figure size 1080x648 with 0 Axes>"
     },
     "metadata": {},
     "output_type": "display_data"
    },
    {
     "data": {
      "text/plain": "<Figure size 1080x648 with 0 Axes>"
     },
     "metadata": {},
     "output_type": "display_data"
    },
    {
     "data": {
      "text/plain": "<Figure size 1080x648 with 0 Axes>"
     },
     "metadata": {},
     "output_type": "display_data"
    },
    {
     "data": {
      "text/plain": "<Figure size 1080x648 with 0 Axes>"
     },
     "metadata": {},
     "output_type": "display_data"
    },
    {
     "data": {
      "text/plain": "<Figure size 1080x648 with 0 Axes>"
     },
     "metadata": {},
     "output_type": "display_data"
    },
    {
     "data": {
      "text/plain": "<Figure size 1080x648 with 0 Axes>"
     },
     "metadata": {},
     "output_type": "display_data"
    },
    {
     "data": {
      "text/plain": "<Figure size 1080x648 with 0 Axes>"
     },
     "metadata": {},
     "output_type": "display_data"
    },
    {
     "data": {
      "text/plain": "<Figure size 1080x648 with 0 Axes>"
     },
     "metadata": {},
     "output_type": "display_data"
    },
    {
     "data": {
      "text/plain": "<Figure size 1080x648 with 0 Axes>"
     },
     "metadata": {},
     "output_type": "display_data"
    },
    {
     "data": {
      "text/plain": "<Figure size 1080x648 with 0 Axes>"
     },
     "metadata": {},
     "output_type": "display_data"
    },
    {
     "data": {
      "text/plain": "<Figure size 1080x648 with 0 Axes>"
     },
     "metadata": {},
     "output_type": "display_data"
    },
    {
     "data": {
      "text/plain": "<Figure size 1080x648 with 0 Axes>"
     },
     "metadata": {},
     "output_type": "display_data"
    },
    {
     "data": {
      "text/plain": "<Figure size 1080x648 with 0 Axes>"
     },
     "metadata": {},
     "output_type": "display_data"
    },
    {
     "data": {
      "text/plain": "<Figure size 1080x648 with 0 Axes>"
     },
     "metadata": {},
     "output_type": "display_data"
    },
    {
     "data": {
      "text/plain": "<Figure size 1080x648 with 0 Axes>"
     },
     "metadata": {},
     "output_type": "display_data"
    },
    {
     "data": {
      "text/plain": "<Figure size 1080x648 with 0 Axes>"
     },
     "metadata": {},
     "output_type": "display_data"
    },
    {
     "data": {
      "text/plain": "<Figure size 1080x648 with 0 Axes>"
     },
     "metadata": {},
     "output_type": "display_data"
    },
    {
     "data": {
      "text/plain": "<Figure size 1080x648 with 0 Axes>"
     },
     "metadata": {},
     "output_type": "display_data"
    },
    {
     "data": {
      "text/plain": "<Figure size 1080x648 with 0 Axes>"
     },
     "metadata": {},
     "output_type": "display_data"
    },
    {
     "data": {
      "text/plain": "<Figure size 1080x648 with 0 Axes>"
     },
     "metadata": {},
     "output_type": "display_data"
    },
    {
     "data": {
      "text/plain": "<Figure size 1080x648 with 0 Axes>"
     },
     "metadata": {},
     "output_type": "display_data"
    },
    {
     "data": {
      "text/plain": "<Figure size 1080x648 with 0 Axes>"
     },
     "metadata": {},
     "output_type": "display_data"
    },
    {
     "data": {
      "text/plain": "<Figure size 1080x648 with 0 Axes>"
     },
     "metadata": {},
     "output_type": "display_data"
    },
    {
     "data": {
      "text/plain": "<Figure size 1080x648 with 0 Axes>"
     },
     "metadata": {},
     "output_type": "display_data"
    },
    {
     "data": {
      "text/plain": "<Figure size 1080x648 with 0 Axes>"
     },
     "metadata": {},
     "output_type": "display_data"
    },
    {
     "data": {
      "text/plain": "<Figure size 1080x648 with 0 Axes>"
     },
     "metadata": {},
     "output_type": "display_data"
    },
    {
     "data": {
      "text/plain": "<Figure size 1080x648 with 0 Axes>"
     },
     "metadata": {},
     "output_type": "display_data"
    },
    {
     "data": {
      "text/plain": "<Figure size 1080x648 with 0 Axes>"
     },
     "metadata": {},
     "output_type": "display_data"
    },
    {
     "data": {
      "text/plain": "<Figure size 1080x648 with 0 Axes>"
     },
     "metadata": {},
     "output_type": "display_data"
    },
    {
     "data": {
      "text/plain": "<Figure size 1080x648 with 0 Axes>"
     },
     "metadata": {},
     "output_type": "display_data"
    },
    {
     "data": {
      "text/plain": "<Figure size 1080x648 with 0 Axes>"
     },
     "metadata": {},
     "output_type": "display_data"
    },
    {
     "data": {
      "text/plain": "<Figure size 1080x648 with 0 Axes>"
     },
     "metadata": {},
     "output_type": "display_data"
    },
    {
     "data": {
      "text/plain": "<Figure size 1080x648 with 0 Axes>"
     },
     "metadata": {},
     "output_type": "display_data"
    },
    {
     "data": {
      "text/plain": "<Figure size 1080x648 with 0 Axes>"
     },
     "metadata": {},
     "output_type": "display_data"
    },
    {
     "data": {
      "text/plain": "<Figure size 1080x648 with 0 Axes>"
     },
     "metadata": {},
     "output_type": "display_data"
    },
    {
     "data": {
      "text/plain": "<Figure size 1080x648 with 0 Axes>"
     },
     "metadata": {},
     "output_type": "display_data"
    },
    {
     "data": {
      "text/plain": "<Figure size 1080x648 with 0 Axes>"
     },
     "metadata": {},
     "output_type": "display_data"
    },
    {
     "data": {
      "text/plain": "<Figure size 1080x648 with 0 Axes>"
     },
     "metadata": {},
     "output_type": "display_data"
    },
    {
     "data": {
      "text/plain": "<Figure size 1080x648 with 0 Axes>"
     },
     "metadata": {},
     "output_type": "display_data"
    },
    {
     "data": {
      "text/plain": "<Figure size 1080x648 with 0 Axes>"
     },
     "metadata": {},
     "output_type": "display_data"
    },
    {
     "data": {
      "text/plain": "<Figure size 1080x648 with 0 Axes>"
     },
     "metadata": {},
     "output_type": "display_data"
    },
    {
     "data": {
      "text/plain": "<Figure size 1080x648 with 0 Axes>"
     },
     "metadata": {},
     "output_type": "display_data"
    },
    {
     "data": {
      "text/plain": "<Figure size 1080x648 with 0 Axes>"
     },
     "metadata": {},
     "output_type": "display_data"
    },
    {
     "data": {
      "text/plain": "<Figure size 1080x648 with 0 Axes>"
     },
     "metadata": {},
     "output_type": "display_data"
    },
    {
     "data": {
      "text/plain": "<Figure size 1080x648 with 0 Axes>"
     },
     "metadata": {},
     "output_type": "display_data"
    },
    {
     "data": {
      "text/plain": "<Figure size 1080x648 with 0 Axes>"
     },
     "metadata": {},
     "output_type": "display_data"
    },
    {
     "data": {
      "text/plain": "<Figure size 1080x648 with 0 Axes>"
     },
     "metadata": {},
     "output_type": "display_data"
    },
    {
     "data": {
      "text/plain": "<Figure size 1080x648 with 0 Axes>"
     },
     "metadata": {},
     "output_type": "display_data"
    },
    {
     "data": {
      "text/plain": "<Figure size 1080x648 with 0 Axes>"
     },
     "metadata": {},
     "output_type": "display_data"
    },
    {
     "data": {
      "text/plain": "<Figure size 1080x648 with 0 Axes>"
     },
     "metadata": {},
     "output_type": "display_data"
    },
    {
     "data": {
      "text/plain": "<Figure size 1080x648 with 0 Axes>"
     },
     "metadata": {},
     "output_type": "display_data"
    },
    {
     "data": {
      "text/plain": "<Figure size 1080x648 with 0 Axes>"
     },
     "metadata": {},
     "output_type": "display_data"
    },
    {
     "data": {
      "text/plain": "<Figure size 1080x648 with 0 Axes>"
     },
     "metadata": {},
     "output_type": "display_data"
    },
    {
     "data": {
      "text/plain": "<Figure size 1080x648 with 0 Axes>"
     },
     "metadata": {},
     "output_type": "display_data"
    },
    {
     "data": {
      "text/plain": "<Figure size 1080x648 with 0 Axes>"
     },
     "metadata": {},
     "output_type": "display_data"
    },
    {
     "data": {
      "text/plain": "<Figure size 1080x648 with 0 Axes>"
     },
     "metadata": {},
     "output_type": "display_data"
    },
    {
     "data": {
      "text/plain": "<Figure size 1080x648 with 0 Axes>"
     },
     "metadata": {},
     "output_type": "display_data"
    },
    {
     "data": {
      "text/plain": "<Figure size 1080x648 with 0 Axes>"
     },
     "metadata": {},
     "output_type": "display_data"
    },
    {
     "data": {
      "text/plain": "<Figure size 1080x648 with 0 Axes>"
     },
     "metadata": {},
     "output_type": "display_data"
    },
    {
     "data": {
      "text/plain": "<Figure size 1080x648 with 0 Axes>"
     },
     "metadata": {},
     "output_type": "display_data"
    },
    {
     "data": {
      "text/plain": "<Figure size 1080x648 with 0 Axes>"
     },
     "metadata": {},
     "output_type": "display_data"
    },
    {
     "data": {
      "text/plain": "<Figure size 1080x648 with 0 Axes>"
     },
     "metadata": {},
     "output_type": "display_data"
    },
    {
     "data": {
      "text/plain": "<Figure size 1080x648 with 0 Axes>"
     },
     "metadata": {},
     "output_type": "display_data"
    },
    {
     "data": {
      "text/plain": "<Figure size 1080x648 with 0 Axes>"
     },
     "metadata": {},
     "output_type": "display_data"
    },
    {
     "data": {
      "text/plain": "<Figure size 1080x648 with 0 Axes>"
     },
     "metadata": {},
     "output_type": "display_data"
    },
    {
     "data": {
      "text/plain": "<Figure size 1080x648 with 0 Axes>"
     },
     "metadata": {},
     "output_type": "display_data"
    },
    {
     "data": {
      "text/plain": "<Figure size 1080x648 with 0 Axes>"
     },
     "metadata": {},
     "output_type": "display_data"
    },
    {
     "data": {
      "text/plain": "<Figure size 1080x648 with 0 Axes>"
     },
     "metadata": {},
     "output_type": "display_data"
    },
    {
     "data": {
      "text/plain": "<Figure size 1080x648 with 0 Axes>"
     },
     "metadata": {},
     "output_type": "display_data"
    },
    {
     "data": {
      "text/plain": "<Figure size 1080x648 with 0 Axes>"
     },
     "metadata": {},
     "output_type": "display_data"
    },
    {
     "data": {
      "text/plain": "<Figure size 1080x648 with 0 Axes>"
     },
     "metadata": {},
     "output_type": "display_data"
    },
    {
     "data": {
      "text/plain": "<Figure size 1080x648 with 0 Axes>"
     },
     "metadata": {},
     "output_type": "display_data"
    },
    {
     "data": {
      "text/plain": "<Figure size 1080x648 with 0 Axes>"
     },
     "metadata": {},
     "output_type": "display_data"
    },
    {
     "data": {
      "text/plain": "<Figure size 1080x648 with 0 Axes>"
     },
     "metadata": {},
     "output_type": "display_data"
    },
    {
     "data": {
      "text/plain": "<Figure size 1080x648 with 0 Axes>"
     },
     "metadata": {},
     "output_type": "display_data"
    },
    {
     "data": {
      "text/plain": "<Figure size 1080x648 with 0 Axes>"
     },
     "metadata": {},
     "output_type": "display_data"
    },
    {
     "data": {
      "text/plain": "<Figure size 1080x648 with 0 Axes>"
     },
     "metadata": {},
     "output_type": "display_data"
    },
    {
     "data": {
      "text/plain": "<Figure size 1080x648 with 0 Axes>"
     },
     "metadata": {},
     "output_type": "display_data"
    },
    {
     "data": {
      "text/plain": "<Figure size 1080x648 with 0 Axes>"
     },
     "metadata": {},
     "output_type": "display_data"
    },
    {
     "data": {
      "text/plain": "<Figure size 1080x648 with 0 Axes>"
     },
     "metadata": {},
     "output_type": "display_data"
    },
    {
     "data": {
      "text/plain": "<Figure size 1080x648 with 0 Axes>"
     },
     "metadata": {},
     "output_type": "display_data"
    },
    {
     "data": {
      "text/plain": "<Figure size 1080x648 with 0 Axes>"
     },
     "metadata": {},
     "output_type": "display_data"
    },
    {
     "data": {
      "text/plain": "<Figure size 1080x648 with 0 Axes>"
     },
     "metadata": {},
     "output_type": "display_data"
    },
    {
     "data": {
      "text/plain": "<Figure size 1080x648 with 0 Axes>"
     },
     "metadata": {},
     "output_type": "display_data"
    },
    {
     "data": {
      "text/plain": "<Figure size 1080x648 with 0 Axes>"
     },
     "metadata": {},
     "output_type": "display_data"
    },
    {
     "data": {
      "text/plain": "<Figure size 1080x648 with 0 Axes>"
     },
     "metadata": {},
     "output_type": "display_data"
    },
    {
     "data": {
      "text/plain": "<Figure size 1080x648 with 0 Axes>"
     },
     "metadata": {},
     "output_type": "display_data"
    },
    {
     "data": {
      "text/plain": "<Figure size 1080x648 with 0 Axes>"
     },
     "metadata": {},
     "output_type": "display_data"
    },
    {
     "data": {
      "text/plain": "<Figure size 1080x648 with 0 Axes>"
     },
     "metadata": {},
     "output_type": "display_data"
    },
    {
     "data": {
      "text/plain": "<Figure size 1080x648 with 0 Axes>"
     },
     "metadata": {},
     "output_type": "display_data"
    },
    {
     "data": {
      "text/plain": "<Figure size 1080x648 with 0 Axes>"
     },
     "metadata": {},
     "output_type": "display_data"
    },
    {
     "data": {
      "text/plain": "<Figure size 1080x648 with 0 Axes>"
     },
     "metadata": {},
     "output_type": "display_data"
    },
    {
     "data": {
      "text/plain": "<Figure size 1080x648 with 0 Axes>"
     },
     "metadata": {},
     "output_type": "display_data"
    },
    {
     "data": {
      "text/plain": "<Figure size 1080x648 with 0 Axes>"
     },
     "metadata": {},
     "output_type": "display_data"
    },
    {
     "data": {
      "text/plain": "<Figure size 1080x648 with 0 Axes>"
     },
     "metadata": {},
     "output_type": "display_data"
    },
    {
     "data": {
      "text/plain": "<Figure size 1080x648 with 0 Axes>"
     },
     "metadata": {},
     "output_type": "display_data"
    },
    {
     "data": {
      "text/plain": "<Figure size 1080x648 with 0 Axes>"
     },
     "metadata": {},
     "output_type": "display_data"
    },
    {
     "data": {
      "text/plain": "<Figure size 1080x648 with 0 Axes>"
     },
     "metadata": {},
     "output_type": "display_data"
    },
    {
     "data": {
      "text/plain": "<Figure size 1080x648 with 0 Axes>"
     },
     "metadata": {},
     "output_type": "display_data"
    },
    {
     "data": {
      "text/plain": "<Figure size 1080x648 with 0 Axes>"
     },
     "metadata": {},
     "output_type": "display_data"
    },
    {
     "data": {
      "text/plain": "<Figure size 1080x648 with 0 Axes>"
     },
     "metadata": {},
     "output_type": "display_data"
    },
    {
     "data": {
      "text/plain": "<Figure size 1080x648 with 0 Axes>"
     },
     "metadata": {},
     "output_type": "display_data"
    },
    {
     "data": {
      "text/plain": "<Figure size 1080x648 with 0 Axes>"
     },
     "metadata": {},
     "output_type": "display_data"
    },
    {
     "data": {
      "text/plain": "<Figure size 1080x648 with 0 Axes>"
     },
     "metadata": {},
     "output_type": "display_data"
    },
    {
     "data": {
      "text/plain": "<Figure size 1080x648 with 0 Axes>"
     },
     "metadata": {},
     "output_type": "display_data"
    },
    {
     "data": {
      "text/plain": "<Figure size 1080x648 with 0 Axes>"
     },
     "metadata": {},
     "output_type": "display_data"
    },
    {
     "data": {
      "text/plain": "<Figure size 1080x648 with 0 Axes>"
     },
     "metadata": {},
     "output_type": "display_data"
    },
    {
     "data": {
      "text/plain": "<Figure size 1080x648 with 0 Axes>"
     },
     "metadata": {},
     "output_type": "display_data"
    },
    {
     "data": {
      "text/plain": "<Figure size 1080x648 with 0 Axes>"
     },
     "metadata": {},
     "output_type": "display_data"
    },
    {
     "data": {
      "text/plain": "<Figure size 1080x648 with 0 Axes>"
     },
     "metadata": {},
     "output_type": "display_data"
    },
    {
     "data": {
      "text/plain": "<Figure size 1080x648 with 0 Axes>"
     },
     "metadata": {},
     "output_type": "display_data"
    },
    {
     "data": {
      "text/plain": "<Figure size 1080x648 with 0 Axes>"
     },
     "metadata": {},
     "output_type": "display_data"
    },
    {
     "data": {
      "text/plain": "<Figure size 1080x648 with 0 Axes>"
     },
     "metadata": {},
     "output_type": "display_data"
    },
    {
     "data": {
      "text/plain": "<Figure size 1080x648 with 0 Axes>"
     },
     "metadata": {},
     "output_type": "display_data"
    },
    {
     "data": {
      "text/plain": "<Figure size 1080x648 with 0 Axes>"
     },
     "metadata": {},
     "output_type": "display_data"
    },
    {
     "data": {
      "text/plain": "<Figure size 1080x648 with 0 Axes>"
     },
     "metadata": {},
     "output_type": "display_data"
    },
    {
     "data": {
      "text/plain": "<Figure size 1080x648 with 0 Axes>"
     },
     "metadata": {},
     "output_type": "display_data"
    },
    {
     "data": {
      "text/plain": "<Figure size 1080x648 with 0 Axes>"
     },
     "metadata": {},
     "output_type": "display_data"
    },
    {
     "data": {
      "text/plain": "<Figure size 1080x648 with 0 Axes>"
     },
     "metadata": {},
     "output_type": "display_data"
    },
    {
     "data": {
      "text/plain": "<Figure size 1080x648 with 0 Axes>"
     },
     "metadata": {},
     "output_type": "display_data"
    },
    {
     "data": {
      "text/plain": "<Figure size 1080x648 with 0 Axes>"
     },
     "metadata": {},
     "output_type": "display_data"
    },
    {
     "data": {
      "text/plain": "<Figure size 1080x648 with 0 Axes>"
     },
     "metadata": {},
     "output_type": "display_data"
    },
    {
     "data": {
      "text/plain": "<Figure size 1080x648 with 0 Axes>"
     },
     "metadata": {},
     "output_type": "display_data"
    },
    {
     "data": {
      "text/plain": "<Figure size 1080x648 with 0 Axes>"
     },
     "metadata": {},
     "output_type": "display_data"
    },
    {
     "data": {
      "text/plain": "<Figure size 1080x648 with 0 Axes>"
     },
     "metadata": {},
     "output_type": "display_data"
    },
    {
     "data": {
      "text/plain": "<Figure size 1080x648 with 0 Axes>"
     },
     "metadata": {},
     "output_type": "display_data"
    },
    {
     "data": {
      "text/plain": "<Figure size 1080x648 with 0 Axes>"
     },
     "metadata": {},
     "output_type": "display_data"
    },
    {
     "data": {
      "text/plain": "<Figure size 1080x648 with 0 Axes>"
     },
     "metadata": {},
     "output_type": "display_data"
    },
    {
     "data": {
      "text/plain": "<Figure size 1080x648 with 0 Axes>"
     },
     "metadata": {},
     "output_type": "display_data"
    },
    {
     "data": {
      "text/plain": "<Figure size 1080x648 with 0 Axes>"
     },
     "metadata": {},
     "output_type": "display_data"
    },
    {
     "data": {
      "text/plain": "<Figure size 1080x648 with 0 Axes>"
     },
     "metadata": {},
     "output_type": "display_data"
    },
    {
     "data": {
      "text/plain": "<Figure size 1080x648 with 0 Axes>"
     },
     "metadata": {},
     "output_type": "display_data"
    },
    {
     "data": {
      "text/plain": "<Figure size 1080x648 with 0 Axes>"
     },
     "metadata": {},
     "output_type": "display_data"
    },
    {
     "data": {
      "text/plain": "<Figure size 1080x648 with 0 Axes>"
     },
     "metadata": {},
     "output_type": "display_data"
    },
    {
     "data": {
      "text/plain": "<Figure size 1080x648 with 0 Axes>"
     },
     "metadata": {},
     "output_type": "display_data"
    },
    {
     "data": {
      "text/plain": "<Figure size 1080x648 with 0 Axes>"
     },
     "metadata": {},
     "output_type": "display_data"
    },
    {
     "data": {
      "text/plain": "<Figure size 1080x648 with 0 Axes>"
     },
     "metadata": {},
     "output_type": "display_data"
    },
    {
     "data": {
      "text/plain": "<Figure size 1080x648 with 0 Axes>"
     },
     "metadata": {},
     "output_type": "display_data"
    },
    {
     "data": {
      "text/plain": "<Figure size 1080x648 with 0 Axes>"
     },
     "metadata": {},
     "output_type": "display_data"
    },
    {
     "data": {
      "text/plain": "<Figure size 1080x648 with 0 Axes>"
     },
     "metadata": {},
     "output_type": "display_data"
    },
    {
     "data": {
      "text/plain": "<Figure size 1080x648 with 0 Axes>"
     },
     "metadata": {},
     "output_type": "display_data"
    },
    {
     "data": {
      "text/plain": "<Figure size 1080x648 with 0 Axes>"
     },
     "metadata": {},
     "output_type": "display_data"
    },
    {
     "data": {
      "text/plain": "<Figure size 1080x648 with 0 Axes>"
     },
     "metadata": {},
     "output_type": "display_data"
    },
    {
     "data": {
      "text/plain": "<Figure size 1080x648 with 0 Axes>"
     },
     "metadata": {},
     "output_type": "display_data"
    },
    {
     "data": {
      "text/plain": "<Figure size 1080x648 with 0 Axes>"
     },
     "metadata": {},
     "output_type": "display_data"
    },
    {
     "data": {
      "text/plain": "<Figure size 1080x648 with 0 Axes>"
     },
     "metadata": {},
     "output_type": "display_data"
    },
    {
     "data": {
      "text/plain": "<Figure size 1080x648 with 0 Axes>"
     },
     "metadata": {},
     "output_type": "display_data"
    },
    {
     "data": {
      "text/plain": "<Figure size 1080x648 with 0 Axes>"
     },
     "metadata": {},
     "output_type": "display_data"
    },
    {
     "data": {
      "text/plain": "<Figure size 1080x648 with 0 Axes>"
     },
     "metadata": {},
     "output_type": "display_data"
    },
    {
     "data": {
      "text/plain": "<Figure size 1080x648 with 0 Axes>"
     },
     "metadata": {},
     "output_type": "display_data"
    },
    {
     "data": {
      "text/plain": "<Figure size 1080x648 with 0 Axes>"
     },
     "metadata": {},
     "output_type": "display_data"
    },
    {
     "data": {
      "text/plain": "<Figure size 1080x648 with 0 Axes>"
     },
     "metadata": {},
     "output_type": "display_data"
    },
    {
     "data": {
      "text/plain": "<Figure size 1080x648 with 0 Axes>"
     },
     "metadata": {},
     "output_type": "display_data"
    },
    {
     "data": {
      "text/plain": "<Figure size 1080x648 with 0 Axes>"
     },
     "metadata": {},
     "output_type": "display_data"
    },
    {
     "data": {
      "text/plain": "<Figure size 1080x648 with 0 Axes>"
     },
     "metadata": {},
     "output_type": "display_data"
    },
    {
     "data": {
      "text/plain": "<Figure size 1080x648 with 0 Axes>"
     },
     "metadata": {},
     "output_type": "display_data"
    },
    {
     "data": {
      "text/plain": "<Figure size 1080x648 with 0 Axes>"
     },
     "metadata": {},
     "output_type": "display_data"
    },
    {
     "data": {
      "text/plain": "<Figure size 1080x648 with 0 Axes>"
     },
     "metadata": {},
     "output_type": "display_data"
    },
    {
     "data": {
      "text/plain": "<Figure size 1080x648 with 0 Axes>"
     },
     "metadata": {},
     "output_type": "display_data"
    },
    {
     "data": {
      "text/plain": "<Figure size 1080x648 with 0 Axes>"
     },
     "metadata": {},
     "output_type": "display_data"
    },
    {
     "data": {
      "text/plain": "<Figure size 1080x648 with 0 Axes>"
     },
     "metadata": {},
     "output_type": "display_data"
    },
    {
     "data": {
      "text/plain": "<Figure size 1080x648 with 0 Axes>"
     },
     "metadata": {},
     "output_type": "display_data"
    },
    {
     "data": {
      "text/plain": "<Figure size 1080x648 with 0 Axes>"
     },
     "metadata": {},
     "output_type": "display_data"
    },
    {
     "data": {
      "text/plain": "<Figure size 1080x648 with 0 Axes>"
     },
     "metadata": {},
     "output_type": "display_data"
    },
    {
     "data": {
      "text/plain": "<Figure size 1080x648 with 0 Axes>"
     },
     "metadata": {},
     "output_type": "display_data"
    },
    {
     "data": {
      "text/plain": "<Figure size 1080x648 with 0 Axes>"
     },
     "metadata": {},
     "output_type": "display_data"
    },
    {
     "data": {
      "text/plain": "<Figure size 1080x648 with 0 Axes>"
     },
     "metadata": {},
     "output_type": "display_data"
    },
    {
     "data": {
      "text/plain": "<Figure size 1080x648 with 0 Axes>"
     },
     "metadata": {},
     "output_type": "display_data"
    },
    {
     "data": {
      "text/plain": "<Figure size 1080x648 with 0 Axes>"
     },
     "metadata": {},
     "output_type": "display_data"
    },
    {
     "data": {
      "text/plain": "<Figure size 1080x648 with 0 Axes>"
     },
     "metadata": {},
     "output_type": "display_data"
    },
    {
     "data": {
      "text/plain": "<Figure size 1080x648 with 0 Axes>"
     },
     "metadata": {},
     "output_type": "display_data"
    },
    {
     "data": {
      "text/plain": "<Figure size 1080x648 with 0 Axes>"
     },
     "metadata": {},
     "output_type": "display_data"
    },
    {
     "data": {
      "text/plain": "<Figure size 1080x648 with 0 Axes>"
     },
     "metadata": {},
     "output_type": "display_data"
    },
    {
     "data": {
      "text/plain": "<Figure size 1080x648 with 0 Axes>"
     },
     "metadata": {},
     "output_type": "display_data"
    },
    {
     "data": {
      "text/plain": "<Figure size 1080x648 with 0 Axes>"
     },
     "metadata": {},
     "output_type": "display_data"
    },
    {
     "data": {
      "text/plain": "<Figure size 1080x648 with 0 Axes>"
     },
     "metadata": {},
     "output_type": "display_data"
    },
    {
     "data": {
      "text/plain": "<Figure size 1080x648 with 0 Axes>"
     },
     "metadata": {},
     "output_type": "display_data"
    },
    {
     "data": {
      "text/plain": "<Figure size 1080x648 with 0 Axes>"
     },
     "metadata": {},
     "output_type": "display_data"
    },
    {
     "data": {
      "text/plain": "<Figure size 1080x648 with 0 Axes>"
     },
     "metadata": {},
     "output_type": "display_data"
    },
    {
     "data": {
      "text/plain": "<Figure size 1080x648 with 0 Axes>"
     },
     "metadata": {},
     "output_type": "display_data"
    },
    {
     "data": {
      "text/plain": "<Figure size 1080x648 with 0 Axes>"
     },
     "metadata": {},
     "output_type": "display_data"
    },
    {
     "data": {
      "text/plain": "<Figure size 1080x648 with 0 Axes>"
     },
     "metadata": {},
     "output_type": "display_data"
    },
    {
     "data": {
      "text/plain": "<Figure size 1080x648 with 0 Axes>"
     },
     "metadata": {},
     "output_type": "display_data"
    },
    {
     "data": {
      "text/plain": "<Figure size 1080x648 with 0 Axes>"
     },
     "metadata": {},
     "output_type": "display_data"
    },
    {
     "data": {
      "text/plain": "<Figure size 1080x648 with 0 Axes>"
     },
     "metadata": {},
     "output_type": "display_data"
    },
    {
     "data": {
      "text/plain": "<Figure size 1080x648 with 0 Axes>"
     },
     "metadata": {},
     "output_type": "display_data"
    },
    {
     "data": {
      "text/plain": "<Figure size 1080x648 with 0 Axes>"
     },
     "metadata": {},
     "output_type": "display_data"
    },
    {
     "data": {
      "text/plain": "<Figure size 1080x648 with 0 Axes>"
     },
     "metadata": {},
     "output_type": "display_data"
    },
    {
     "data": {
      "text/plain": "<Figure size 1080x648 with 0 Axes>"
     },
     "metadata": {},
     "output_type": "display_data"
    },
    {
     "data": {
      "text/plain": "<Figure size 1080x648 with 0 Axes>"
     },
     "metadata": {},
     "output_type": "display_data"
    },
    {
     "data": {
      "text/plain": "<Figure size 1080x648 with 0 Axes>"
     },
     "metadata": {},
     "output_type": "display_data"
    },
    {
     "data": {
      "text/plain": "<Figure size 1080x648 with 0 Axes>"
     },
     "metadata": {},
     "output_type": "display_data"
    },
    {
     "data": {
      "text/plain": "<Figure size 1080x648 with 0 Axes>"
     },
     "metadata": {},
     "output_type": "display_data"
    },
    {
     "data": {
      "text/plain": "<Figure size 1080x648 with 0 Axes>"
     },
     "metadata": {},
     "output_type": "display_data"
    },
    {
     "data": {
      "text/plain": "<Figure size 1080x648 with 0 Axes>"
     },
     "metadata": {},
     "output_type": "display_data"
    },
    {
     "data": {
      "text/plain": "<Figure size 1080x648 with 0 Axes>"
     },
     "metadata": {},
     "output_type": "display_data"
    },
    {
     "data": {
      "text/plain": "<Figure size 1080x648 with 0 Axes>"
     },
     "metadata": {},
     "output_type": "display_data"
    },
    {
     "data": {
      "text/plain": "<Figure size 1080x648 with 0 Axes>"
     },
     "metadata": {},
     "output_type": "display_data"
    },
    {
     "data": {
      "text/plain": "<Figure size 1080x648 with 0 Axes>"
     },
     "metadata": {},
     "output_type": "display_data"
    },
    {
     "data": {
      "text/plain": "<Figure size 1080x648 with 0 Axes>"
     },
     "metadata": {},
     "output_type": "display_data"
    },
    {
     "data": {
      "text/plain": "<Figure size 1080x648 with 0 Axes>"
     },
     "metadata": {},
     "output_type": "display_data"
    },
    {
     "data": {
      "text/plain": "<Figure size 1080x648 with 0 Axes>"
     },
     "metadata": {},
     "output_type": "display_data"
    },
    {
     "data": {
      "text/plain": "<Figure size 1080x648 with 0 Axes>"
     },
     "metadata": {},
     "output_type": "display_data"
    },
    {
     "data": {
      "text/plain": "<Figure size 1080x648 with 0 Axes>"
     },
     "metadata": {},
     "output_type": "display_data"
    },
    {
     "data": {
      "text/plain": "<Figure size 1080x648 with 0 Axes>"
     },
     "metadata": {},
     "output_type": "display_data"
    },
    {
     "data": {
      "text/plain": "<Figure size 1080x648 with 0 Axes>"
     },
     "metadata": {},
     "output_type": "display_data"
    },
    {
     "data": {
      "text/plain": "<Figure size 1080x648 with 0 Axes>"
     },
     "metadata": {},
     "output_type": "display_data"
    },
    {
     "data": {
      "text/plain": "<Figure size 1080x648 with 0 Axes>"
     },
     "metadata": {},
     "output_type": "display_data"
    },
    {
     "data": {
      "text/plain": "<Figure size 1080x648 with 0 Axes>"
     },
     "metadata": {},
     "output_type": "display_data"
    },
    {
     "data": {
      "text/plain": "<Figure size 1080x648 with 0 Axes>"
     },
     "metadata": {},
     "output_type": "display_data"
    },
    {
     "data": {
      "text/plain": "<Figure size 1080x648 with 0 Axes>"
     },
     "metadata": {},
     "output_type": "display_data"
    },
    {
     "data": {
      "text/plain": "<Figure size 1080x648 with 0 Axes>"
     },
     "metadata": {},
     "output_type": "display_data"
    },
    {
     "data": {
      "text/plain": "<Figure size 1080x648 with 0 Axes>"
     },
     "metadata": {},
     "output_type": "display_data"
    },
    {
     "data": {
      "text/plain": "<Figure size 1080x648 with 0 Axes>"
     },
     "metadata": {},
     "output_type": "display_data"
    },
    {
     "data": {
      "text/plain": "<Figure size 1080x648 with 0 Axes>"
     },
     "metadata": {},
     "output_type": "display_data"
    },
    {
     "data": {
      "text/plain": "<Figure size 1080x648 with 0 Axes>"
     },
     "metadata": {},
     "output_type": "display_data"
    },
    {
     "data": {
      "text/plain": "<Figure size 1080x648 with 0 Axes>"
     },
     "metadata": {},
     "output_type": "display_data"
    },
    {
     "data": {
      "text/plain": "<Figure size 1080x648 with 0 Axes>"
     },
     "metadata": {},
     "output_type": "display_data"
    },
    {
     "data": {
      "text/plain": "<Figure size 1080x648 with 0 Axes>"
     },
     "metadata": {},
     "output_type": "display_data"
    },
    {
     "data": {
      "text/plain": "<Figure size 1080x648 with 0 Axes>"
     },
     "metadata": {},
     "output_type": "display_data"
    },
    {
     "data": {
      "text/plain": "<Figure size 1080x648 with 0 Axes>"
     },
     "metadata": {},
     "output_type": "display_data"
    },
    {
     "data": {
      "text/plain": "<Figure size 1080x648 with 0 Axes>"
     },
     "metadata": {},
     "output_type": "display_data"
    },
    {
     "data": {
      "text/plain": "<Figure size 1080x648 with 0 Axes>"
     },
     "metadata": {},
     "output_type": "display_data"
    },
    {
     "data": {
      "text/plain": "<Figure size 1080x648 with 0 Axes>"
     },
     "metadata": {},
     "output_type": "display_data"
    },
    {
     "data": {
      "text/plain": "<Figure size 1080x648 with 0 Axes>"
     },
     "metadata": {},
     "output_type": "display_data"
    },
    {
     "data": {
      "text/plain": "<Figure size 1080x648 with 0 Axes>"
     },
     "metadata": {},
     "output_type": "display_data"
    },
    {
     "data": {
      "text/plain": "<Figure size 1080x648 with 0 Axes>"
     },
     "metadata": {},
     "output_type": "display_data"
    },
    {
     "data": {
      "text/plain": "<Figure size 1080x648 with 0 Axes>"
     },
     "metadata": {},
     "output_type": "display_data"
    },
    {
     "data": {
      "text/plain": "<Figure size 1080x648 with 0 Axes>"
     },
     "metadata": {},
     "output_type": "display_data"
    },
    {
     "data": {
      "text/plain": "<Figure size 1080x648 with 0 Axes>"
     },
     "metadata": {},
     "output_type": "display_data"
    },
    {
     "data": {
      "text/plain": "<Figure size 1080x648 with 0 Axes>"
     },
     "metadata": {},
     "output_type": "display_data"
    },
    {
     "data": {
      "text/plain": "<Figure size 1080x648 with 0 Axes>"
     },
     "metadata": {},
     "output_type": "display_data"
    },
    {
     "data": {
      "text/plain": "<Figure size 1080x648 with 0 Axes>"
     },
     "metadata": {},
     "output_type": "display_data"
    },
    {
     "data": {
      "text/plain": "<Figure size 1080x648 with 0 Axes>"
     },
     "metadata": {},
     "output_type": "display_data"
    },
    {
     "data": {
      "text/plain": "<Figure size 1080x648 with 0 Axes>"
     },
     "metadata": {},
     "output_type": "display_data"
    },
    {
     "data": {
      "text/plain": "<Figure size 1080x648 with 0 Axes>"
     },
     "metadata": {},
     "output_type": "display_data"
    },
    {
     "data": {
      "text/plain": "<Figure size 1080x648 with 0 Axes>"
     },
     "metadata": {},
     "output_type": "display_data"
    },
    {
     "data": {
      "text/plain": "<Figure size 1080x648 with 0 Axes>"
     },
     "metadata": {},
     "output_type": "display_data"
    },
    {
     "data": {
      "text/plain": "<Figure size 1080x648 with 0 Axes>"
     },
     "metadata": {},
     "output_type": "display_data"
    },
    {
     "data": {
      "text/plain": "<Figure size 1080x648 with 0 Axes>"
     },
     "metadata": {},
     "output_type": "display_data"
    },
    {
     "data": {
      "text/plain": "<Figure size 1080x648 with 0 Axes>"
     },
     "metadata": {},
     "output_type": "display_data"
    },
    {
     "data": {
      "text/plain": "<Figure size 1080x648 with 0 Axes>"
     },
     "metadata": {},
     "output_type": "display_data"
    },
    {
     "data": {
      "text/plain": "<Figure size 1080x648 with 0 Axes>"
     },
     "metadata": {},
     "output_type": "display_data"
    },
    {
     "data": {
      "text/plain": "<Figure size 1080x648 with 0 Axes>"
     },
     "metadata": {},
     "output_type": "display_data"
    },
    {
     "data": {
      "text/plain": "<Figure size 1080x648 with 0 Axes>"
     },
     "metadata": {},
     "output_type": "display_data"
    },
    {
     "data": {
      "text/plain": "<Figure size 1080x648 with 0 Axes>"
     },
     "metadata": {},
     "output_type": "display_data"
    },
    {
     "data": {
      "text/plain": "<Figure size 1080x648 with 0 Axes>"
     },
     "metadata": {},
     "output_type": "display_data"
    },
    {
     "data": {
      "text/plain": "<Figure size 1080x648 with 0 Axes>"
     },
     "metadata": {},
     "output_type": "display_data"
    },
    {
     "data": {
      "text/plain": "<Figure size 1080x648 with 0 Axes>"
     },
     "metadata": {},
     "output_type": "display_data"
    },
    {
     "data": {
      "text/plain": "<Figure size 1080x648 with 0 Axes>"
     },
     "metadata": {},
     "output_type": "display_data"
    },
    {
     "data": {
      "text/plain": "<Figure size 1080x648 with 0 Axes>"
     },
     "metadata": {},
     "output_type": "display_data"
    },
    {
     "data": {
      "text/plain": "<Figure size 1080x648 with 0 Axes>"
     },
     "metadata": {},
     "output_type": "display_data"
    },
    {
     "data": {
      "text/plain": "<Figure size 1080x648 with 0 Axes>"
     },
     "metadata": {},
     "output_type": "display_data"
    },
    {
     "data": {
      "text/plain": "<Figure size 1080x648 with 0 Axes>"
     },
     "metadata": {},
     "output_type": "display_data"
    },
    {
     "data": {
      "text/plain": "<Figure size 1080x648 with 0 Axes>"
     },
     "metadata": {},
     "output_type": "display_data"
    },
    {
     "data": {
      "text/plain": "<Figure size 1080x648 with 0 Axes>"
     },
     "metadata": {},
     "output_type": "display_data"
    },
    {
     "data": {
      "text/plain": "<Figure size 1080x648 with 0 Axes>"
     },
     "metadata": {},
     "output_type": "display_data"
    },
    {
     "data": {
      "text/plain": "<Figure size 1080x648 with 0 Axes>"
     },
     "metadata": {},
     "output_type": "display_data"
    },
    {
     "data": {
      "text/plain": "<Figure size 1080x648 with 0 Axes>"
     },
     "metadata": {},
     "output_type": "display_data"
    },
    {
     "data": {
      "text/plain": "<Figure size 1080x648 with 0 Axes>"
     },
     "metadata": {},
     "output_type": "display_data"
    },
    {
     "data": {
      "text/plain": "<Figure size 1080x648 with 0 Axes>"
     },
     "metadata": {},
     "output_type": "display_data"
    },
    {
     "data": {
      "text/plain": "<Figure size 1080x648 with 0 Axes>"
     },
     "metadata": {},
     "output_type": "display_data"
    },
    {
     "data": {
      "text/plain": "<Figure size 1080x648 with 0 Axes>"
     },
     "metadata": {},
     "output_type": "display_data"
    },
    {
     "data": {
      "text/plain": "<Figure size 1080x648 with 0 Axes>"
     },
     "metadata": {},
     "output_type": "display_data"
    },
    {
     "data": {
      "text/plain": "<Figure size 1080x648 with 0 Axes>"
     },
     "metadata": {},
     "output_type": "display_data"
    },
    {
     "data": {
      "text/plain": "<Figure size 1080x648 with 0 Axes>"
     },
     "metadata": {},
     "output_type": "display_data"
    },
    {
     "data": {
      "text/plain": "<Figure size 1080x648 with 0 Axes>"
     },
     "metadata": {},
     "output_type": "display_data"
    },
    {
     "data": {
      "text/plain": "<Figure size 1080x648 with 0 Axes>"
     },
     "metadata": {},
     "output_type": "display_data"
    },
    {
     "data": {
      "text/plain": "<Figure size 1080x648 with 0 Axes>"
     },
     "metadata": {},
     "output_type": "display_data"
    },
    {
     "data": {
      "text/plain": "<Figure size 1080x648 with 0 Axes>"
     },
     "metadata": {},
     "output_type": "display_data"
    },
    {
     "data": {
      "text/plain": "<Figure size 1080x648 with 0 Axes>"
     },
     "metadata": {},
     "output_type": "display_data"
    },
    {
     "data": {
      "text/plain": "<Figure size 1080x648 with 0 Axes>"
     },
     "metadata": {},
     "output_type": "display_data"
    },
    {
     "data": {
      "text/plain": "<Figure size 1080x648 with 0 Axes>"
     },
     "metadata": {},
     "output_type": "display_data"
    },
    {
     "data": {
      "text/plain": "<Figure size 1080x648 with 0 Axes>"
     },
     "metadata": {},
     "output_type": "display_data"
    },
    {
     "data": {
      "text/plain": "<Figure size 1080x648 with 0 Axes>"
     },
     "metadata": {},
     "output_type": "display_data"
    },
    {
     "data": {
      "text/plain": "<Figure size 1080x648 with 0 Axes>"
     },
     "metadata": {},
     "output_type": "display_data"
    },
    {
     "data": {
      "text/plain": "<Figure size 1080x648 with 0 Axes>"
     },
     "metadata": {},
     "output_type": "display_data"
    },
    {
     "data": {
      "text/plain": "<Figure size 1080x648 with 0 Axes>"
     },
     "metadata": {},
     "output_type": "display_data"
    },
    {
     "data": {
      "text/plain": "<Figure size 1080x648 with 0 Axes>"
     },
     "metadata": {},
     "output_type": "display_data"
    },
    {
     "data": {
      "text/plain": "<Figure size 1080x648 with 0 Axes>"
     },
     "metadata": {},
     "output_type": "display_data"
    },
    {
     "data": {
      "text/plain": "<Figure size 1080x648 with 0 Axes>"
     },
     "metadata": {},
     "output_type": "display_data"
    },
    {
     "data": {
      "text/plain": "<Figure size 1080x648 with 0 Axes>"
     },
     "metadata": {},
     "output_type": "display_data"
    },
    {
     "data": {
      "text/plain": "<Figure size 1080x648 with 0 Axes>"
     },
     "metadata": {},
     "output_type": "display_data"
    },
    {
     "data": {
      "text/plain": "<Figure size 1080x648 with 0 Axes>"
     },
     "metadata": {},
     "output_type": "display_data"
    },
    {
     "data": {
      "text/plain": "<Figure size 1080x648 with 0 Axes>"
     },
     "metadata": {},
     "output_type": "display_data"
    },
    {
     "data": {
      "text/plain": "<Figure size 1080x648 with 0 Axes>"
     },
     "metadata": {},
     "output_type": "display_data"
    },
    {
     "data": {
      "text/plain": "<Figure size 1080x648 with 0 Axes>"
     },
     "metadata": {},
     "output_type": "display_data"
    },
    {
     "data": {
      "text/plain": "<Figure size 1080x648 with 0 Axes>"
     },
     "metadata": {},
     "output_type": "display_data"
    },
    {
     "data": {
      "text/plain": "<Figure size 1080x648 with 0 Axes>"
     },
     "metadata": {},
     "output_type": "display_data"
    },
    {
     "data": {
      "text/plain": "<Figure size 1080x648 with 0 Axes>"
     },
     "metadata": {},
     "output_type": "display_data"
    },
    {
     "data": {
      "text/plain": "<Figure size 1080x648 with 0 Axes>"
     },
     "metadata": {},
     "output_type": "display_data"
    },
    {
     "data": {
      "text/plain": "<Figure size 1080x648 with 0 Axes>"
     },
     "metadata": {},
     "output_type": "display_data"
    },
    {
     "data": {
      "text/plain": "<Figure size 1080x648 with 0 Axes>"
     },
     "metadata": {},
     "output_type": "display_data"
    },
    {
     "data": {
      "text/plain": "<Figure size 1080x648 with 0 Axes>"
     },
     "metadata": {},
     "output_type": "display_data"
    },
    {
     "data": {
      "text/plain": "<Figure size 1080x648 with 0 Axes>"
     },
     "metadata": {},
     "output_type": "display_data"
    },
    {
     "data": {
      "text/plain": "<Figure size 1080x648 with 0 Axes>"
     },
     "metadata": {},
     "output_type": "display_data"
    },
    {
     "data": {
      "text/plain": "<Figure size 1080x648 with 0 Axes>"
     },
     "metadata": {},
     "output_type": "display_data"
    },
    {
     "data": {
      "text/plain": "<Figure size 1080x648 with 0 Axes>"
     },
     "metadata": {},
     "output_type": "display_data"
    },
    {
     "data": {
      "text/plain": "<Figure size 1080x648 with 0 Axes>"
     },
     "metadata": {},
     "output_type": "display_data"
    },
    {
     "data": {
      "text/plain": "<Figure size 1080x648 with 0 Axes>"
     },
     "metadata": {},
     "output_type": "display_data"
    },
    {
     "data": {
      "text/plain": "<Figure size 1080x648 with 0 Axes>"
     },
     "metadata": {},
     "output_type": "display_data"
    },
    {
     "data": {
      "text/plain": "<Figure size 1080x648 with 0 Axes>"
     },
     "metadata": {},
     "output_type": "display_data"
    },
    {
     "data": {
      "text/plain": "<Figure size 1080x648 with 0 Axes>"
     },
     "metadata": {},
     "output_type": "display_data"
    },
    {
     "data": {
      "text/plain": "<Figure size 1080x648 with 0 Axes>"
     },
     "metadata": {},
     "output_type": "display_data"
    },
    {
     "data": {
      "text/plain": "<Figure size 1080x648 with 0 Axes>"
     },
     "metadata": {},
     "output_type": "display_data"
    },
    {
     "data": {
      "text/plain": "<Figure size 1080x648 with 0 Axes>"
     },
     "metadata": {},
     "output_type": "display_data"
    },
    {
     "data": {
      "text/plain": "<Figure size 1080x648 with 0 Axes>"
     },
     "metadata": {},
     "output_type": "display_data"
    },
    {
     "data": {
      "text/plain": "<Figure size 1080x648 with 0 Axes>"
     },
     "metadata": {},
     "output_type": "display_data"
    },
    {
     "data": {
      "text/plain": "<Figure size 1080x648 with 0 Axes>"
     },
     "metadata": {},
     "output_type": "display_data"
    },
    {
     "data": {
      "text/plain": "<Figure size 1080x648 with 0 Axes>"
     },
     "metadata": {},
     "output_type": "display_data"
    },
    {
     "data": {
      "text/plain": "<Figure size 1080x648 with 0 Axes>"
     },
     "metadata": {},
     "output_type": "display_data"
    },
    {
     "data": {
      "text/plain": "<Figure size 1080x648 with 0 Axes>"
     },
     "metadata": {},
     "output_type": "display_data"
    },
    {
     "data": {
      "text/plain": "<Figure size 1080x648 with 0 Axes>"
     },
     "metadata": {},
     "output_type": "display_data"
    },
    {
     "data": {
      "text/plain": "<Figure size 1080x648 with 0 Axes>"
     },
     "metadata": {},
     "output_type": "display_data"
    },
    {
     "data": {
      "text/plain": "<Figure size 1080x648 with 0 Axes>"
     },
     "metadata": {},
     "output_type": "display_data"
    },
    {
     "data": {
      "text/plain": "<Figure size 1080x648 with 0 Axes>"
     },
     "metadata": {},
     "output_type": "display_data"
    },
    {
     "data": {
      "text/plain": "<Figure size 1080x648 with 0 Axes>"
     },
     "metadata": {},
     "output_type": "display_data"
    },
    {
     "data": {
      "text/plain": "<Figure size 1080x648 with 0 Axes>"
     },
     "metadata": {},
     "output_type": "display_data"
    },
    {
     "data": {
      "text/plain": "<Figure size 1080x648 with 0 Axes>"
     },
     "metadata": {},
     "output_type": "display_data"
    },
    {
     "data": {
      "text/plain": "<Figure size 1080x648 with 0 Axes>"
     },
     "metadata": {},
     "output_type": "display_data"
    },
    {
     "data": {
      "text/plain": "<Figure size 1080x648 with 0 Axes>"
     },
     "metadata": {},
     "output_type": "display_data"
    },
    {
     "data": {
      "text/plain": "<Figure size 1080x648 with 0 Axes>"
     },
     "metadata": {},
     "output_type": "display_data"
    },
    {
     "data": {
      "text/plain": "<Figure size 1080x648 with 0 Axes>"
     },
     "metadata": {},
     "output_type": "display_data"
    },
    {
     "data": {
      "text/plain": "<Figure size 1080x648 with 0 Axes>"
     },
     "metadata": {},
     "output_type": "display_data"
    },
    {
     "data": {
      "text/plain": "<Figure size 1080x648 with 0 Axes>"
     },
     "metadata": {},
     "output_type": "display_data"
    },
    {
     "data": {
      "text/plain": "<Figure size 1080x648 with 0 Axes>"
     },
     "metadata": {},
     "output_type": "display_data"
    }
   ],
   "source": [
    "\n",
    "all_files = glob.glob(foldername + \"/*\")\n",
    "for file in all_files:\n",
    "    # Check if it's a csv file\n",
    "    if (str(file).endswith(\".csv\") and str(file).find(\"summary\") == -1):\n",
    "\n",
    "        df_results = pd.read_csv(file, sep=\";\", names=['name','commit', \"CI_min\", \"Median\", \"CI_max\", 'jump','trend'], skiprows=1)\n",
    "        df_results.sort_values(by=[\"commit\"], inplace=True)\n",
    "\n",
    "        nameparts=str(file).split(\"\\\\\")\n",
    "        name = nameparts[1]\n",
    "        name = name[:-4]\n",
    "\n",
    "        print(f\"Plotting benchmark {name}\")\n",
    "        #Find % set y-limits\n",
    "        min = -5\n",
    "        max = 5\n",
    "        for minSmall in df_results.CI_min.unique():\n",
    "            if minSmall < min:\n",
    "                min = minSmall\n",
    "\n",
    "        for maxSmall in df_results.CI_max.unique():\n",
    "            if maxSmall > max:\n",
    "                max = maxSmall\n",
    "\n",
    "        sns.set(style=\"whitegrid\")\n",
    "        plot, axes = plt.subplots(figsize=(15,9))\n",
    "        axes.set_ylim([min, max])\n",
    "        axes.set_xlim([0, 120])\n",
    "        axes.set_xticks([0,10,20,30,40,50,60,70,80,90,100,110,120])\n",
    "\n",
    "        uptrendMarker=\"$↗$\"\n",
    "        downtrendMarker=\"$↘$\"\n",
    "        jumpSize=1000\n",
    "        trendSize=700\n",
    "        fillColor=\"#bac7e6\"\n",
    "        edgeColor='black'\n",
    "\n",
    "\n",
    "        #Plot CIs\n",
    "        plot = sns.lineplot(data=df_results, x=\"commit\", y=\"CI_min\", color=\"royalblue\", zorder=2)\n",
    "        plot = sns.lineplot(data=df_results, x=\"commit\", y=\"CI_max\", color=\"royalblue\", zorder=2)\n",
    "        x_commits = df_results.commit\n",
    "        plot.fill_between(x=x_commits, y1=df_results.CI_min, y2=df_results.CI_max, facecolor =fillColor, zorder=1)\n",
    "\n",
    "        #Plot Median line\n",
    "        plot = sns.lineplot(data=df_results, x=\"commit\", y=\"Median\", color=\"black\")\n",
    "\n",
    "        #PLot Up&Down Changes\n",
    "        ups = df_results.loc[(df_results['jump'].astype(str).str.startswith(\"potential up\", na=False))]\n",
    "        plot = sns.regplot(data=ups,x=\"commit\", y=\"Median\", marker=\"^\", fit_reg=False, scatter_kws={\"color\":\"orange\",\"alpha\":1,\"s\":jumpSize, \"zorder\":3, 'edgecolor':edgeColor})\n",
    "        ups = df_results.loc[(df_results['jump'].astype(str).str.startswith(\"definite up\", na=False))]\n",
    "        plot = sns.regplot(data=ups,x=\"commit\", y=\"Median\", marker=\"^\", fit_reg=False, scatter_kws={\"color\":\"red\",\"alpha\":1,\"s\":jumpSize, \"zorder\":3, 'edgecolor':edgeColor})\n",
    "\n",
    "        ups = df_results.loc[(df_results['trend'].astype(str).str.startswith(\"potential up\", na=False))]\n",
    "        plot = sns.regplot(data=ups,x=\"commit\", y=\"Median\", marker=uptrendMarker, fit_reg=False, scatter_kws={\"color\":\"orange\",\"alpha\":1,\"s\":trendSize, \"zorder\":3, 'edgecolor':edgeColor})\n",
    "        ups = df_results.loc[(df_results['trend'].astype(str).str.startswith(\"definite up\", na=False))]\n",
    "        plot = sns.regplot(data=ups,x=\"commit\", y=\"Median\", marker=uptrendMarker, fit_reg=False, scatter_kws={\"color\":\"red\",\"alpha\":1,\"s\":trendSize, \"zorder\":3, 'edgecolor':edgeColor})\n",
    "\n",
    "        downs = df_results.loc[(df_results['jump'].astype(str).str.startswith(\"potential down\", na=False))]\n",
    "        plot = sns.regplot(data=downs,x=\"commit\", y=\"Median\", marker=\"v\", fit_reg=False, scatter_kws={\"color\":\"orange\",\"alpha\":1,\"s\":jumpSize, \"zorder\":3, 'edgecolor':edgeColor})\n",
    "        downs = df_results.loc[(df_results['jump'].astype(str).str.startswith(\"definite down\", na=False))]\n",
    "        plot = sns.regplot(data=downs,x=\"commit\", y=\"Median\", marker=\"v\", fit_reg=False, scatter_kws={\"color\":\"red\",\"alpha\":1,\"s\":jumpSize, \"zorder\":3, 'edgecolor':edgeColor})\n",
    "\n",
    "        downs = df_results.loc[(df_results['trend'].astype(str).str.startswith(\"potential down\", na=False))]\n",
    "        plot = sns.regplot(data=downs,x=\"commit\", y=\"Median\", marker=downtrendMarker, fit_reg=False, scatter_kws={\"color\":\"orange\",\"alpha\":1,\"s\":trendSize, \"zorder\":3, 'edgecolor':edgeColor})\n",
    "        downs = df_results.loc[(df_results['trend'].astype(str).str.startswith(\"definite down\", na=False))]\n",
    "        plot = sns.regplot(data=downs,x=\"commit\", y=\"Median\", marker=downtrendMarker, fit_reg=False, scatter_kws={\"color\":\"red\",\"alpha\":1,\"s\":trendSize, \"zorder\":3, 'edgecolor':edgeColor})\n",
    "\n",
    "        legend_elements = [\n",
    "            Line2D([0], [0], color='black', lw=1, label='Median Performance Change'),\n",
    "            mpatches.Patch(color=fillColor, label='99% Confidence Interval'),\n",
    "            Line2D([0], [0], marker='^', color='w', label='Potential Performance Jump (Up)', markerfacecolor='orange', markeredgecolor=edgeColor, markersize=16),\n",
    "            Line2D([0], [0], marker='v', color='w', label='Definite Performance Jump (Down)', markerfacecolor='red', markeredgecolor=edgeColor, markersize=16),\n",
    "            Line2D([0], [0], marker=uptrendMarker, color='w', label='Potential Performance Trend (Up)', markerfacecolor='orange', markeredgecolor=edgeColor, markersize=16),\n",
    "            Line2D([0], [0], marker=downtrendMarker, color='w', label='Definite Performance Trend (Down)', markerfacecolor='red', markeredgecolor=edgeColor, markersize=16)\n",
    "        ]\n",
    "\n",
    "        plot.legend(fontsize=\"medium\", loc=1, title='', handles=legend_elements, labelspacing=0.8)\n",
    "\n",
    "\n",
    "        plot.set(ylim=(min, max))\n",
    "        plt.savefig(f'{foldername}/plots/{name}.png')\n",
    "        plt.clf()\n"
   ],
   "metadata": {
    "collapsed": false,
    "pycharm": {
     "name": "#%%\n"
    }
   }
  }
 ],
 "metadata": {
  "kernelspec": {
   "display_name": "Python 3",
   "language": "python",
   "name": "python3"
  },
  "language_info": {
   "codemirror_mode": {
    "name": "ipython",
    "version": 2
   },
   "file_extension": ".py",
   "mimetype": "text/x-python",
   "name": "python",
   "nbconvert_exporter": "python",
   "pygments_lexer": "ipython2",
   "version": "2.7.6"
  }
 },
 "nbformat": 4,
 "nbformat_minor": 0
}