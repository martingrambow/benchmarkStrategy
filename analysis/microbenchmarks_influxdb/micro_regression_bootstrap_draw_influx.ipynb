{
 "cells": [
  {
   "cell_type": "code",
   "execution_count": 1,
   "metadata": {
    "collapsed": true
   },
   "outputs": [],
   "source": [
    "import pandas as pd\n",
    "import glob\n",
    "import matplotlib.pyplot as plt\n",
    "import seaborn as sns\n",
    "from matplotlib.lines import Line2D\n",
    "import matplotlib.patches as mpatches\n",
    "sns.set()"
   ]
  },
  {
   "cell_type": "code",
   "execution_count": 2,
   "outputs": [],
   "source": [
    "foldername = \"../../results_all/micro_bootstrapping_influx_opti\"\n",
    "\n",
    "#foldername = \"../../results_all/micro_bootstrapping_influx\""
   ],
   "metadata": {
    "collapsed": false,
    "pycharm": {
     "name": "#%%\n"
    }
   }
  },
  {
   "cell_type": "code",
   "execution_count": 3,
   "outputs": [],
   "source": [
    "variances = []"
   ],
   "metadata": {
    "collapsed": false,
    "pycharm": {
     "name": "#%%\n"
    }
   }
  },
  {
   "cell_type": "code",
   "execution_count": 4,
   "outputs": [
    {
     "name": "stdout",
     "output_type": "stream",
     "text": [
      "Plotting benchmark BenchmarkCreateIterator-tsi1_shards_1-2\n",
      "Plotting benchmark BenchmarkCreateIterator-tsi1_shards_2-2\n",
      "Plotting benchmark BenchmarkCreateIterator-tsi1_shards_3-2\n",
      "Plotting benchmark BenchmarkCreateIterator-tsi1_shards_4-2\n",
      "Plotting benchmark BenchmarkCreateIterator-tsi1_shards_5-2\n",
      "Plotting benchmark BenchmarkDecodeFloatArrayBlock-1000-2\n",
      "Plotting benchmark BenchmarkDecodeFloatArrayBlock-5-2\n",
      "Plotting benchmark BenchmarkDecodeFloatArrayBlock-55-2\n",
      "Plotting benchmark BenchmarkDecodeFloatArrayBlock-555-2\n",
      "Plotting benchmark BenchmarkIndex_IndexFile_TagValueSeriesIDIterator-78888_series_TagValueSeriesIDIterator-cache-2\n",
      "Plotting benchmark BenchmarkIndex_IndexFile_TagValueSeriesIDIterator-78888_series_TagValueSeriesIDIterator-no_cache-2\n",
      "Plotting benchmark BenchmarkIntegerArrayDecodeAllPackedSimple-1000-2\n",
      "Plotting benchmark BenchmarkIntegerArrayDecodeAllPackedSimple-5-2\n",
      "Plotting benchmark BenchmarkIntegerArrayDecodeAllPackedSimple-55-2\n",
      "Plotting benchmark BenchmarkIntegerArrayDecodeAllPackedSimple-555-2\n",
      "Plotting benchmark BenchmarkIntegerArray_IncludeFirst_10000-2\n",
      "Plotting benchmark BenchmarkParsePointsTagsUnSorted5-2\n",
      "Plotting benchmark BenchmarkValues_EncodeInteger-2\n",
      "Plotting benchmark BenchmarkWritePoints_ExistingSeries_250K-2\n",
      "Plotting benchmark BenchmarkWritePoints_NewSeries_100_Measurements_1_TagKey_1_TagValue-2\n"
     ]
    },
    {
     "data": {
      "text/plain": "<Figure size 1080x648 with 0 Axes>"
     },
     "metadata": {},
     "output_type": "display_data"
    },
    {
     "data": {
      "text/plain": "<Figure size 1080x648 with 0 Axes>"
     },
     "metadata": {},
     "output_type": "display_data"
    },
    {
     "data": {
      "text/plain": "<Figure size 1080x648 with 0 Axes>"
     },
     "metadata": {},
     "output_type": "display_data"
    },
    {
     "data": {
      "text/plain": "<Figure size 1080x648 with 0 Axes>"
     },
     "metadata": {},
     "output_type": "display_data"
    },
    {
     "data": {
      "text/plain": "<Figure size 1080x648 with 0 Axes>"
     },
     "metadata": {},
     "output_type": "display_data"
    },
    {
     "data": {
      "text/plain": "<Figure size 1080x648 with 0 Axes>"
     },
     "metadata": {},
     "output_type": "display_data"
    },
    {
     "data": {
      "text/plain": "<Figure size 1080x648 with 0 Axes>"
     },
     "metadata": {},
     "output_type": "display_data"
    },
    {
     "data": {
      "text/plain": "<Figure size 1080x648 with 0 Axes>"
     },
     "metadata": {},
     "output_type": "display_data"
    },
    {
     "data": {
      "text/plain": "<Figure size 1080x648 with 0 Axes>"
     },
     "metadata": {},
     "output_type": "display_data"
    },
    {
     "data": {
      "text/plain": "<Figure size 1080x648 with 0 Axes>"
     },
     "metadata": {},
     "output_type": "display_data"
    },
    {
     "data": {
      "text/plain": "<Figure size 1080x648 with 0 Axes>"
     },
     "metadata": {},
     "output_type": "display_data"
    },
    {
     "data": {
      "text/plain": "<Figure size 1080x648 with 0 Axes>"
     },
     "metadata": {},
     "output_type": "display_data"
    },
    {
     "data": {
      "text/plain": "<Figure size 1080x648 with 0 Axes>"
     },
     "metadata": {},
     "output_type": "display_data"
    },
    {
     "data": {
      "text/plain": "<Figure size 1080x648 with 0 Axes>"
     },
     "metadata": {},
     "output_type": "display_data"
    },
    {
     "data": {
      "text/plain": "<Figure size 1080x648 with 0 Axes>"
     },
     "metadata": {},
     "output_type": "display_data"
    },
    {
     "data": {
      "text/plain": "<Figure size 1080x648 with 0 Axes>"
     },
     "metadata": {},
     "output_type": "display_data"
    },
    {
     "data": {
      "text/plain": "<Figure size 1080x648 with 0 Axes>"
     },
     "metadata": {},
     "output_type": "display_data"
    },
    {
     "data": {
      "text/plain": "<Figure size 1080x648 with 0 Axes>"
     },
     "metadata": {},
     "output_type": "display_data"
    },
    {
     "data": {
      "text/plain": "<Figure size 1080x648 with 0 Axes>"
     },
     "metadata": {},
     "output_type": "display_data"
    },
    {
     "data": {
      "text/plain": "<Figure size 1080x648 with 0 Axes>"
     },
     "metadata": {},
     "output_type": "display_data"
    }
   ],
   "source": [
    "\n",
    "all_files = glob.glob(foldername + \"/*\")\n",
    "for file in all_files:\n",
    "    # Check if it's a csv file\n",
    "    if (str(file).endswith(\".csv\")):\n",
    "\n",
    "        df_results = pd.read_csv(file, sep=\";\", names=['name','commit', \"CI_min\", \"Median\", \"CI_max\", 'jump','trend'], skiprows=1)\n",
    "        df_results.sort_values(by=[\"commit\"], inplace=True)\n",
    "\n",
    "        nameparts=str(file).split(\"\\\\\")\n",
    "        name = nameparts[1]\n",
    "        name = name[:-4]\n",
    "\n",
    "        print(f\"Plotting benchmark {name}\")\n",
    "        #Find % set y-limits\n",
    "        min = -5\n",
    "        max = 5\n",
    "        for minSmall in df_results.CI_min.unique():\n",
    "            if minSmall < min:\n",
    "                min = minSmall\n",
    "\n",
    "        for maxSmall in df_results.CI_max.unique():\n",
    "            if maxSmall > max:\n",
    "                max = maxSmall\n",
    "\n",
    "        sns.set(style=\"whitegrid\")\n",
    "        plot, axes = plt.subplots(figsize=(15,9))\n",
    "        axes.set_ylim([min, max])\n",
    "        axes.set_xlim([0, 70])\n",
    "        axes.set_xticks([0,10,20,30,40,50,60,70])\n",
    "\n",
    "        uptrendMarker=\"$↗$\"\n",
    "        downtrendMarker=\"$↘$\"\n",
    "        jumpSize=1000\n",
    "        trendSize=700\n",
    "        fillColor=\"#bac7e6\"\n",
    "        edgeColor='black'\n",
    "\n",
    "\n",
    "        #Plot CIs\n",
    "        plot = sns.lineplot(data=df_results, x=\"commit\", y=\"CI_min\", color=\"royalblue\", zorder=2)\n",
    "        plot = sns.lineplot(data=df_results, x=\"commit\", y=\"CI_max\", color=\"royalblue\", zorder=2)\n",
    "        x_commits = df_results.commit\n",
    "        plot.fill_between(x=x_commits, y1=df_results.CI_min, y2=df_results.CI_max, facecolor =fillColor, zorder=1)\n",
    "\n",
    "        #Plot Median line\n",
    "        plot = sns.lineplot(data=df_results, x=\"commit\", y=\"Median\", color=\"black\")\n",
    "\n",
    "        #PLot Up&Down Changes\n",
    "        ups = df_results.loc[(df_results['jump'].astype(str).str.startswith(\"potential up\", na=False))]\n",
    "        plot = sns.regplot(data=ups,x=\"commit\", y=\"Median\", marker=\"^\", fit_reg=False, scatter_kws={\"color\":\"orange\",\"alpha\":1,\"s\":jumpSize, \"zorder\":3, 'edgecolor':edgeColor})\n",
    "        ups = df_results.loc[(df_results['jump'].astype(str).str.startswith(\"definite up\", na=False))]\n",
    "        plot = sns.regplot(data=ups,x=\"commit\", y=\"Median\", marker=\"^\", fit_reg=False, scatter_kws={\"color\":\"red\",\"alpha\":1,\"s\":jumpSize, \"zorder\":3, 'edgecolor':edgeColor})\n",
    "\n",
    "        ups = df_results.loc[(df_results['trend'].astype(str).str.startswith(\"potential up\", na=False))]\n",
    "        plot = sns.regplot(data=ups,x=\"commit\", y=\"Median\", marker=uptrendMarker, fit_reg=False, scatter_kws={\"color\":\"orange\",\"alpha\":1,\"s\":trendSize, \"zorder\":3, 'edgecolor':edgeColor})\n",
    "        ups = df_results.loc[(df_results['trend'].astype(str).str.startswith(\"definite up\", na=False))]\n",
    "        plot = sns.regplot(data=ups,x=\"commit\", y=\"Median\", marker=uptrendMarker, fit_reg=False, scatter_kws={\"color\":\"red\",\"alpha\":1,\"s\":trendSize, \"zorder\":3, 'edgecolor':edgeColor})\n",
    "\n",
    "        downs = df_results.loc[(df_results['jump'].astype(str).str.startswith(\"potential down\", na=False))]\n",
    "        plot = sns.regplot(data=downs,x=\"commit\", y=\"Median\", marker=\"v\", fit_reg=False, scatter_kws={\"color\":\"orange\",\"alpha\":1,\"s\":jumpSize, \"zorder\":3, 'edgecolor':edgeColor})\n",
    "        downs = df_results.loc[(df_results['jump'].astype(str).str.startswith(\"definite down\", na=False))]\n",
    "        plot = sns.regplot(data=downs,x=\"commit\", y=\"Median\", marker=\"v\", fit_reg=False, scatter_kws={\"color\":\"red\",\"alpha\":1,\"s\":jumpSize, \"zorder\":3, 'edgecolor':edgeColor})\n",
    "\n",
    "        downs = df_results.loc[(df_results['trend'].astype(str).str.startswith(\"potential down\", na=False))]\n",
    "        plot = sns.regplot(data=downs,x=\"commit\", y=\"Median\", marker=downtrendMarker, fit_reg=False, scatter_kws={\"color\":\"orange\",\"alpha\":1,\"s\":trendSize, \"zorder\":3, 'edgecolor':edgeColor})\n",
    "        downs = df_results.loc[(df_results['trend'].astype(str).str.startswith(\"definite down\", na=False))]\n",
    "        plot = sns.regplot(data=downs,x=\"commit\", y=\"Median\", marker=downtrendMarker, fit_reg=False, scatter_kws={\"color\":\"red\",\"alpha\":1,\"s\":trendSize, \"zorder\":3, 'edgecolor':edgeColor})\n",
    "\n",
    "        legend_elements = [\n",
    "            Line2D([0], [0], color='black', lw=1, label='Median Performance Change'),\n",
    "            mpatches.Patch(color=fillColor, label='99% Confidence Interval'),\n",
    "            Line2D([0], [0], marker='^', color='w', label='Potential Performance Jump (Up)', markerfacecolor='orange', markeredgecolor=edgeColor, markersize=16),\n",
    "            Line2D([0], [0], marker='v', color='w', label='Definite Performance Jump (Down)', markerfacecolor='red', markeredgecolor=edgeColor, markersize=16),\n",
    "            Line2D([0], [0], marker=uptrendMarker, color='w', label='Potential Performance Trend (Up)', markerfacecolor='orange', markeredgecolor=edgeColor, markersize=16),\n",
    "            Line2D([0], [0], marker=downtrendMarker, color='w', label='Definite Performance Trend (Down)', markerfacecolor='red', markeredgecolor=edgeColor, markersize=16)\n",
    "        ]\n",
    "\n",
    "        plot.legend(fontsize=\"medium\", loc=1, title='', handles=legend_elements, labelspacing=0.8)\n",
    "\n",
    "\n",
    "        plot.set(ylim=(min, max))\n",
    "        plt.savefig(f'{foldername}/plots/{name}.png')\n",
    "        plt.clf()\n"
   ],
   "metadata": {
    "collapsed": false,
    "pycharm": {
     "name": "#%%\n"
    }
   }
  }
 ],
 "metadata": {
  "kernelspec": {
   "display_name": "Python 3",
   "language": "python",
   "name": "python3"
  },
  "language_info": {
   "codemirror_mode": {
    "name": "ipython",
    "version": 2
   },
   "file_extension": ".py",
   "mimetype": "text/x-python",
   "name": "python",
   "nbconvert_exporter": "python",
   "pygments_lexer": "ipython2",
   "version": "2.7.6"
  }
 },
 "nbformat": 4,
 "nbformat_minor": 0
}