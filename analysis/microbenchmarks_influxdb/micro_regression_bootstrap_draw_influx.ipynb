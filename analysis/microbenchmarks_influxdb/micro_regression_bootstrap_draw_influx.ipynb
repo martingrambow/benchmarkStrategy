{
 "cells": [
  {
   "cell_type": "code",
   "execution_count": 5,
   "metadata": {
    "collapsed": true
   },
   "outputs": [],
   "source": [
    "import pandas as pd\n",
    "import glob\n",
    "import matplotlib.pyplot as plt\n",
    "import seaborn as sns\n",
    "sns.set()"
   ]
  },
  {
   "cell_type": "code",
   "execution_count": 6,
   "outputs": [],
   "source": [
    "foldername = \"../../results_all/micro_bootstrapping_influx_opti\"\n",
    "outfilename = \"../../results_aggr/micro_volatility_influx_opti.csv\"\n",
    "\n",
    "#foldername = \"../../results_all/micro_bootstrapping_influx\"\n",
    "#outfilename = \"../../results_aggr/micro_volatility_influx.csv\""
   ],
   "metadata": {
    "collapsed": false,
    "pycharm": {
     "name": "#%%\n"
    }
   }
  },
  {
   "cell_type": "code",
   "execution_count": 7,
   "outputs": [],
   "source": [
    "variances = []"
   ],
   "metadata": {
    "collapsed": false,
    "pycharm": {
     "name": "#%%\n"
    }
   }
  },
  {
   "cell_type": "code",
   "execution_count": 8,
   "outputs": [
    {
     "name": "stdout",
     "output_type": "stream",
     "text": [
      "Find Variance for BenchmarkAppendUnescaped-2\n",
      "Plotting benchmark BenchmarkAppendUnescaped-2\n"
     ]
    },
    {
     "ename": "KeyError",
     "evalue": "'change'",
     "output_type": "error",
     "traceback": [
      "\u001B[1;31m---------------------------------------------------------------------------\u001B[0m",
      "\u001B[1;31mKeyError\u001B[0m                                  Traceback (most recent call last)",
      "\u001B[1;32m~\\.conda\\envs\\BeFaaS-analysis\\lib\\site-packages\\pandas\\core\\indexes\\base.py\u001B[0m in \u001B[0;36mget_loc\u001B[1;34m(self, key, method, tolerance)\u001B[0m\n\u001B[0;32m   2897\u001B[0m             \u001B[1;32mtry\u001B[0m\u001B[1;33m:\u001B[0m\u001B[1;33m\u001B[0m\u001B[1;33m\u001B[0m\u001B[0m\n\u001B[1;32m-> 2898\u001B[1;33m                 \u001B[1;32mreturn\u001B[0m \u001B[0mself\u001B[0m\u001B[1;33m.\u001B[0m\u001B[0m_engine\u001B[0m\u001B[1;33m.\u001B[0m\u001B[0mget_loc\u001B[0m\u001B[1;33m(\u001B[0m\u001B[0mcasted_key\u001B[0m\u001B[1;33m)\u001B[0m\u001B[1;33m\u001B[0m\u001B[1;33m\u001B[0m\u001B[0m\n\u001B[0m\u001B[0;32m   2899\u001B[0m             \u001B[1;32mexcept\u001B[0m \u001B[0mKeyError\u001B[0m \u001B[1;32mas\u001B[0m \u001B[0merr\u001B[0m\u001B[1;33m:\u001B[0m\u001B[1;33m\u001B[0m\u001B[1;33m\u001B[0m\u001B[0m\n",
      "\u001B[1;32mpandas\\_libs\\index.pyx\u001B[0m in \u001B[0;36mpandas._libs.index.IndexEngine.get_loc\u001B[1;34m()\u001B[0m\n",
      "\u001B[1;32mpandas\\_libs\\index.pyx\u001B[0m in \u001B[0;36mpandas._libs.index.IndexEngine.get_loc\u001B[1;34m()\u001B[0m\n",
      "\u001B[1;32mpandas\\_libs\\hashtable_class_helper.pxi\u001B[0m in \u001B[0;36mpandas._libs.hashtable.PyObjectHashTable.get_item\u001B[1;34m()\u001B[0m\n",
      "\u001B[1;32mpandas\\_libs\\hashtable_class_helper.pxi\u001B[0m in \u001B[0;36mpandas._libs.hashtable.PyObjectHashTable.get_item\u001B[1;34m()\u001B[0m\n",
      "\u001B[1;31mKeyError\u001B[0m: 'change'",
      "\nThe above exception was the direct cause of the following exception:\n",
      "\u001B[1;31mKeyError\u001B[0m                                  Traceback (most recent call last)",
      "\u001B[1;32m<ipython-input-8-8989008cd221>\u001B[0m in \u001B[0;36m<module>\u001B[1;34m\u001B[0m\n\u001B[0;32m     74\u001B[0m \u001B[1;33m\u001B[0m\u001B[0m\n\u001B[0;32m     75\u001B[0m         \u001B[1;31m#PLot Up&Down Changes\u001B[0m\u001B[1;33m\u001B[0m\u001B[1;33m\u001B[0m\u001B[1;33m\u001B[0m\u001B[0m\n\u001B[1;32m---> 76\u001B[1;33m         \u001B[0mups\u001B[0m \u001B[1;33m=\u001B[0m \u001B[0mdf_results\u001B[0m\u001B[1;33m.\u001B[0m\u001B[0mloc\u001B[0m\u001B[1;33m[\u001B[0m\u001B[1;33m(\u001B[0m\u001B[0mdf_results\u001B[0m\u001B[1;33m[\u001B[0m\u001B[1;34m'change'\u001B[0m\u001B[1;33m]\u001B[0m\u001B[1;33m.\u001B[0m\u001B[0mastype\u001B[0m\u001B[1;33m(\u001B[0m\u001B[0mstr\u001B[0m\u001B[1;33m)\u001B[0m\u001B[1;33m.\u001B[0m\u001B[0mstr\u001B[0m\u001B[1;33m.\u001B[0m\u001B[0mstartswith\u001B[0m\u001B[1;33m(\u001B[0m\u001B[1;34m\"Up\"\u001B[0m\u001B[1;33m,\u001B[0m \u001B[0mna\u001B[0m\u001B[1;33m=\u001B[0m\u001B[1;32mTrue\u001B[0m\u001B[1;33m)\u001B[0m\u001B[1;33m)\u001B[0m\u001B[1;33m]\u001B[0m\u001B[1;33m\u001B[0m\u001B[1;33m\u001B[0m\u001B[0m\n\u001B[0m\u001B[0;32m     77\u001B[0m         \u001B[1;32mif\u001B[0m \u001B[1;33m(\u001B[0m\u001B[0mlen\u001B[0m\u001B[1;33m(\u001B[0m\u001B[0mups\u001B[0m\u001B[1;33m)\u001B[0m \u001B[1;33m>\u001B[0m \u001B[1;36m0\u001B[0m\u001B[1;33m)\u001B[0m\u001B[1;33m:\u001B[0m\u001B[1;33m\u001B[0m\u001B[1;33m\u001B[0m\u001B[0m\n\u001B[0;32m     78\u001B[0m             \u001B[0mplot\u001B[0m \u001B[1;33m=\u001B[0m \u001B[0msns\u001B[0m\u001B[1;33m.\u001B[0m\u001B[0mregplot\u001B[0m\u001B[1;33m(\u001B[0m\u001B[0mdata\u001B[0m\u001B[1;33m=\u001B[0m\u001B[0mups\u001B[0m\u001B[1;33m,\u001B[0m \u001B[0mx\u001B[0m\u001B[1;33m=\u001B[0m\u001B[0mups\u001B[0m\u001B[1;33m.\u001B[0m\u001B[0mindex\u001B[0m\u001B[1;33m,\u001B[0m \u001B[0my\u001B[0m\u001B[1;33m=\u001B[0m\u001B[1;34m\"medianPerfChange\"\u001B[0m\u001B[1;33m,\u001B[0m \u001B[0mmarker\u001B[0m\u001B[1;33m=\u001B[0m\u001B[1;34m\"^\"\u001B[0m\u001B[1;33m,\u001B[0m \u001B[0mfit_reg\u001B[0m\u001B[1;33m=\u001B[0m\u001B[1;32mFalse\u001B[0m\u001B[1;33m,\u001B[0m \u001B[0mscatter_kws\u001B[0m\u001B[1;33m=\u001B[0m\u001B[1;33m{\u001B[0m\u001B[1;34m\"color\"\u001B[0m\u001B[1;33m:\u001B[0m\u001B[1;34m\"black\"\u001B[0m\u001B[1;33m,\u001B[0m\u001B[1;34m\"alpha\"\u001B[0m\u001B[1;33m:\u001B[0m\u001B[1;36m1\u001B[0m\u001B[1;33m,\u001B[0m\u001B[1;34m\"s\"\u001B[0m\u001B[1;33m:\u001B[0m\u001B[1;36m300\u001B[0m\u001B[1;33m}\u001B[0m\u001B[1;33m)\u001B[0m\u001B[1;33m\u001B[0m\u001B[1;33m\u001B[0m\u001B[0m\n",
      "\u001B[1;32m~\\.conda\\envs\\BeFaaS-analysis\\lib\\site-packages\\pandas\\core\\frame.py\u001B[0m in \u001B[0;36m__getitem__\u001B[1;34m(self, key)\u001B[0m\n\u001B[0;32m   2904\u001B[0m             \u001B[1;32mif\u001B[0m \u001B[0mself\u001B[0m\u001B[1;33m.\u001B[0m\u001B[0mcolumns\u001B[0m\u001B[1;33m.\u001B[0m\u001B[0mnlevels\u001B[0m \u001B[1;33m>\u001B[0m \u001B[1;36m1\u001B[0m\u001B[1;33m:\u001B[0m\u001B[1;33m\u001B[0m\u001B[1;33m\u001B[0m\u001B[0m\n\u001B[0;32m   2905\u001B[0m                 \u001B[1;32mreturn\u001B[0m \u001B[0mself\u001B[0m\u001B[1;33m.\u001B[0m\u001B[0m_getitem_multilevel\u001B[0m\u001B[1;33m(\u001B[0m\u001B[0mkey\u001B[0m\u001B[1;33m)\u001B[0m\u001B[1;33m\u001B[0m\u001B[1;33m\u001B[0m\u001B[0m\n\u001B[1;32m-> 2906\u001B[1;33m             \u001B[0mindexer\u001B[0m \u001B[1;33m=\u001B[0m \u001B[0mself\u001B[0m\u001B[1;33m.\u001B[0m\u001B[0mcolumns\u001B[0m\u001B[1;33m.\u001B[0m\u001B[0mget_loc\u001B[0m\u001B[1;33m(\u001B[0m\u001B[0mkey\u001B[0m\u001B[1;33m)\u001B[0m\u001B[1;33m\u001B[0m\u001B[1;33m\u001B[0m\u001B[0m\n\u001B[0m\u001B[0;32m   2907\u001B[0m             \u001B[1;32mif\u001B[0m \u001B[0mis_integer\u001B[0m\u001B[1;33m(\u001B[0m\u001B[0mindexer\u001B[0m\u001B[1;33m)\u001B[0m\u001B[1;33m:\u001B[0m\u001B[1;33m\u001B[0m\u001B[1;33m\u001B[0m\u001B[0m\n\u001B[0;32m   2908\u001B[0m                 \u001B[0mindexer\u001B[0m \u001B[1;33m=\u001B[0m \u001B[1;33m[\u001B[0m\u001B[0mindexer\u001B[0m\u001B[1;33m]\u001B[0m\u001B[1;33m\u001B[0m\u001B[1;33m\u001B[0m\u001B[0m\n",
      "\u001B[1;32m~\\.conda\\envs\\BeFaaS-analysis\\lib\\site-packages\\pandas\\core\\indexes\\base.py\u001B[0m in \u001B[0;36mget_loc\u001B[1;34m(self, key, method, tolerance)\u001B[0m\n\u001B[0;32m   2898\u001B[0m                 \u001B[1;32mreturn\u001B[0m \u001B[0mself\u001B[0m\u001B[1;33m.\u001B[0m\u001B[0m_engine\u001B[0m\u001B[1;33m.\u001B[0m\u001B[0mget_loc\u001B[0m\u001B[1;33m(\u001B[0m\u001B[0mcasted_key\u001B[0m\u001B[1;33m)\u001B[0m\u001B[1;33m\u001B[0m\u001B[1;33m\u001B[0m\u001B[0m\n\u001B[0;32m   2899\u001B[0m             \u001B[1;32mexcept\u001B[0m \u001B[0mKeyError\u001B[0m \u001B[1;32mas\u001B[0m \u001B[0merr\u001B[0m\u001B[1;33m:\u001B[0m\u001B[1;33m\u001B[0m\u001B[1;33m\u001B[0m\u001B[0m\n\u001B[1;32m-> 2900\u001B[1;33m                 \u001B[1;32mraise\u001B[0m \u001B[0mKeyError\u001B[0m\u001B[1;33m(\u001B[0m\u001B[0mkey\u001B[0m\u001B[1;33m)\u001B[0m \u001B[1;32mfrom\u001B[0m \u001B[0merr\u001B[0m\u001B[1;33m\u001B[0m\u001B[1;33m\u001B[0m\u001B[0m\n\u001B[0m\u001B[0;32m   2901\u001B[0m \u001B[1;33m\u001B[0m\u001B[0m\n\u001B[0;32m   2902\u001B[0m         \u001B[1;32mif\u001B[0m \u001B[0mtolerance\u001B[0m \u001B[1;32mis\u001B[0m \u001B[1;32mnot\u001B[0m \u001B[1;32mNone\u001B[0m\u001B[1;33m:\u001B[0m\u001B[1;33m\u001B[0m\u001B[1;33m\u001B[0m\u001B[0m\n",
      "\u001B[1;31mKeyError\u001B[0m: 'change'"
     ]
    },
    {
     "data": {
      "text/plain": "<Figure size 432x288 with 1 Axes>",
      "image/png": "[encoded data removed]"
     },
     "metadata": {},
     "output_type": "display_data"
    }
   ],
   "source": [
    "\n",
    "all_files = glob.glob(foldername + \"/*\")\n",
    "for file in all_files:\n",
    "    # Check if it's a csv file\n",
    "    if (str(file).endswith(\".csv\")):\n",
    "\n",
    "        df_results = pd.read_csv(file, sep=\";\", usecols=['number','medianPerfChange',\n",
    "                                                         'minSmall', 'maxSmall',\n",
    "                                                         \"change\"], index_col=\"number\")\n",
    "\n",
    "        nameparts=str(file).split(\"\\\\\")\n",
    "        name = nameparts[1]\n",
    "        name = name[:-4]\n",
    "\n",
    "        print(f\"Find Variance for {name}\")\n",
    "        for index, row in df_results.iterrows():\n",
    "            min = row[\"minSmall\"]\n",
    "            max = row[\"maxSmall\"]\n",
    "            var = max - min\n",
    "            type = \"< 1%\"\n",
    "            if var > 1:\n",
    "                type = \"1% - 2%\"\n",
    "            if var > 2:\n",
    "                type = \"2% - 3%\"\n",
    "            if var > 3:\n",
    "                type = \"3% - 4%\"\n",
    "            if var > 4:\n",
    "                type = \"4% - 5%\"\n",
    "            if var > 5:\n",
    "                type = \"5% - 6%\"\n",
    "            if var > 6:\n",
    "                type = \"6% - 7%\"\n",
    "            if var > 7:\n",
    "                type = \"7% - 8%\"\n",
    "            if var > 8:\n",
    "                type = \"8% - 9%\"\n",
    "            if var > 9:\n",
    "                type = \"9% - 10%\"\n",
    "            if var > 10:\n",
    "                type = \"> 10%\"\n",
    "\n",
    "\n",
    "            variances.append({\n",
    "                \"name\" : name,\n",
    "                \"var\" : var,\n",
    "                \"volatility\": type\n",
    "\n",
    "            })\n",
    "\n",
    "\n",
    "        print(f\"Plotting benchmark {name}\")\n",
    "        #Find % set y-limits\n",
    "        min = -5\n",
    "        max = 5\n",
    "        for minSmall in df_results.minSmall.unique():\n",
    "            if minSmall < min:\n",
    "                min = minSmall\n",
    "\n",
    "        for maxSmall in df_results.maxSmall.unique():\n",
    "            if maxSmall > max:\n",
    "                max = maxSmall\n",
    "\n",
    "\n",
    "        sns.set(style=\"whitegrid\")\n",
    "        axes = plt.axes()\n",
    "        axes.set_ylim([min, max])\n",
    "\n",
    "        #Plot CIs\n",
    "        plot = sns.lineplot(data=df_results, x=\"number\", y=\"minSmall\", color=\"royalblue\")\n",
    "        plot = sns.lineplot(data=df_results, x=\"number\", y=\"maxSmall\", color=\"royalblue\")\n",
    "        x_commits = df_results.index\n",
    "        plot.fill_between(x=x_commits, y1=df_results.minSmall, y2=df_results.maxSmall, facecolor = 'lightblue')\n",
    "\n",
    "        #Plot Median Change\n",
    "        plot = sns.lineplot(data=df_results, x=\"number\", y=\"medianPerfChange\", color=\"red\")\n",
    "\n",
    "        #PLot Up&Down Changes\n",
    "        ups = df_results.loc[(df_results['change'].astype(str).str.startswith(\"Up\", na=True))]\n",
    "        if (len(ups) > 0):\n",
    "            plot = sns.regplot(data=ups, x=ups.index, y=\"medianPerfChange\", marker=\"^\", fit_reg=False, scatter_kws={\"color\":\"black\",\"alpha\":1,\"s\":300})\n",
    "        downs = df_results.loc[(df_results['change'].astype(str).str.startswith(\"Down\", na=True))]\n",
    "        if (len(downs) > 0):\n",
    "            plot = sns.regplot(data=downs, x=downs.index, y=\"medianPerfChange\", marker=\"v\", fit_reg=False, scatter_kws={\"color\":\"black\",\"alpha\":1,\"s\":300})\n",
    "\n",
    "        plot.set(ylim=(min, max))\n",
    "        plt.savefig(f'{foldername}/plots/{name}.png')\n",
    "        plt.clf()"
   ],
   "metadata": {
    "collapsed": false,
    "pycharm": {
     "name": "#%%\n"
    }
   }
  },
  {
   "cell_type": "code",
   "execution_count": null,
   "outputs": [],
   "source": [
    "# Convert to data frame\n",
    "df_result = pd.DataFrame(variances)\n",
    "df_result.to_csv(outfilename)"
   ],
   "metadata": {
    "collapsed": false,
    "pycharm": {
     "name": "#%%\n"
    }
   }
  },
  {
   "cell_type": "code",
   "execution_count": null,
   "outputs": [],
   "source": [
    "df_vars = pd.DataFrame(variances)\n",
    "#sns.displot(df_vars, x=\"var\", bins=[5,10,15,20,30,40,50,60,70,80,90,100,110,120,130,140,150])\n",
    "sns.displot(df_vars, x=\"var\", binwidth=1)"
   ],
   "metadata": {
    "collapsed": false,
    "pycharm": {
     "name": "#%%\n"
    }
   }
  },
  {
   "cell_type": "code",
   "execution_count": null,
   "outputs": [],
   "source": [
    "sns.displot(df_vars, x=\"volatility\", binwidth=1)"
   ],
   "metadata": {
    "collapsed": false,
    "pycharm": {
     "name": "#%%\n"
    }
   }
  },
  {
   "cell_type": "code",
   "execution_count": null,
   "outputs": [],
   "source": [
    "sns.catplot(x=\"volatility\", kind=\"count\", data=df_vars, height=5, aspect=2,\n",
    "            order=[\"< 1%\",\n",
    "                   \"1% - 2%\",\n",
    "                   \"2% - 3%\",\n",
    "                   \"3% - 4%\",\n",
    "                   \"4% - 5%\",\n",
    "                   \"5% - 6%\",\n",
    "                   \"6% - 7%\",\n",
    "                   \"7% - 8%\",\n",
    "                   \"8% - 9%\",\n",
    "                   \"9% - 10%\",\n",
    "                   \"> 10%\"])"
   ],
   "metadata": {
    "collapsed": false,
    "pycharm": {
     "name": "#%%\n"
    }
   }
  }
 ],
 "metadata": {
  "kernelspec": {
   "display_name": "Python 3",
   "language": "python",
   "name": "python3"
  },
  "language_info": {
   "codemirror_mode": {
    "name": "ipython",
    "version": 2
   },
   "file_extension": ".py",
   "mimetype": "text/x-python",
   "name": "python",
   "nbconvert_exporter": "python",
   "pygments_lexer": "ipython2",
   "version": "2.7.6"
  }
 },
 "nbformat": 4,
 "nbformat_minor": 0
}