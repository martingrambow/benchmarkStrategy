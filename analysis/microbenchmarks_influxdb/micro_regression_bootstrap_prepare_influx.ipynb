{
 "cells": [
  {
   "cell_type": "code",
   "execution_count": 19,
   "outputs": [],
   "source": [
    "import pandas as pd\n",
    "import glob\n",
    "import os\n",
    "import seaborn as sns\n",
    "sns.set()"
   ],
   "metadata": {
    "collapsed": false,
    "pycharm": {
     "name": "#%%\n"
    }
   }
  },
  {
   "cell_type": "code",
   "execution_count": 20,
   "outputs": [],
   "source": [
    "debug = False\n",
    "folder = os.path.join(\"..\", \"..\",\"results_all\", \"micro_history_full_influxdb\", \"commit15\")\n",
    "outputFile = \"../../results_all/micro_history_full_influxdb.csv\""
   ],
   "metadata": {
    "collapsed": false,
    "pycharm": {
     "name": "#%%\n"
    }
   }
  },
  {
   "cell_type": "code",
   "execution_count": 21,
   "outputs": [],
   "source": [
    "def load_microbench_csv(path: str) -> pd.DataFrame:\n",
    "    \"\"\"load csv and do some basic preprocess(some benchmark names are broken)\n",
    "    \"\"\"\n",
    "\n",
    "\n",
    "    df: pd.DataFrame = pd.read_csv(path,header=None,\n",
    "                        names=[\n",
    "                            \"suiteRun\",\n",
    "                            \"baseline\",\n",
    "                            \"path\",\n",
    "                            \"name\",\n",
    "                            \"version\",\n",
    "                            \"invocations\",\n",
    "                            \"runtime\"],\n",
    "                    sep=\";\")\n",
    "\n",
    "\n",
    "    df = df[['name', 'suiteRun', 'path', 'version','runtime','invocations']]\n",
    "\n",
    "    df.sort_values(by=[\"name\"], inplace=True)\n",
    "    df = df.assign(suiteRun=df['suiteRun'].str.extract(r\"(?P<suiteRun>\\d)-[\\d]-[\\d]\", expand=False))\n",
    "    df = df.assign(name=df['name'].str.strip('\\\"'))\n",
    "\n",
    "    df['version'] = df['version'].apply(pd.to_numeric)\n",
    "    df['suiteRun'] = df['suiteRun'].apply(pd.to_numeric)\n",
    "\n",
    "    return df\n",
    "\n",
    "\n",
    "def aggregate_data(df: pd.DataFrame) -> list:\n",
    "    group: pd.DataFrame\n",
    "    instanceRun = df['instanceRun'].sample().values\n",
    "    errorCounter = [[0 for x in range(3)] for y in range(2)]\n",
    "\n",
    "\n",
    "    aggr = []\n",
    "    groupBy: pd.core.groupby.DataFrameGroupBy = df.groupby([\"suiteRun\", \"path\", \"name\"])\n",
    "    for names, group in groupBy:\n",
    "        if debug:\n",
    "            print(f\" Aggregating values for benchmark benchmark{names[2]} with path{names[1]} in run {names[0]}\")\n",
    "\n",
    "        df1 = group[group['version'] == 1]\n",
    "        df2 = group[group['version'] == 2]\n",
    "        #There must be 5 values in each dataframe (5 iterations)\n",
    "        error = False\n",
    "        if not len(df1) == 5:\n",
    "            print(f\"  There are {len(df1)} elements for version 1, \"\n",
    "            f\"experimentRun: {instanceRun}, suiteRun: {names[0]}, commitNumber: {commitNumber}, \"\n",
    "            f\"path: {names[1]}, name: {names[2]}\")\n",
    "            error = True\n",
    "            errorCounter[0][int(names[0])] += 1\n",
    "        if not len(df2) == 5:\n",
    "            print(f\"  There are {len(df2)} elements for version 2, \"\n",
    "            f\"experimentRun: {instanceRun}, suiteRun: {names[0]}, commitNumber: {commitNumber}, \"\n",
    "            f\"path: {names[1]}, name: {names[2]}\")\n",
    "            error = True\n",
    "            errorCounter[1][int(names[0])] += 1\n",
    "        #Find median\n",
    "        if not error:\n",
    "            aggr.append(group)\n",
    "\n",
    "    print(f\"  Found {len(groupBy)} benchmarks\")\n",
    "    print(f\"  Errorcounter ([version1], [version2]): {errorCounter}\")\n",
    "\n",
    "\n",
    "    return aggr"
   ],
   "metadata": {
    "collapsed": false,
    "pycharm": {
     "name": "#%%\n"
    }
   }
  },
  {
   "cell_type": "code",
   "execution_count": 22,
   "outputs": [
    {
     "name": "stdout",
     "output_type": "stream",
     "text": [
      "only 4 elements in folder ..\\..\\results_all\\micro_history_full_influxdb\\commit15\\run1\\50, skip.\n",
      "Instance Run 1 Number 55 ...\n",
      "  There are 0 elements for version 2, experimentRun: ['1'], suiteRun: 0, commitNumber: 55, path: /tsdb/guard_test.go/BenchmarkGuard, name: BenchmarkGuard/Measurement_Filtered/1-2\n",
      "  There are 0 elements for version 2, experimentRun: ['1'], suiteRun: 0, commitNumber: 55, path: /tsdb/guard_test.go/BenchmarkGuard, name: BenchmarkGuard/Measurement_Filtered/100-2\n",
      "  There are 0 elements for version 2, experimentRun: ['1'], suiteRun: 0, commitNumber: 55, path: /tsdb/guard_test.go/BenchmarkGuard, name: BenchmarkGuard/Measurement_Filtered/10000-2\n",
      "  There are 0 elements for version 2, experimentRun: ['1'], suiteRun: 0, commitNumber: 55, path: /tsdb/guard_test.go/BenchmarkGuard, name: BenchmarkGuard/Tag_Filtered/1-2\n",
      "  There are 0 elements for version 2, experimentRun: ['1'], suiteRun: 0, commitNumber: 55, path: /tsdb/guard_test.go/BenchmarkGuard, name: BenchmarkGuard/Tag_Filtered/100-2\n",
      "  There are 0 elements for version 2, experimentRun: ['1'], suiteRun: 0, commitNumber: 55, path: /tsdb/guard_test.go/BenchmarkGuard, name: BenchmarkGuard/Tag_Filtered/10000-2\n",
      "  There are 0 elements for version 2, experimentRun: ['1'], suiteRun: 0, commitNumber: 55, path: /tsdb/guard_test.go/BenchmarkGuard, name: BenchmarkGuard/Time_Filtered/1-2\n",
      "  There are 0 elements for version 2, experimentRun: ['1'], suiteRun: 0, commitNumber: 55, path: /tsdb/guard_test.go/BenchmarkGuard, name: BenchmarkGuard/Time_Filtered/100-2\n",
      "  There are 0 elements for version 2, experimentRun: ['1'], suiteRun: 0, commitNumber: 55, path: /tsdb/guard_test.go/BenchmarkGuard, name: BenchmarkGuard/Time_Filtered/10000-2\n",
      "  Found 1275 benchmarks\n",
      "  Errorcounter ([version1], [version2]): [[0, 0, 0], [9, 0, 0]]\n",
      "Instance Run 1 Number 60 ...\n",
      "  There are 0 elements for version 1, experimentRun: ['1'], suiteRun: 0, commitNumber: 60, path: /tsdb/guard_test.go/BenchmarkGuard, name: BenchmarkGuard/Measurement_Filtered/1-2\n",
      "  There are 0 elements for version 1, experimentRun: ['1'], suiteRun: 0, commitNumber: 60, path: /tsdb/guard_test.go/BenchmarkGuard, name: BenchmarkGuard/Measurement_Filtered/100-2\n",
      "  There are 0 elements for version 1, experimentRun: ['1'], suiteRun: 0, commitNumber: 60, path: /tsdb/guard_test.go/BenchmarkGuard, name: BenchmarkGuard/Measurement_Filtered/10000-2\n",
      "  There are 0 elements for version 1, experimentRun: ['1'], suiteRun: 0, commitNumber: 60, path: /tsdb/guard_test.go/BenchmarkGuard, name: BenchmarkGuard/Tag_Filtered/1-2\n",
      "  There are 0 elements for version 1, experimentRun: ['1'], suiteRun: 0, commitNumber: 60, path: /tsdb/guard_test.go/BenchmarkGuard, name: BenchmarkGuard/Tag_Filtered/100-2\n",
      "  There are 0 elements for version 1, experimentRun: ['1'], suiteRun: 0, commitNumber: 60, path: /tsdb/guard_test.go/BenchmarkGuard, name: BenchmarkGuard/Tag_Filtered/10000-2\n",
      "  There are 0 elements for version 1, experimentRun: ['1'], suiteRun: 0, commitNumber: 60, path: /tsdb/guard_test.go/BenchmarkGuard, name: BenchmarkGuard/Time_Filtered/1-2\n",
      "  There are 0 elements for version 1, experimentRun: ['1'], suiteRun: 0, commitNumber: 60, path: /tsdb/guard_test.go/BenchmarkGuard, name: BenchmarkGuard/Time_Filtered/100-2\n",
      "  There are 0 elements for version 1, experimentRun: ['1'], suiteRun: 0, commitNumber: 60, path: /tsdb/guard_test.go/BenchmarkGuard, name: BenchmarkGuard/Time_Filtered/10000-2\n",
      "  Found 1245 benchmarks\n",
      "  Errorcounter ([version1], [version2]): [[9, 0, 0], [0, 0, 0]]\n",
      "only 4 elements in folder ..\\..\\results_all\\micro_history_full_influxdb\\commit15\\run2\\50, skip.\n",
      "Instance Run 2 Number 55 ...\n",
      "  There are 0 elements for version 2, experimentRun: ['2'], suiteRun: 0, commitNumber: 55, path: /tsdb/guard_test.go/BenchmarkGuard, name: BenchmarkGuard/Measurement_Filtered/1-2\n",
      "  There are 0 elements for version 2, experimentRun: ['2'], suiteRun: 0, commitNumber: 55, path: /tsdb/guard_test.go/BenchmarkGuard, name: BenchmarkGuard/Measurement_Filtered/100-2\n",
      "  There are 0 elements for version 2, experimentRun: ['2'], suiteRun: 0, commitNumber: 55, path: /tsdb/guard_test.go/BenchmarkGuard, name: BenchmarkGuard/Measurement_Filtered/10000-2\n",
      "  There are 0 elements for version 2, experimentRun: ['2'], suiteRun: 0, commitNumber: 55, path: /tsdb/guard_test.go/BenchmarkGuard, name: BenchmarkGuard/Tag_Filtered/1-2\n",
      "  There are 0 elements for version 2, experimentRun: ['2'], suiteRun: 0, commitNumber: 55, path: /tsdb/guard_test.go/BenchmarkGuard, name: BenchmarkGuard/Tag_Filtered/100-2\n",
      "  There are 0 elements for version 2, experimentRun: ['2'], suiteRun: 0, commitNumber: 55, path: /tsdb/guard_test.go/BenchmarkGuard, name: BenchmarkGuard/Tag_Filtered/10000-2\n",
      "  There are 0 elements for version 2, experimentRun: ['2'], suiteRun: 0, commitNumber: 55, path: /tsdb/guard_test.go/BenchmarkGuard, name: BenchmarkGuard/Time_Filtered/1-2\n",
      "  There are 0 elements for version 2, experimentRun: ['2'], suiteRun: 0, commitNumber: 55, path: /tsdb/guard_test.go/BenchmarkGuard, name: BenchmarkGuard/Time_Filtered/100-2\n",
      "  There are 0 elements for version 2, experimentRun: ['2'], suiteRun: 0, commitNumber: 55, path: /tsdb/guard_test.go/BenchmarkGuard, name: BenchmarkGuard/Time_Filtered/10000-2\n",
      "  There are 0 elements for version 1, experimentRun: ['2'], suiteRun: 2, commitNumber: 55, path: /tsdb/guard_test.go/BenchmarkGuard, name: BenchmarkGuard/Measurement_Filtered/1-2\n",
      "  There are 0 elements for version 1, experimentRun: ['2'], suiteRun: 2, commitNumber: 55, path: /tsdb/guard_test.go/BenchmarkGuard, name: BenchmarkGuard/Measurement_Filtered/100-2\n",
      "  There are 0 elements for version 1, experimentRun: ['2'], suiteRun: 2, commitNumber: 55, path: /tsdb/guard_test.go/BenchmarkGuard, name: BenchmarkGuard/Measurement_Filtered/10000-2\n",
      "  There are 0 elements for version 1, experimentRun: ['2'], suiteRun: 2, commitNumber: 55, path: /tsdb/guard_test.go/BenchmarkGuard, name: BenchmarkGuard/Tag_Filtered/1-2\n",
      "  There are 0 elements for version 1, experimentRun: ['2'], suiteRun: 2, commitNumber: 55, path: /tsdb/guard_test.go/BenchmarkGuard, name: BenchmarkGuard/Tag_Filtered/100-2\n",
      "  There are 0 elements for version 1, experimentRun: ['2'], suiteRun: 2, commitNumber: 55, path: /tsdb/guard_test.go/BenchmarkGuard, name: BenchmarkGuard/Tag_Filtered/10000-2\n",
      "  There are 0 elements for version 1, experimentRun: ['2'], suiteRun: 2, commitNumber: 55, path: /tsdb/guard_test.go/BenchmarkGuard, name: BenchmarkGuard/Time_Filtered/1-2\n",
      "  There are 0 elements for version 1, experimentRun: ['2'], suiteRun: 2, commitNumber: 55, path: /tsdb/guard_test.go/BenchmarkGuard, name: BenchmarkGuard/Time_Filtered/100-2\n",
      "  There are 0 elements for version 1, experimentRun: ['2'], suiteRun: 2, commitNumber: 55, path: /tsdb/guard_test.go/BenchmarkGuard, name: BenchmarkGuard/Time_Filtered/10000-2\n",
      "  Found 1275 benchmarks\n",
      "  Errorcounter ([version1], [version2]): [[0, 0, 9], [9, 0, 0]]\n",
      "Instance Run 2 Number 60 ...\n",
      "  There are 0 elements for version 1, experimentRun: ['2'], suiteRun: 2, commitNumber: 60, path: /tsdb/guard_test.go/BenchmarkGuard, name: BenchmarkGuard/Measurement_Filtered/1-2\n",
      "  There are 0 elements for version 1, experimentRun: ['2'], suiteRun: 2, commitNumber: 60, path: /tsdb/guard_test.go/BenchmarkGuard, name: BenchmarkGuard/Measurement_Filtered/100-2\n",
      "  There are 0 elements for version 1, experimentRun: ['2'], suiteRun: 2, commitNumber: 60, path: /tsdb/guard_test.go/BenchmarkGuard, name: BenchmarkGuard/Measurement_Filtered/10000-2\n",
      "  There are 0 elements for version 1, experimentRun: ['2'], suiteRun: 2, commitNumber: 60, path: /tsdb/guard_test.go/BenchmarkGuard, name: BenchmarkGuard/Tag_Filtered/1-2\n",
      "  There are 0 elements for version 1, experimentRun: ['2'], suiteRun: 2, commitNumber: 60, path: /tsdb/guard_test.go/BenchmarkGuard, name: BenchmarkGuard/Tag_Filtered/100-2\n",
      "  There are 0 elements for version 1, experimentRun: ['2'], suiteRun: 2, commitNumber: 60, path: /tsdb/guard_test.go/BenchmarkGuard, name: BenchmarkGuard/Tag_Filtered/10000-2\n",
      "  There are 0 elements for version 1, experimentRun: ['2'], suiteRun: 2, commitNumber: 60, path: /tsdb/guard_test.go/BenchmarkGuard, name: BenchmarkGuard/Time_Filtered/1-2\n",
      "  There are 0 elements for version 1, experimentRun: ['2'], suiteRun: 2, commitNumber: 60, path: /tsdb/guard_test.go/BenchmarkGuard, name: BenchmarkGuard/Time_Filtered/100-2\n",
      "  There are 0 elements for version 1, experimentRun: ['2'], suiteRun: 2, commitNumber: 60, path: /tsdb/guard_test.go/BenchmarkGuard, name: BenchmarkGuard/Time_Filtered/10000-2\n",
      "  Found 1245 benchmarks\n",
      "  Errorcounter ([version1], [version2]): [[0, 0, 9], [0, 0, 0]]\n",
      "only 4 elements in folder ..\\..\\results_all\\micro_history_full_influxdb\\commit15\\run3\\50, skip.\n",
      "Instance Run 3 Number 55 ...\n",
      "  There are 0 elements for version 2, experimentRun: ['3'], suiteRun: 0, commitNumber: 55, path: /tsdb/guard_test.go/BenchmarkGuard, name: BenchmarkGuard/Measurement_Filtered/1-2\n",
      "  There are 0 elements for version 2, experimentRun: ['3'], suiteRun: 0, commitNumber: 55, path: /tsdb/guard_test.go/BenchmarkGuard, name: BenchmarkGuard/Measurement_Filtered/100-2\n",
      "  There are 0 elements for version 2, experimentRun: ['3'], suiteRun: 0, commitNumber: 55, path: /tsdb/guard_test.go/BenchmarkGuard, name: BenchmarkGuard/Measurement_Filtered/10000-2\n",
      "  There are 0 elements for version 2, experimentRun: ['3'], suiteRun: 0, commitNumber: 55, path: /tsdb/guard_test.go/BenchmarkGuard, name: BenchmarkGuard/Tag_Filtered/1-2\n",
      "  There are 0 elements for version 2, experimentRun: ['3'], suiteRun: 0, commitNumber: 55, path: /tsdb/guard_test.go/BenchmarkGuard, name: BenchmarkGuard/Tag_Filtered/100-2\n",
      "  There are 0 elements for version 2, experimentRun: ['3'], suiteRun: 0, commitNumber: 55, path: /tsdb/guard_test.go/BenchmarkGuard, name: BenchmarkGuard/Tag_Filtered/10000-2\n",
      "  There are 0 elements for version 2, experimentRun: ['3'], suiteRun: 0, commitNumber: 55, path: /tsdb/guard_test.go/BenchmarkGuard, name: BenchmarkGuard/Time_Filtered/1-2\n",
      "  There are 0 elements for version 2, experimentRun: ['3'], suiteRun: 0, commitNumber: 55, path: /tsdb/guard_test.go/BenchmarkGuard, name: BenchmarkGuard/Time_Filtered/100-2\n",
      "  There are 0 elements for version 2, experimentRun: ['3'], suiteRun: 0, commitNumber: 55, path: /tsdb/guard_test.go/BenchmarkGuard, name: BenchmarkGuard/Time_Filtered/10000-2\n",
      "  Found 1275 benchmarks\n",
      "  Errorcounter ([version1], [version2]): [[0, 0, 0], [9, 0, 0]]\n",
      "Instance Run 3 Number 60 ...\n",
      "  There are 0 elements for version 2, experimentRun: ['3'], suiteRun: 2, commitNumber: 60, path: /tsdb/guard_test.go/BenchmarkGuard, name: BenchmarkGuard/Measurement_Filtered/1-2\n",
      "  There are 0 elements for version 2, experimentRun: ['3'], suiteRun: 2, commitNumber: 60, path: /tsdb/guard_test.go/BenchmarkGuard, name: BenchmarkGuard/Measurement_Filtered/100-2\n",
      "  There are 0 elements for version 2, experimentRun: ['3'], suiteRun: 2, commitNumber: 60, path: /tsdb/guard_test.go/BenchmarkGuard, name: BenchmarkGuard/Measurement_Filtered/10000-2\n",
      "  There are 0 elements for version 2, experimentRun: ['3'], suiteRun: 2, commitNumber: 60, path: /tsdb/guard_test.go/BenchmarkGuard, name: BenchmarkGuard/Tag_Filtered/1-2\n",
      "  There are 0 elements for version 2, experimentRun: ['3'], suiteRun: 2, commitNumber: 60, path: /tsdb/guard_test.go/BenchmarkGuard, name: BenchmarkGuard/Tag_Filtered/100-2\n",
      "  There are 0 elements for version 2, experimentRun: ['3'], suiteRun: 2, commitNumber: 60, path: /tsdb/guard_test.go/BenchmarkGuard, name: BenchmarkGuard/Tag_Filtered/10000-2\n",
      "  There are 0 elements for version 2, experimentRun: ['3'], suiteRun: 2, commitNumber: 60, path: /tsdb/guard_test.go/BenchmarkGuard, name: BenchmarkGuard/Time_Filtered/1-2\n",
      "  There are 0 elements for version 2, experimentRun: ['3'], suiteRun: 2, commitNumber: 60, path: /tsdb/guard_test.go/BenchmarkGuard, name: BenchmarkGuard/Time_Filtered/100-2\n",
      "  There are 0 elements for version 2, experimentRun: ['3'], suiteRun: 2, commitNumber: 60, path: /tsdb/guard_test.go/BenchmarkGuard, name: BenchmarkGuard/Time_Filtered/10000-2\n",
      "  Found 1245 benchmarks\n",
      "  Errorcounter ([version1], [version2]): [[0, 0, 0], [0, 0, 9]]\n"
     ]
    }
   ],
   "source": [
    "aggr = []\n",
    "\n",
    "all_runs = glob.glob(os.path.join(folder, \"run[0-9]\"))\n",
    "for fullRunFolder in all_runs:\n",
    "    all_numbers = glob.glob(os.path.join(fullRunFolder, \"*\"))\n",
    "    for fullNumberFolder in all_numbers:\n",
    "\n",
    "        all_files = glob.glob(os.path.join(fullNumberFolder, \"*\"))\n",
    "        size = len(all_files)\n",
    "\n",
    "        if size < 6:\n",
    "            print(f\"only {size} elements in folder {fullNumberFolder}, skip.\")\n",
    "        else:\n",
    "            tmp = fullNumberFolder.split(os.sep)\n",
    "\n",
    "            #Parse run and commit number from path structure\n",
    "            instanceRun = tmp[-2][-1]\n",
    "            commitNumber = tmp[-1]\n",
    "            print(f\"Instance Run {instanceRun} Number {commitNumber} ...\")\n",
    "\n",
    "            #Read latency file for both types (old and new)\n",
    "            microbenchs = load_microbench_csv(os.path.join(fullNumberFolder, \"microbenchResults.csv\"))\n",
    "            microbenchs['instanceRun'] = instanceRun\n",
    "            microbenchs['number'] = commitNumber\n",
    "\n",
    "            aggr.extend(aggregate_data(microbenchs))\n",
    "\n",
    "\n",
    "aggr = pd.concat(aggr)\n"
   ],
   "metadata": {
    "collapsed": false,
    "pycharm": {
     "name": "#%%\n"
    }
   }
  },
  {
   "cell_type": "code",
   "execution_count": 23,
   "outputs": [
    {
     "data": {
      "text/plain": "           suiteRun       version       runtime   invocations\ncount  74970.000000  74970.000000  7.497000e+04  7.497000e+04\nmean       1.001200      1.500000  1.069880e+08  1.216247e+07\nstd        0.814784      0.500003  7.101784e+08  3.469358e+07\nmin        0.000000      1.000000  3.742000e+00  1.000000e+00\n25%        0.000000      1.000000  2.569500e+02  1.813825e+04\n50%        1.000000      1.500000  1.569000e+03  7.751470e+05\n75%        2.000000      2.000000  6.614600e+04  4.678601e+06\nmax        2.000000      2.000000  1.780038e+10  3.204647e+08",
      "text/html": "<div>\n<style scoped>\n    .dataframe tbody tr th:only-of-type {\n        vertical-align: middle;\n    }\n\n    .dataframe tbody tr th {\n        vertical-align: top;\n    }\n\n    .dataframe thead th {\n        text-align: right;\n    }\n</style>\n<table border=\"1\" class=\"dataframe\">\n  <thead>\n    <tr style=\"text-align: right;\">\n      <th></th>\n      <th>suiteRun</th>\n      <th>version</th>\n      <th>runtime</th>\n      <th>invocations</th>\n    </tr>\n  </thead>\n  <tbody>\n    <tr>\n      <th>count</th>\n      <td>74970.000000</td>\n      <td>74970.000000</td>\n      <td>7.497000e+04</td>\n      <td>7.497000e+04</td>\n    </tr>\n    <tr>\n      <th>mean</th>\n      <td>1.001200</td>\n      <td>1.500000</td>\n      <td>1.069880e+08</td>\n      <td>1.216247e+07</td>\n    </tr>\n    <tr>\n      <th>std</th>\n      <td>0.814784</td>\n      <td>0.500003</td>\n      <td>7.101784e+08</td>\n      <td>3.469358e+07</td>\n    </tr>\n    <tr>\n      <th>min</th>\n      <td>0.000000</td>\n      <td>1.000000</td>\n      <td>3.742000e+00</td>\n      <td>1.000000e+00</td>\n    </tr>\n    <tr>\n      <th>25%</th>\n      <td>0.000000</td>\n      <td>1.000000</td>\n      <td>2.569500e+02</td>\n      <td>1.813825e+04</td>\n    </tr>\n    <tr>\n      <th>50%</th>\n      <td>1.000000</td>\n      <td>1.500000</td>\n      <td>1.569000e+03</td>\n      <td>7.751470e+05</td>\n    </tr>\n    <tr>\n      <th>75%</th>\n      <td>2.000000</td>\n      <td>2.000000</td>\n      <td>6.614600e+04</td>\n      <td>4.678601e+06</td>\n    </tr>\n    <tr>\n      <th>max</th>\n      <td>2.000000</td>\n      <td>2.000000</td>\n      <td>1.780038e+10</td>\n      <td>3.204647e+08</td>\n    </tr>\n  </tbody>\n</table>\n</div>"
     },
     "execution_count": 23,
     "metadata": {},
     "output_type": "execute_result"
    }
   ],
   "source": [
    "# Convert to data frame\n",
    "df_detail = aggr\n",
    "df_detail.sort_values(by=[\"name\",\"number\", \"instanceRun\",\"suiteRun\"], inplace=True)\n",
    "df_detail.describe()"
   ],
   "metadata": {
    "collapsed": false,
    "pycharm": {
     "name": "#%%\n"
    }
   }
  },
  {
   "cell_type": "code",
   "execution_count": 24,
   "outputs": [],
   "source": [
    "df_detail.to_csv(outputFile, sep=\";\")\n"
   ],
   "metadata": {
    "collapsed": false,
    "pycharm": {
     "name": "#%%\n"
    }
   }
  }
 ],
 "metadata": {
  "kernelspec": {
   "display_name": "Python 3",
   "language": "python",
   "name": "python3"
  },
  "language_info": {
   "codemirror_mode": {
    "name": "ipython",
    "version": 2
   },
   "file_extension": ".py",
   "mimetype": "text/x-python",
   "name": "python",
   "nbconvert_exporter": "python",
   "pygments_lexer": "ipython2",
   "version": "2.7.6"
  }
 },
 "nbformat": 4,
 "nbformat_minor": 0
}